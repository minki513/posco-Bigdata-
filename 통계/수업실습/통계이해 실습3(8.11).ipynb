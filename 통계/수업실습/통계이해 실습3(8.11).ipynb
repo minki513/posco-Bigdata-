{
 "cells": [
  {
   "cell_type": "code",
   "execution_count": 2,
   "id": "f5ffb4f2",
   "metadata": {},
   "outputs": [],
   "source": [
    "import numpy as np\n",
    "from scipy import stats\n",
    "import pandas as pd\n",
    "import statsmodels.api as sm\n",
    "import matplotlib.pyplot as plt\n",
    "import seaborn as sns\n",
    "from statsmodels.stats.proportion import proportions_ztest\n",
    "from scipy.stats import shapiro\n"
   ]
  },
  {
   "cell_type": "markdown",
   "id": "afeeb32f",
   "metadata": {},
   "source": [
    "### p130"
   ]
  },
  {
   "cell_type": "code",
   "execution_count": 9,
   "id": "a5bf3e34",
   "metadata": {},
   "outputs": [
    {
     "name": "stdout",
     "output_type": "stream",
     "text": [
      "1-Sample t-test\n",
      "통계량 : [0.864]\n",
      "p-value : [0.41]\n"
     ]
    }
   ],
   "source": [
    "df = pd.DataFrame({'sample': [74.5, 81.2, 73.8, 82.0, 76.3, 75.7, 80.2, 72.6, 77.9, 82.8]})\n",
    "\n",
    "# 정규성 검정\n",
    "shapiro(df)\n",
    "\n",
    "# 1-sample t-test\n",
    "t_result = stats.ttest_1samp(df, 76.7)\n",
    "\n",
    "## 1-sample t-test의 t값 p값 저장\n",
    "t, p = t_result.statistic.round(3),t_result.pvalue.round(3)\n",
    "\n",
    "## 1-sample t-test의 t값 p값 출력\n",
    "print(\"1-Sample t-test\")\n",
    "print(\"통계량 : {}\".format(t))\n",
    "print(\"p-value : {}\".format(p))\n",
    "\n",
    "# p 값이 0.41 이므로 p > 0.05 이므로 귀무가설을 채택\n",
    "# 즉 개선활동이 고객 만족도 변화를 향상시켰다고 볼 수 없다. "
   ]
  },
  {
   "cell_type": "markdown",
   "id": "69d5126a",
   "metadata": {},
   "source": [
    "### p131"
   ]
  },
  {
   "cell_type": "code",
   "execution_count": 78,
   "id": "f8ddfd4a",
   "metadata": {},
   "outputs": [
    {
     "data": {
      "text/plain": [
       "ShapiroResult(statistic=0.8473217487335205, pvalue=0.0539751797914505)"
      ]
     },
     "execution_count": 78,
     "metadata": {},
     "output_type": "execute_result"
    }
   ],
   "source": [
    "df = pd.DataFrame({'sample': [85.0, 79.0, 79.1, 79.9, 81.6, 78.6, 85.4, 83.4, 78.1, 79.2]})\n",
    "\n",
    "# 정규성 검정\n",
    "shapiro(df)\n",
    "# p > 0.05 이므로 귀무가설 채택\n",
    "# 정규성이 있다"
   ]
  },
  {
   "cell_type": "code",
   "execution_count": 79,
   "id": "8e06aceb",
   "metadata": {},
   "outputs": [
    {
     "name": "stdout",
     "output_type": "stream",
     "text": [
      "1-Sample t-test\n",
      "통계량 : [3.379]\n",
      "p-value : [0.008]\n"
     ]
    }
   ],
   "source": [
    "# 1-sample t-test\n",
    "t_result = stats.ttest_1samp(df, 78.0)\n",
    "\n",
    "## 1-sample t-test의 t값 p값 저장\n",
    "t, p = t_result.statistic.round(3),t_result.pvalue.round(3)\n",
    "\n",
    "## 1-sample t-test의 t값 p값 출력\n",
    "print(\"1-Sample t-test\")\n",
    "print(\"통계량 : {}\".format(t))\n",
    "print(\"p-value : {}\".format(p))\n",
    "\n",
    "#가설 수립 및 유의수준 설정 - 귀무가설 : 평균이 78이다  대립가설 : 평균이 78이 아니다  유의수준 : 0.05\n",
    "# 가설 검정 수행 - 통계량 3.379 / p-value : 0.008\n",
    "# 검정 결과 판단 - p 값이 0.008 이므로 p < 0.05 이므로 대립가설을 채택, 평균이 78이 아니다.\n",
    "# 즉, 개선활동이 고객 만족도 변화를 향상시켰다고 볼 수 있습니다. "
   ]
  },
  {
   "cell_type": "markdown",
   "id": "c0281f7b",
   "metadata": {},
   "source": [
    "### p137"
   ]
  },
  {
   "cell_type": "code",
   "execution_count": 11,
   "id": "4a06df4e",
   "metadata": {},
   "outputs": [
    {
     "data": {
      "text/plain": [
       "ShapiroResult(statistic=0.9094840288162231, pvalue=0.06230909377336502)"
      ]
     },
     "execution_count": 11,
     "metadata": {},
     "output_type": "execute_result"
    }
   ],
   "source": [
    "df1 = pd.DataFrame({'sample': [6, 5, 5, 4, 6, 7, 6, 4, 5, 6, 4, 5, 5, 6, 4, 8, 6, 5, 6, 7]})\n",
    "df2 = pd.DataFrame({'sample': [7, 5, 7, 8, 7, 8, 8, 5, 7, 6, 5, 5, 6, 6, 5, 7, 9, 7, 7, 8]})\n",
    "\n",
    "# 정규성 검정\n",
    "shapiro(df1)  # 정규성이 있다"
   ]
  },
  {
   "cell_type": "code",
   "execution_count": 12,
   "id": "0f67a53b",
   "metadata": {},
   "outputs": [
    {
     "data": {
      "text/plain": [
       "ShapiroResult(statistic=0.8978105783462524, pvalue=0.03752673789858818)"
      ]
     },
     "execution_count": 12,
     "metadata": {},
     "output_type": "execute_result"
    }
   ],
   "source": [
    "# 정규성 검정\n",
    "shapiro(df2)  # 정규성이 없다."
   ]
  },
  {
   "cell_type": "code",
   "execution_count": 13,
   "id": "be5e5b5f",
   "metadata": {},
   "outputs": [
    {
     "data": {
      "text/plain": [
       "LeveneResult(statistic=0.04810126582278468, pvalue=0.8275746090758196)"
      ]
     },
     "execution_count": 13,
     "metadata": {},
     "output_type": "execute_result"
    }
   ],
   "source": [
    "# 등분산성 검정\n",
    "stats.levene(df1['sample'],df2['sample']) # 등분산성이 있다.\n",
    "# stats.bartlett(df1['sample'], df2['sample'])  위랑 같은 코드이다.\n",
    "\n",
    "# p > 0.05\n",
    "# 분산이 같다"
   ]
  },
  {
   "cell_type": "code",
   "execution_count": 80,
   "id": "3ada7b68",
   "metadata": {},
   "outputs": [
    {
     "name": "stdout",
     "output_type": "stream",
     "text": [
      "2-Sample t-test\n",
      "t : 36.532\n",
      "p : 0.0\n"
     ]
    }
   ],
   "source": [
    "t_result = stats.ttest_ind(df1, df2)\n",
    "\n",
    "t, p = t_result.statistic.round(3),t_result.pvalue.round(3)\n",
    "\n",
    "## 2-sample t-test의 t값 p값 출력\n",
    "print(\"2-Sample t-test\")\n",
    "print(\"t : {}\".format(t))\n",
    "print(\"p : {}\".format(p))\n",
    "\n",
    "# p < 0.05 이므로 대립가설 채택 \n",
    "# 즉 고객간에 고객만족도의 차이가 있다. \n",
    "# t 값이 마이너스가 나왔기 떄문에 b 고객의 만족도가 더 크다 "
   ]
  },
  {
   "cell_type": "markdown",
   "id": "221e152d",
   "metadata": {},
   "source": [
    "### p139"
   ]
  },
  {
   "cell_type": "code",
   "execution_count": 15,
   "id": "ea97c7ec",
   "metadata": {},
   "outputs": [
    {
     "data": {
      "text/plain": [
       "ShapiroResult(statistic=0.8425756096839905, pvalue=0.08004552870988846)"
      ]
     },
     "execution_count": 15,
     "metadata": {},
     "output_type": "execute_result"
    }
   ],
   "source": [
    "df1 = pd.DataFrame({'sample': [1.883, 1.715, 1.799, 1.768, 1.711, 1.832, 1.427, 1.344]})\n",
    "df2 = pd.DataFrame({'sample': [1.435, 1.572, 1.486, 1.511, 1.457, 1.548, 1.404, 1.883]})\n",
    "\n",
    "# 정규성 검정\n",
    "shapiro(df1)  # 정규성이 있다  (p > 0.05)"
   ]
  },
  {
   "cell_type": "code",
   "execution_count": 16,
   "id": "822d52e5",
   "metadata": {},
   "outputs": [
    {
     "data": {
      "text/plain": [
       "ShapiroResult(statistic=0.7734811902046204, pvalue=0.014793740585446358)"
      ]
     },
     "execution_count": 16,
     "metadata": {},
     "output_type": "execute_result"
    }
   ],
   "source": [
    "# 정규성 검정\n",
    "shapiro(df2)  # 정규성이 없다. (p < 0.05)"
   ]
  },
  {
   "cell_type": "code",
   "execution_count": 17,
   "id": "7e6e7318",
   "metadata": {},
   "outputs": [
    {
     "data": {
      "text/plain": [
       "LeveneResult(statistic=0.4408416728536036, pvalue=0.5175025061092301)"
      ]
     },
     "execution_count": 17,
     "metadata": {},
     "output_type": "execute_result"
    }
   ],
   "source": [
    "# 등분산성 검정\n",
    "stats.levene(df1['sample'],df2['sample'])\n",
    "# p > 0.05 등분산성이 있다.\n"
   ]
  },
  {
   "cell_type": "code",
   "execution_count": 18,
   "id": "a0ea9428",
   "metadata": {},
   "outputs": [
    {
     "name": "stdout",
     "output_type": "stream",
     "text": [
      "2-Sample t-test\n",
      "t : [1.7]\n",
      "p : [0.111]\n"
     ]
    }
   ],
   "source": [
    "t_result = stats.ttest_ind(df1, df2)\n",
    "\n",
    "t, p = t_result.statistic.round(3),t_result.pvalue.round(3)\n",
    "\n",
    "## 2-sample t-test의 t값 p값 출력\n",
    "print(\"2-Sample t-test\")\n",
    "print(\"t : {}\".format(t))\n",
    "print(\"p : {}\".format(p))\n",
    "\n",
    "# 귀무가설 : A 공급자와 B공급자간에 두께 측정의 차이가 있다\n",
    "# 대립가설 : \n",
    "# p > 0.05 이므로 귀무가설 채택 \n",
    "# 공급자간의 두께 차이가 없다\n",
    "# t 값이 양수 이므로 A공급자의 평균이 더 크다 "
   ]
  },
  {
   "cell_type": "markdown",
   "id": "67ef8c9f",
   "metadata": {},
   "source": [
    "### p140"
   ]
  },
  {
   "cell_type": "code",
   "execution_count": 23,
   "id": "62d5c3d4",
   "metadata": {},
   "outputs": [
    {
     "name": "stdout",
     "output_type": "stream",
     "text": [
      "Paired t-test\n",
      "t : [-5.324]\n",
      "p : [0.]\n"
     ]
    }
   ],
   "source": [
    "df1 = pd.DataFrame({'before': [720,589, 780, 648, 720, 589, 780, 648, 780, 648 ]})\n",
    "df2 = pd.DataFrame({'after': [810, 670, 790, 712, 810, 670, 790, 712, 790, 712]})\n",
    "\n",
    "t_result = stats.ttest_rel(df1, df2)\n",
    "\n",
    "t, p = t_result.statistic.round(3),t_result.pvalue.round(3)\n",
    "\n",
    "# paired t-test의 t값 p값 출력\n",
    "print(\"Paired t-test\")\n",
    "print(\"t : {}\".format(t))\n",
    "print(\"p : {}\".format(p))\n",
    "\n",
    "# 귀무가설 : 평균의 차이가 없다.     대립가설 : 평균의 차이가 있다.\n",
    "# p 값이 0.000 학원 수강 전후의 점수는 차이가 있다고 할 수 있다. \n",
    "# 대립가설 채택\n",
    "# t 값이 음수이므로 학원가기후가 성적이 좋아졌다고 할 수 있다 "
   ]
  },
  {
   "cell_type": "markdown",
   "id": "b90761a5",
   "metadata": {},
   "source": [
    "### p142"
   ]
  },
  {
   "cell_type": "code",
   "execution_count": 24,
   "id": "2aa3b839",
   "metadata": {},
   "outputs": [
    {
     "name": "stdout",
     "output_type": "stream",
     "text": [
      "Paired t-test\n",
      "t : [-2.266]\n",
      "p : [0.05]\n"
     ]
    }
   ],
   "source": [
    "df1 = pd.DataFrame({'before': [720,589, 780, 648, 720, 589, 780, 648, 780, 648 ]})\n",
    "df2 = pd.DataFrame({'after': [710, 580, 787, 712, 750, 600, 782, 670, 790, 680]})\n",
    "\n",
    "t_result = stats.ttest_rel(df1, df2)\n",
    "\n",
    "t, p = t_result.statistic.round(3),t_result.pvalue.round(3)\n",
    "\n",
    "# paired t-test의 t값 p값 출력\n",
    "print(\"Paired t-test\")\n",
    "print(\"t : {}\".format(t))\n",
    "print(\"p : {}\".format(p))\n",
    "\n"
   ]
  },
  {
   "cell_type": "markdown",
   "id": "459c2bb8",
   "metadata": {},
   "source": [
    "### p146"
   ]
  },
  {
   "cell_type": "code",
   "execution_count": null,
   "id": "f9724300",
   "metadata": {},
   "outputs": [],
   "source": [
    "count = 15\n",
    "n_obs = 100\n",
    "value = 0.1\n",
    "\n",
    "\n",
    "stat.pval = proportions_ztest(count, n_obs, value)\n",
    "\n",
    "print(\"1 Proportions test\")\n",
    "print(\"z : {0:0.3f}\".format(stat))\n",
    "print(\"p : {0:0.3f}\".format(pval))\n",
    "\n",
    "# p >0.05 이므로 귀무가설 채택\n",
    "# a제품에 대해 품질개선 결과 기존 대비 사용비율과 차이가 없다.\n"
   ]
  },
  {
   "cell_type": "code",
   "execution_count": 33,
   "id": "df3b066c",
   "metadata": {},
   "outputs": [
    {
     "name": "stdout",
     "output_type": "stream",
     "text": [
      "1 Proportions test\n",
      "z : 4.428\n",
      "p : 0.000\n"
     ]
    }
   ],
   "source": [
    "count = 150\n",
    "n_obs = 1000\n",
    "value = 0.1\n",
    "\n",
    "\n",
    "stat, pval = proportions_ztest(count, n_obs, value)\n",
    "\n",
    "print(\"1 Proportions test\")\n",
    "print(\"z : {0:0.3f}\".format(stat))\n",
    "print(\"p : {0:0.3f}\".format(pval))\n",
    "\n",
    "# p = 0.000 이므로 대립가설 채택\n",
    "# a제품에 대해 품질개선 결과 기존 대비 사용비율과 차이가 있다.\n",
    "# 통계량 z 가 유의 수준에 있다는 뜻이다. = 신뢰구간에서 벗어난다\n",
    "# 고객 만족도가 0.1 보다 좋아진 것이다. \n"
   ]
  },
  {
   "cell_type": "markdown",
   "id": "019eea92",
   "metadata": {},
   "source": [
    "### p 148"
   ]
  },
  {
   "cell_type": "code",
   "execution_count": 37,
   "id": "3d1d61e0",
   "metadata": {},
   "outputs": [
    {
     "name": "stdout",
     "output_type": "stream",
     "text": [
      "1 Proportions test\n",
      "z : -2.041\n",
      "p : 0.041\n"
     ]
    }
   ],
   "source": [
    "count = 40\n",
    "n_obs = 100\n",
    "value = 0.5\n",
    "\n",
    "\n",
    "stat,pval = proportions_ztest(count, n_obs, value)\n",
    "\n",
    "print(\"1 Proportions test\")\n",
    "print(\"z : {0:0.3f}\".format(stat))\n",
    "print(\"p : {0:0.3f}\".format(pval))\n",
    "\n",
    "# p >0.05 이므로 귀무가설 채택\n",
    "# a제품에 대해 품질개선 결과 기존 대비 사용비율과 차이가 없다.\n"
   ]
  },
  {
   "cell_type": "markdown",
   "id": "2aca39e4",
   "metadata": {},
   "source": [
    "### p149"
   ]
  },
  {
   "cell_type": "code",
   "execution_count": 35,
   "id": "4a3d0097",
   "metadata": {},
   "outputs": [
    {
     "name": "stdout",
     "output_type": "stream",
     "text": [
      "2 Proportions test\n",
      "z : 1.553\n",
      "p : 0.120\n"
     ]
    }
   ],
   "source": [
    "count = np.array([4, 1])\n",
    "nobs = np.array([1000, 1200])\n",
    "\n",
    "stat, pval = proportions_ztest(count, nobs)\n",
    "\n",
    "print(\"2 Proportions test\")\n",
    "print(\"z : {0:0.3f}\".format(stat))\n",
    "print(\"p : {0:0.3f}\".format(pval))\n",
    "# p > 0.05 귀무가설 채택\n",
    "# 즉 두 공장의 불량률은 차이가 없다."
   ]
  },
  {
   "cell_type": "code",
   "execution_count": 36,
   "id": "7bc494ea",
   "metadata": {},
   "outputs": [
    {
     "name": "stdout",
     "output_type": "stream",
     "text": [
      "2 Proportions test\n",
      "z : 4.911\n",
      "p : 0.000\n"
     ]
    }
   ],
   "source": [
    "count = np.array([40, 10])\n",
    "nobs = np.array([10000, 12000])\n",
    "\n",
    "stat, pval = proportions_ztest(count, nobs)\n",
    "\n",
    "print(\"2 Proportions test\")\n",
    "print(\"z : {0:0.3f}\".format(stat))\n",
    "print(\"p : {0:0.3f}\".format(pval)) \n",
    "\n",
    "# p = 0.000 대립가설 채택\n",
    "# 즉 두 공장의 불량률은 차이가 있다.\n",
    "# 통계량이 양수 즉, 공장 2가 불량률이 더 크다?"
   ]
  },
  {
   "cell_type": "markdown",
   "id": "f1544c40",
   "metadata": {},
   "source": [
    "### p151"
   ]
  },
  {
   "cell_type": "code",
   "execution_count": 81,
   "id": "5c3e766a",
   "metadata": {},
   "outputs": [
    {
     "name": "stdout",
     "output_type": "stream",
     "text": [
      "2 Proportions test\n",
      "z : 2.073\n",
      "p : 0.038\n"
     ]
    }
   ],
   "source": [
    "count = np.array([14, 5])\n",
    "nobs = np.array([1200, 1200])\n",
    "\n",
    "stat, pval = proportions_ztest(count, nobs)\n",
    "\n",
    "print(\"2 Proportions test\")\n",
    "print(\"z : {0:0.3f}\".format(stat))\n",
    "print(\"p : {0:0.3f}\".format(pval))\n",
    "\n",
    "\n",
    "# 가설 수립 및 유의수준 설정 - 귀무가설 : 두 공장의 불량률은 차이가 없다. / 대립가설 : 두 공장의 불량률은 차이가 있다.\n",
    "# 가설 검정 수행 -통계량 2.703 / p-value : 0.038\n",
    "# 검정결과 판단 - p < 0.05 이므로 대립가설 채택, 두 공장의 불량률은 차이가 있다.\n",
    "# 즉, 두 공정의 불량률이 같다고 할 수 없다. 통계량이 양수 값이므로 A공장의 불량률이 더 높다고 할 수 있다."
   ]
  },
  {
   "cell_type": "markdown",
   "id": "4059b163",
   "metadata": {},
   "source": [
    "### p157"
   ]
  },
  {
   "cell_type": "code",
   "execution_count": 82,
   "id": "daa12287",
   "metadata": {},
   "outputs": [
    {
     "name": "stdout",
     "output_type": "stream",
     "text": [
      "chi-square test\n",
      "chisq : 11.187\n",
      "p : 0.083\n",
      "degree of freedom : 6\n",
      "expected value : \n",
      "[[245.763 281.017 234.576 238.644]\n",
      " [245.763 281.017 234.576 238.644]\n",
      " [233.475 266.966 222.847 226.712]]\n"
     ]
    }
   ],
   "source": [
    "df = pd.DataFrame({'HSG' : [270, 260, 236, 234], 'SS' : [228, 285, 225, 262], 'SPA' : [227, 284, 231, 208]})\n",
    "\n",
    "chi, pval, dof, expected = stats.chi2_contingency(df.T)\n",
    "    \n",
    "print(\"chi-square test\")\n",
    "print(\"chisq : {0:0.3f}\".format(chi))\n",
    "print(\"p : {0:0.3f}\".format(pval))\n",
    "print(\"degree of freedom : {}\".format(dof))\n",
    "print(\"expected value : \\n{}\".format(expected.round(3)))\n",
    "\n",
    "# p > 0.05 귀무가설 채택\n",
    "# 제품간에 이미지의 차이가 있다고 볼 수 없다. "
   ]
  },
  {
   "cell_type": "markdown",
   "id": "b402ded0",
   "metadata": {},
   "source": [
    "### p159"
   ]
  },
  {
   "cell_type": "code",
   "execution_count": 83,
   "id": "d138ffaf",
   "metadata": {},
   "outputs": [
    {
     "name": "stdout",
     "output_type": "stream",
     "text": [
      "chi-square test\n",
      "chisq : 98.274\n",
      "p : 0.000\n",
      "degree pf freedom : 30\n",
      "expected value : \n",
      "[[11.004  8.528 10.454  8.253  7.978  8.803  7.978]\n",
      " [ 8.21   6.362  7.799  6.157  5.952  6.568  5.952]\n",
      " [ 5.24   4.061  4.978  3.93   3.799  4.192  3.799]\n",
      " [ 3.843  2.978  3.651  2.882  2.786  3.074  2.786]\n",
      " [ 1.921  1.489  1.825  1.441  1.393  1.537  1.393]\n",
      " [ 9.782  7.581  9.293  7.336  7.092  7.825  7.092]]\n"
     ]
    }
   ],
   "source": [
    "df = pd.DataFrame({'A': [18,  1, 8, 7, 10, 9, 10], 'B': [8, 2, 14, 5, 5, 9, 4],\n",
    "                   'C': [4, 1, 3, 4, 9, 5, 4],'D': [4, 1, 2, 3, 2, 7, 3],\n",
    "                   'E': [3, 1, 3, 1, 1, 1, 1], 'F': [3, 25, 8, 10, 2, 1, 7]})\n",
    "\n",
    "chi, pval, dof, expected = stats.chi2_contingency(df.T)\n",
    "    \n",
    "print(\"chi-square test\")\n",
    "print(\"chisq : {0:0.3f}\".format(chi))\n",
    "print(\"p : {0:0.3f}\".format(pval))\n",
    "print(\"degree pf freedom : {}\".format(dof))\n",
    "print(\"expected value : \\n{}\".format(expected.round(3)))\n",
    "\n",
    "# p =0.000 대립가설 채택\n",
    "# 제품간에 이미지의 차이가 있다고 볼 수 있다. "
   ]
  },
  {
   "cell_type": "markdown",
   "id": "808bd675",
   "metadata": {},
   "source": [
    "### p165"
   ]
  },
  {
   "cell_type": "code",
   "execution_count": 84,
   "id": "a69b0965",
   "metadata": {},
   "outputs": [
    {
     "name": "stdout",
     "output_type": "stream",
     "text": [
      "one-way\n",
      "F 통계량 : 4.263\n",
      "p-value : 0.025\n"
     ]
    },
    {
     "data": {
      "image/png": "[encoded data removed]",
      "text/plain": [
       "<Figure size 432x288 with 1 Axes>"
      ]
     },
     "metadata": {
      "needs_background": "light"
     },
     "output_type": "display_data"
    }
   ],
   "source": [
    "df = pd.DataFrame({'A': [892, 623, 721, 678, 723, 790, 720, 670, 690, 771],\n",
    "                   'B': [721, 821, 910, 678, 723, 790, 711, 790, 745, 891],\n",
    "                   'C': [621, 915, 888, 721, 894, 834, 841, 912, 845, 889]})\n",
    "df.boxplot(['A', 'B', 'C'])\n",
    "f_result = stats.f_oneway(df['A'],df['B'],df['C'])\n",
    "\n",
    "f,p = f_result.statistic.round(3), f_result.pvalue.round(3)\n",
    "\n",
    "print(\"one-way\")\n",
    "print('F 통계량 : {}'.format(f))\n",
    "print('p-value : {}'.format(p))\n",
    "\n",
    "# 대립가설 채택 \n",
    "# 귀무가설 : 그룹간 평균이 같다.   대립가설 : 그룹간의 평균이 다르다\n",
    "# 그룹간의 평균차이가 있다고 할 수 있다. "
   ]
  },
  {
   "cell_type": "markdown",
   "id": "da9163e2",
   "metadata": {},
   "source": [
    "### p167"
   ]
  },
  {
   "cell_type": "code",
   "execution_count": 34,
   "id": "d67cb93b",
   "metadata": {},
   "outputs": [
    {
     "name": "stdout",
     "output_type": "stream",
     "text": [
      "one-way\n",
      "F 통계량 : 4.172\n",
      "p-value : 0.019\n"
     ]
    },
    {
     "data": {
      "image/png": "[encoded data removed]",
      "text/plain": [
       "<Figure size 432x288 with 1 Axes>"
      ]
     },
     "metadata": {
      "needs_background": "light"
     },
     "output_type": "display_data"
    }
   ],
   "source": [
    "df = pd.DataFrame({'a': [32.2, 30.4, 33.6, 36.4, 33.9, 34.9],\n",
    "                   'b': [33.1, 29.9, 31.7,27.5, 34, 30.7 ],\n",
    "                   'c' : [32.6, 32.7, 29.3, 25.9, 31.1, 23.8],\n",
    "                   'd' : [26.7, 28.5, 30.9, 26.2, 32.3, 23.7]})\n",
    "\n",
    "df.boxplot(['a', 'b', 'c', 'd'])\n",
    "f_result = stats.f_oneway(df['a'],df['b'],df['c'],df['d'])\n",
    "\n",
    "f,p = f_result.statistic.round(3), f_result.pvalue.round(3)\n",
    "\n",
    "print(\"one-way\")\n",
    "print('F 통계량 : {}'.format(f))\n",
    "print('p-value : {}'.format(p))"
   ]
  },
  {
   "cell_type": "code",
   "execution_count": 35,
   "id": "697e7068",
   "metadata": {},
   "outputs": [
    {
     "name": "stdout",
     "output_type": "stream",
     "text": [
      "one-way\n",
      "F 통계량 : 9.654\n",
      "p-value : 0.005\n"
     ]
    },
    {
     "data": {
      "image/png": "[encoded data removed]",
      "text/plain": [
       "<Figure size 432x288 with 1 Axes>"
      ]
     },
     "metadata": {
      "needs_background": "light"
     },
     "output_type": "display_data"
    }
   ],
   "source": [
    "df = pd.DataFrame({'a': [32.2, 30.4, 33.6, 36.4, 33.9, 34.9,33.1, 29.9, 31.7,27.5, 34, 30.7],\n",
    "                   'b' : [32.6, 32.7, 29.3, 25.9, 31.1, 23.8,26.7, 28.5, 30.9, 26.2, 32.3, 23.7]})\n",
    "\n",
    "df.boxplot(['a', 'b'])\n",
    "f_result = stats.f_oneway(df['a'],df['b'])\n",
    "\n",
    "f,p = f_result.statistic.round(3), f_result.pvalue.round(3)\n",
    "\n",
    "print(\"one-way\")\n",
    "print('F 통계량 : {}'.format(f))\n",
    "print('p-value : {}'.format(p))"
   ]
  },
  {
   "cell_type": "markdown",
   "id": "cd2c89e9",
   "metadata": {},
   "source": [
    "### p172"
   ]
  },
  {
   "cell_type": "code",
   "execution_count": 30,
   "id": "ef5a779a",
   "metadata": {},
   "outputs": [
    {
     "name": "stdout",
     "output_type": "stream",
     "text": [
      "Correlation Analtsis\n",
      "corr : 0.989\n",
      "p-value : 0.000\n"
     ]
    }
   ],
   "source": [
    "df1 = [1, 2, 3, 4, 4, 5, 6, 6, 7, 8]\n",
    "df2 = [23, 29, 49, 64, 74, 87, 96, 97, 109, 119]\n",
    "\n",
    "corr,pval = stats.pearsonr(df1, df2)\n",
    "\n",
    "print(\"Correlation Analtsis\")\n",
    "print(\"corr : {0:0.3f}\".format(corr))\n",
    "print(\"p-value : {0:0.3f}\".format(pval))\n",
    "\n",
    "# 상관계수가 0.989로 1에 가깝다 = 강한 상관성\n",
    "# 양의 상관 관계가 있다\n",
    "# p < 0.05 대립가설 채택\n",
    "# 귀무가설 : 상관관계가 0이다\n",
    "# 대립가설 : 상관관계가 0이 아니다 \n",
    "# 즉 상관관계가 0이 아니다. 의미가 있다."
   ]
  },
  {
   "cell_type": "code",
   "execution_count": 31,
   "id": "6bdfaca8",
   "metadata": {},
   "outputs": [
    {
     "name": "stdout",
     "output_type": "stream",
     "text": [
      "Correlation Analtsis\n",
      "corr : -0.723\n",
      "p-value : 0.000\n"
     ]
    }
   ],
   "source": [
    "df1 = [37.6, 38.6, 37.2, 36.4, 38.6, 39, 37.2, 36.1, 35.9, 37.1, 36.9, 37.5, \n",
    "      36.3, 38.1, 39, 36.9, 36.8, 37.6, 33, 33.5]\n",
    "df2 = [14, 15, 14, 16, 17, 14, 17, 16, 15, 16,14, 16, 18, 13, 15, 17, 14, 16, 20, 21 ]\n",
    "\n",
    "corr,pval = stats.pearsonr(df1, df2)\n",
    "\n",
    "print(\"Correlation Analtsis\")\n",
    "print(\"corr : {0:0.3f}\".format(corr))\n",
    "print(\"p-value : {0:0.3f}\".format(pval))\n",
    "\n",
    "# 상관계수가 -0.723로 -1에 가깝다 = 강한 음의 상관성\n",
    "# 음의 상관 관계가 있다\n",
    "# p < 0.05 대립가설 채택\n",
    "# 귀무가설 : 상관관계가 0이다\n",
    "# 대립가설 : 상관관계가 0이 아니다 \n",
    "# 즉 상관관계가 0이 아니다. 의미가 있다. "
   ]
  },
  {
   "cell_type": "markdown",
   "id": "6599d521",
   "metadata": {},
   "source": [
    "### p198"
   ]
  },
  {
   "cell_type": "code",
   "execution_count": 85,
   "id": "3287a4b9",
   "metadata": {},
   "outputs": [],
   "source": [
    "import pandas as pd\n",
    "import numpy as np\n",
    "import matplotlib.pyplot as plt\n",
    "import seaborn as sns\n",
    "from statsmodels.formula.api import ols\n",
    "from statsmodels.api import qqplot, add_constant\n",
    "import statsmodels.formula.api as smf\n",
    "import matplotlib\n",
    "\n",
    "\n",
    "matplotlib.rc('font', family = 'Malgun Gothic')\n",
    "matplotlib.rc('axes', unicode_minus=False)\n"
   ]
  },
  {
   "cell_type": "code",
   "execution_count": 86,
   "id": "7866a76d",
   "metadata": {},
   "outputs": [
    {
     "data": {
      "text/html": [
       "<div>\n",
       "<style scoped>\n",
       "    .dataframe tbody tr th:only-of-type {\n",
       "        vertical-align: middle;\n",
       "    }\n",
       "\n",
       "    .dataframe tbody tr th {\n",
       "        vertical-align: top;\n",
       "    }\n",
       "\n",
       "    .dataframe thead th {\n",
       "        text-align: right;\n",
       "    }\n",
       "</style>\n",
       "<table border=\"1\" class=\"dataframe\">\n",
       "  <thead>\n",
       "    <tr style=\"text-align: right;\">\n",
       "      <th></th>\n",
       "      <th>UNITS</th>\n",
       "      <th>MINUTES</th>\n",
       "    </tr>\n",
       "  </thead>\n",
       "  <tbody>\n",
       "    <tr>\n",
       "      <th>0</th>\n",
       "      <td>1</td>\n",
       "      <td>23</td>\n",
       "    </tr>\n",
       "    <tr>\n",
       "      <th>1</th>\n",
       "      <td>2</td>\n",
       "      <td>29</td>\n",
       "    </tr>\n",
       "    <tr>\n",
       "      <th>2</th>\n",
       "      <td>3</td>\n",
       "      <td>49</td>\n",
       "    </tr>\n",
       "    <tr>\n",
       "      <th>3</th>\n",
       "      <td>4</td>\n",
       "      <td>64</td>\n",
       "    </tr>\n",
       "    <tr>\n",
       "      <th>4</th>\n",
       "      <td>4</td>\n",
       "      <td>74</td>\n",
       "    </tr>\n",
       "  </tbody>\n",
       "</table>\n",
       "</div>"
      ],
      "text/plain": [
       "   UNITS  MINUTES\n",
       "0      1       23\n",
       "1      2       29\n",
       "2      3       49\n",
       "3      4       64\n",
       "4      4       74"
      ]
     },
     "execution_count": 86,
     "metadata": {},
     "output_type": "execute_result"
    }
   ],
   "source": [
    "# 데이터 구성하기\n",
    "df_raw = pd.read_csv('C:/Users/USER/Desktop/포스코 청년 아카데미_B4_김민경/통계이해/통계이해자료/부품수리시간.csv')\n",
    "df_raw.head()\n"
   ]
  },
  {
   "cell_type": "code",
   "execution_count": 87,
   "id": "b21b2bda",
   "metadata": {},
   "outputs": [
    {
     "data": {
      "text/html": [
       "<div>\n",
       "<style scoped>\n",
       "    .dataframe tbody tr th:only-of-type {\n",
       "        vertical-align: middle;\n",
       "    }\n",
       "\n",
       "    .dataframe tbody tr th {\n",
       "        vertical-align: top;\n",
       "    }\n",
       "\n",
       "    .dataframe thead th {\n",
       "        text-align: right;\n",
       "    }\n",
       "</style>\n",
       "<table border=\"1\" class=\"dataframe\">\n",
       "  <thead>\n",
       "    <tr style=\"text-align: right;\">\n",
       "      <th></th>\n",
       "      <th>UNITS</th>\n",
       "      <th>MINUTES</th>\n",
       "    </tr>\n",
       "  </thead>\n",
       "  <tbody>\n",
       "    <tr>\n",
       "      <th>count</th>\n",
       "      <td>14.000</td>\n",
       "      <td>14.000</td>\n",
       "    </tr>\n",
       "    <tr>\n",
       "      <th>mean</th>\n",
       "      <td>6.000</td>\n",
       "      <td>97.214</td>\n",
       "    </tr>\n",
       "    <tr>\n",
       "      <th>std</th>\n",
       "      <td>2.961</td>\n",
       "      <td>46.217</td>\n",
       "    </tr>\n",
       "    <tr>\n",
       "      <th>min</th>\n",
       "      <td>1.000</td>\n",
       "      <td>23.000</td>\n",
       "    </tr>\n",
       "    <tr>\n",
       "      <th>25%</th>\n",
       "      <td>4.000</td>\n",
       "      <td>66.500</td>\n",
       "    </tr>\n",
       "    <tr>\n",
       "      <th>50%</th>\n",
       "      <td>6.000</td>\n",
       "      <td>96.500</td>\n",
       "    </tr>\n",
       "    <tr>\n",
       "      <th>75%</th>\n",
       "      <td>8.750</td>\n",
       "      <td>138.500</td>\n",
       "    </tr>\n",
       "    <tr>\n",
       "      <th>max</th>\n",
       "      <td>10.000</td>\n",
       "      <td>166.000</td>\n",
       "    </tr>\n",
       "  </tbody>\n",
       "</table>\n",
       "</div>"
      ],
      "text/plain": [
       "        UNITS  MINUTES\n",
       "count  14.000   14.000\n",
       "mean    6.000   97.214\n",
       "std     2.961   46.217\n",
       "min     1.000   23.000\n",
       "25%     4.000   66.500\n",
       "50%     6.000   96.500\n",
       "75%     8.750  138.500\n",
       "max    10.000  166.000"
      ]
     },
     "execution_count": 87,
     "metadata": {},
     "output_type": "execute_result"
    }
   ],
   "source": [
    "df_raw.describe().round(3)"
   ]
  },
  {
   "cell_type": "code",
   "execution_count": 88,
   "id": "02da4bfb",
   "metadata": {},
   "outputs": [
    {
     "data": {
      "text/plain": [
       "<AxesSubplot:xlabel='UNITS', ylabel='MINUTES'>"
      ]
     },
     "execution_count": 88,
     "metadata": {},
     "output_type": "execute_result"
    },
    {
     "data": {
      "image/png": "[encoded data removed]",
      "text/plain": [
       "<Figure size 432x288 with 1 Axes>"
      ]
     },
     "metadata": {
      "needs_background": "light"
     },
     "output_type": "display_data"
    }
   ],
   "source": [
    "# 산점도 분석  (선형적 관계이다 UNITS가 증가 함에 따라 MIMUTES도 증가한다.)\n",
    "df_raw.plot.scatter(x = 'UNITS', y = 'MINUTES')"
   ]
  },
  {
   "cell_type": "code",
   "execution_count": 89,
   "id": "0a418019",
   "metadata": {},
   "outputs": [
    {
     "data": {
      "text/html": [
       "<div>\n",
       "<style scoped>\n",
       "    .dataframe tbody tr th:only-of-type {\n",
       "        vertical-align: middle;\n",
       "    }\n",
       "\n",
       "    .dataframe tbody tr th {\n",
       "        vertical-align: top;\n",
       "    }\n",
       "\n",
       "    .dataframe thead th {\n",
       "        text-align: right;\n",
       "    }\n",
       "</style>\n",
       "<table border=\"1\" class=\"dataframe\">\n",
       "  <thead>\n",
       "    <tr style=\"text-align: right;\">\n",
       "      <th></th>\n",
       "      <th>UNITS</th>\n",
       "      <th>MINUTES</th>\n",
       "    </tr>\n",
       "  </thead>\n",
       "  <tbody>\n",
       "    <tr>\n",
       "      <th>UNITS</th>\n",
       "      <td>1.000</td>\n",
       "      <td>0.994</td>\n",
       "    </tr>\n",
       "    <tr>\n",
       "      <th>MINUTES</th>\n",
       "      <td>0.994</td>\n",
       "      <td>1.000</td>\n",
       "    </tr>\n",
       "  </tbody>\n",
       "</table>\n",
       "</div>"
      ],
      "text/plain": [
       "         UNITS  MINUTES\n",
       "UNITS    1.000    0.994\n",
       "MINUTES  0.994    1.000"
      ]
     },
     "execution_count": 89,
     "metadata": {},
     "output_type": "execute_result"
    }
   ],
   "source": [
    "# 상관관계 분석\n",
    "df_raw.corr(method = 'pearson').round(3)\n",
    "\n",
    "# 상관관계가 0,994 이므로 매우 높은 선형관계가 있음을 확인할 수 있다 "
   ]
  },
  {
   "cell_type": "code",
   "execution_count": 90,
   "id": "30ea23c8",
   "metadata": {},
   "outputs": [
    {
     "name": "stdout",
     "output_type": "stream",
     "text": [
      "                            OLS Regression Results                            \n",
      "==============================================================================\n",
      "Dep. Variable:                MINUTES   R-squared:                       0.987\n",
      "Model:                            OLS   Adj. R-squared:                  0.986\n",
      "Method:                 Least Squares   F-statistic:                     943.2\n",
      "Date:                Wed, 11 Aug 2021   Prob (F-statistic):           8.92e-13\n",
      "Time:                        21:29:17   Log-Likelihood:                -42.374\n",
      "No. Observations:                  14   AIC:                             88.75\n",
      "Df Residuals:                      12   BIC:                             90.03\n",
      "Df Model:                           1                                         \n",
      "Covariance Type:            nonrobust                                         \n",
      "==============================================================================\n",
      "                 coef    std err          t      P>|t|      [0.025      0.975]\n",
      "------------------------------------------------------------------------------\n",
      "Intercept      4.1617      3.355      1.240      0.239      -3.148      11.472\n",
      "UNITS         15.5088      0.505     30.712      0.000      14.409      16.609\n",
      "==============================================================================\n",
      "Omnibus:                        0.746   Durbin-Watson:                   2.051\n",
      "Prob(Omnibus):                  0.689   Jarque-Bera (JB):                0.624\n",
      "Skew:                          -0.069   Prob(JB):                        0.732\n",
      "Kurtosis:                       1.975   Cond. No.                         15.8\n",
      "==============================================================================\n",
      "\n",
      "Notes:\n",
      "[1] Standard Errors assume that the covariance matrix of the errors is correctly specified.\n"
     ]
    },
    {
     "name": "stderr",
     "output_type": "stream",
     "text": [
      "C:\\Users\\USER\\anaconda3\\lib\\site-packages\\scipy\\stats\\stats.py:1603: UserWarning: kurtosistest only valid for n>=20 ... continuing anyway, n=14\n",
      "  warnings.warn(\"kurtosistest only valid for n>=20 ... continuing \"\n"
     ]
    }
   ],
   "source": [
    "# 선형회귀분석\n",
    "\n",
    "reg_model = smf.ols(formula = 'MINUTES ~ UNITS', data = df_raw)\n",
    "reg_result = reg_model.fit()\n",
    "print(reg_result.summary())\n",
    "\n",
    "#R-squared 가 0.987로 매우높다. 설명력이 좋다는 의미이다."
   ]
  },
  {
   "cell_type": "code",
   "execution_count": 91,
   "id": "95e1cdcf",
   "metadata": {},
   "outputs": [
    {
     "data": {
      "text/plain": [
       "<matplotlib.lines.Line2D at 0x28df74fca30>"
      ]
     },
     "execution_count": 91,
     "metadata": {},
     "output_type": "execute_result"
    },
    {
     "data": {
      "image/png": "[encoded data removed]",
      "text/plain": [
       "<Figure size 432x288 with 1 Axes>"
      ]
     },
     "metadata": {
      "needs_background": "light"
     },
     "output_type": "display_data"
    }
   ],
   "source": [
    "# 잔차의 등분산성 \n",
    "plt.scatter(reg_result.fittedvalues, reg_result.resid)\n",
    "plt.xlabel('fitted value')\n",
    "plt.ylabel('residual')\n",
    "plt.axhline(y = 0, linestyle = '--')"
   ]
  },
  {
   "cell_type": "code",
   "execution_count": 62,
   "id": "ed8a8471",
   "metadata": {},
   "outputs": [
    {
     "data": {
      "text/plain": [
       "<matplotlib.lines.Line2D at 0x28df8f207f0>"
      ]
     },
     "execution_count": 62,
     "metadata": {},
     "output_type": "execute_result"
    },
    {
     "data": {
      "image/png": "[encoded data removed]",
      "text/plain": [
       "<Figure size 432x288 with 1 Axes>"
      ]
     },
     "metadata": {
      "needs_background": "light"
     },
     "output_type": "display_data"
    }
   ],
   "source": [
    "# 잔차의 독립성\n",
    "plt.plot(df_raw['UNITS'], reg_result.resid, marker = 'o')\n",
    "plt.xlabel('Data')\n",
    "plt.ylabel('residual')\n",
    "plt.axhline(y = 0, linestyle = '-')\n",
    "plt.axhline(y = 3*np.std(reg_result.resid), linestyle = '--')\n",
    "plt.axhline(y = -3* np.std(reg_result.resid), linestyle = '--')"
   ]
  },
  {
   "cell_type": "code",
   "execution_count": 66,
   "id": "c166a7ca",
   "metadata": {},
   "outputs": [
    {
     "name": "stderr",
     "output_type": "stream",
     "text": [
      "C:\\Users\\USER\\anaconda3\\lib\\site-packages\\scipy\\stats\\stats.py:1603: UserWarning: kurtosistest only valid for n>=20 ... continuing anyway, n=14\n",
      "  warnings.warn(\"kurtosistest only valid for n>=20 ... continuing \"\n"
     ]
    },
    {
     "data": {
      "text/plain": [
       "NormaltestResult(statistic=0.7464482182734666, pvalue=0.6885109139659061)"
      ]
     },
     "execution_count": 66,
     "metadata": {},
     "output_type": "execute_result"
    },
    {
     "data": {
      "image/png": "[encoded data removed]",
      "text/plain": [
       "<Figure size 432x288 with 1 Axes>"
      ]
     },
     "metadata": {
      "needs_background": "light"
     },
     "output_type": "display_data"
    }
   ],
   "source": [
    "# 잔차의 정규성 검정\n",
    "qqplot(reg_result.resid, line = 'q')\n",
    "\n",
    "from statsmodels.stats.stattools import omni_normtest\n",
    "omni_normtest(reg_result.resid, axis =0)"
   ]
  },
  {
   "cell_type": "code",
   "execution_count": 68,
   "id": "53ad68d8",
   "metadata": {},
   "outputs": [
    {
     "data": {
      "text/plain": [
       "2.051099222402314"
      ]
     },
     "execution_count": 68,
     "metadata": {},
     "output_type": "execute_result"
    }
   ],
   "source": [
    "# 더빈왓슨 통계량 - 잔차간의 독립성을 확인하는 통계량\n",
    "from statsmodels.stats.stattools import durbin_watson\n",
    "\n",
    "durbin_watson(reg_result.resid)\n",
    "\n",
    "# 잔차가 독립한다. 잔차간의 상관관계가 없다. "
   ]
  },
  {
   "cell_type": "markdown",
   "id": "329d658f",
   "metadata": {},
   "source": [
    "### p204"
   ]
  },
  {
   "cell_type": "code",
   "execution_count": 76,
   "id": "3f88e58f",
   "metadata": {},
   "outputs": [],
   "source": [
    "df_raw = pd.DataFrame({'Strength':[37.6, 38.6, 37.2, 36.4, 38.6, 39, 37.2, 36.1, 35.9, 37.1, 36.9, 37.5, 36.3, 38.1, 39, 36.9, 36.8, 37.6, 33, 33.5],\n",
    "                       'Baking time':[0.798922, 0.84902, 0.816163, 0.758266, 0.815894, 0.807477, 0.809068, 0.7664, 0.742243, 0.751118, 0.740629, 0.751495, 0.738863, 0.827428, 0.818172, 0.740939, 0.757128, 0.804695, 0.695121, 0.735377]})"
   ]
  },
  {
   "cell_type": "code",
   "execution_count": 77,
   "id": "a23a592e",
   "metadata": {},
   "outputs": [
    {
     "data": {
      "text/plain": [
       "<AxesSubplot:xlabel='Strength', ylabel='Baking time'>"
      ]
     },
     "execution_count": 77,
     "metadata": {},
     "output_type": "execute_result"
    },
    {
     "data": {
      "image/png": "[encoded data removed]",
      "text/plain": [
       "<Figure size 432x288 with 1 Axes>"
      ]
     },
     "metadata": {
      "needs_background": "light"
     },
     "output_type": "display_data"
    }
   ],
   "source": [
    "# 산점도 분석  (선형적 관계이다 Strength가 증가 함에 따라 Baking time도 증가한다.)\n",
    "df_raw.plot.scatter(x = 'Strength', y = 'Baking time')"
   ]
  },
  {
   "cell_type": "code",
   "execution_count": null,
   "id": "151d49bb",
   "metadata": {},
   "outputs": [],
   "source": []
  }
 ],
 "metadata": {
  "kernelspec": {
   "display_name": "Python 3",
   "language": "python",
   "name": "python3"
  },
  "language_info": {
   "codemirror_mode": {
    "name": "ipython",
    "version": 3
   },
   "file_extension": ".py",
   "mimetype": "text/x-python",
   "name": "python",
   "nbconvert_exporter": "python",
   "pygments_lexer": "ipython3",
   "version": "3.8.8"
  }
 },
 "nbformat": 4,
 "nbformat_minor": 5
}
