{
 "cells": [
  {
   "cell_type": "code",
   "execution_count": 1,
   "id": "e50de25b",
   "metadata": {},
   "outputs": [],
   "source": [
    "import numpy as np\n",
    "from scipy import stats\n",
    "import pandas as pd\n",
    "import statsmodels.api as sm\n",
    "import matplotlib.pyplot as plt\n",
    "import seaborn as sns\n",
    "from statsmodels.stats.proportion import proportions_ztest\n"
   ]
  },
  {
   "cell_type": "markdown",
   "id": "50bd7550",
   "metadata": {},
   "source": [
    "### p42"
   ]
  },
  {
   "cell_type": "code",
   "execution_count": 2,
   "id": "80b5b28e",
   "metadata": {},
   "outputs": [
    {
     "name": "stdout",
     "output_type": "stream",
     "text": [
      "135분 이상 걸리는 A/S 작업 비율 : 15.9%\n"
     ]
    }
   ],
   "source": [
    "mu = 115 # 평균 \n",
    "sigma = 20\n",
    "x = 135\n",
    "prob = stats.norm.cdf(x, mu, sigma)\n",
    "print(\"{0}분 이상 걸리는 A/S 작업 비율 : {1:.1f}%\".format(x, (1-prob)* 100))"
   ]
  },
  {
   "cell_type": "code",
   "execution_count": 5,
   "id": "92c6f986",
   "metadata": {},
   "outputs": [
    {
     "name": "stdout",
     "output_type": "stream",
     "text": [
      "180cm 일 경우 15.9% 범위에 위치합니다.\n"
     ]
    }
   ],
   "source": [
    "mu = 175 # 평균 \n",
    "sigma = 5\n",
    "x = 180\n",
    "prob = stats.norm.cdf(x, mu, sigma)\n",
    "print(\"{0}cm 일 경우 {1:.1f}% 범위에 위치합니다.\".format(x, (1-prob)* 100))\n",
    "\n",
    "# x가 1시그마에 해당 되므로 1- (0.5 + 0.341) = 0.159 이므로 15.9 범위에 위치. (손쉽게 계산 가능)"
   ]
  },
  {
   "cell_type": "markdown",
   "id": "fccacc95",
   "metadata": {},
   "source": [
    "### p44"
   ]
  },
  {
   "cell_type": "code",
   "execution_count": 12,
   "id": "f703077a",
   "metadata": {},
   "outputs": [
    {
     "name": "stdout",
     "output_type": "stream",
     "text": [
      "12km 이상 15km 이하를 달릴 확률은 0.341%에 해당함\n"
     ]
    }
   ],
   "source": [
    "mu = 12\n",
    "sigma = 3\n",
    "x1 = 15\n",
    "prob1 = stats.norm.cdf(x1, mu, sigma)\n",
    "print(\"{0}km 이상 {1}km 이하를 달릴 확률은 {2:.3f}%에 해당함\".format(mu,x1,(prob1-0.5)))"
   ]
  },
  {
   "cell_type": "code",
   "execution_count": 20,
   "id": "c44f7600",
   "metadata": {},
   "outputs": [
    {
     "name": "stdout",
     "output_type": "stream",
     "text": [
      "9km 이상 15km 이하를 달릴 확률은 0.683%에 해당함\n",
      "15km 이상을 달릴 확률은 0.159%에 해당함\n"
     ]
    }
   ],
   "source": [
    "mu = 12\n",
    "sigma = 3\n",
    "x1 = 15\n",
    "prob1 = stats.norm.cdf(x1, mu, sigma)  # 누적확률이 15이하 인값 = prob1\n",
    "\n",
    "# 9km 이상 15km 이하를 달릴 확률은 (-1시그마에서 1시그마범위) 0.341+0.341 = 0.683 이다.\n",
    "print(\"{0}km 이상 {1}km 이하를 달릴 확률은 {2:.3f}%에 해당함\".format(mu-3,x1,(prob1-0.5)*2))\n",
    "\n",
    "# 15km 이상을 달릴 확률은 (1 - 1시그마까지 누적확률) 1-0.841 = 0.159 이다.\n",
    "print(\"{0}km 이상을 달릴 확률은 {1:.3f}%에 해당함\".format(x1,(1-prob1)))"
   ]
  },
  {
   "cell_type": "markdown",
   "id": "ef475475",
   "metadata": {},
   "source": [
    "### p53"
   ]
  },
  {
   "cell_type": "code",
   "execution_count": 13,
   "id": "df28cc84",
   "metadata": {},
   "outputs": [
    {
     "name": "stdout",
     "output_type": "stream",
     "text": [
      "P(T<=F): 0.907\n"
     ]
    }
   ],
   "source": [
    "t = 1.53\n",
    "df = 5  # 자유도가 5일 경우\n",
    "\n",
    "prob = stats.t.cdf(t,df)\n",
    "print(\"P(T<=F): {:.3f}\".format(prob))"
   ]
  },
  {
   "cell_type": "code",
   "execution_count": 15,
   "id": "61a34f4b",
   "metadata": {},
   "outputs": [
    {
     "name": "stdout",
     "output_type": "stream",
     "text": [
      "P(T<=F): 0.932\n"
     ]
    }
   ],
   "source": [
    "t = 1.53\n",
    "df = 30  # 자유도가 30일 경우\n",
    "\n",
    "prob = stats.t.cdf(t,df)\n",
    "print(\"P(T<=F): {:.3f}\".format(prob))\n",
    "\n",
    "# 자유도가 커질 수록 즉, 데이터가 수가 많으질수록 누적 확률은 커진다\n",
    "# 자유도가 커지면 그래프가 가운데가 올라가면서 양 사이드가 줄어든다 그래서 면적이 커진다."
   ]
  },
  {
   "cell_type": "code",
   "execution_count": 21,
   "id": "9f3ded09",
   "metadata": {},
   "outputs": [
    {
     "name": "stdout",
     "output_type": "stream",
     "text": [
      "P(T<=F): 0.976\n"
     ]
    }
   ],
   "source": [
    "t = 2.0  #  t 분포 = 2.0\n",
    "df = 100  # 자유도가 100일 경우\n",
    "\n",
    "prob = stats.t.cdf(t,df)\n",
    "print(\"P(T<=F): {:.3f}\".format(prob))\n",
    "\n",
    "# 자유도가 커질 수록 즉, 데이터가 수가 많으질수록 누적 확률은 커진다\n",
    "# 자유도가 커지면 그래프가 가운데가 올라가면서 양 사이드가 줄어든다 그래서 면적이 커진다."
   ]
  },
  {
   "cell_type": "markdown",
   "id": "63028d96",
   "metadata": {},
   "source": [
    "### p56"
   ]
  },
  {
   "cell_type": "code",
   "execution_count": 26,
   "id": "30c982fa",
   "metadata": {},
   "outputs": [
    {
     "name": "stderr",
     "output_type": "stream",
     "text": [
      "C:\\Users\\USER\\anaconda3\\lib\\site-packages\\seaborn\\distributions.py:2557: FutureWarning: `distplot` is a deprecated function and will be removed in a future version. Please adapt your code to use either `displot` (a figure-level function with similar flexibility) or `histplot` (an axes-level function for histograms).\n",
      "  warnings.warn(msg, FutureWarning)\n"
     ]
    },
    {
     "data": {
      "text/plain": [
       "<AxesSubplot:>"
      ]
     },
     "execution_count": 26,
     "metadata": {},
     "output_type": "execute_result"
    },
    {
     "data": {
      "image/png": "[encoded data removed]",
      "text/plain": [
       "<Figure size 432x288 with 1 Axes>"
      ]
     },
     "metadata": {
      "needs_background": "light"
     },
     "output_type": "display_data"
    }
   ],
   "source": [
    "np.random.seed(seed = 1234) # seed는 재현성 확보\n",
    "\n",
    "chisq_df10 = np.random.chisquare(df = 10, size = 1000) # 자유도 10, 데이터 개수 1000개\n",
    "\n",
    "sns.distplot(chisq_df10, fit = stats.norm, kde = False)"
   ]
  },
  {
   "cell_type": "code",
   "execution_count": 23,
   "id": "bb7150da",
   "metadata": {},
   "outputs": [
    {
     "name": "stderr",
     "output_type": "stream",
     "text": [
      "C:\\Users\\USER\\anaconda3\\lib\\site-packages\\seaborn\\distributions.py:2557: FutureWarning: `distplot` is a deprecated function and will be removed in a future version. Please adapt your code to use either `displot` (a figure-level function with similar flexibility) or `histplot` (an axes-level function for histograms).\n",
      "  warnings.warn(msg, FutureWarning)\n"
     ]
    },
    {
     "data": {
      "text/plain": [
       "<AxesSubplot:ylabel='Density'>"
      ]
     },
     "execution_count": 23,
     "metadata": {},
     "output_type": "execute_result"
    },
    {
     "data": {
      "image/png": "[encoded data removed]",
      "text/plain": [
       "<Figure size 432x288 with 1 Axes>"
      ]
     },
     "metadata": {
      "needs_background": "light"
     },
     "output_type": "display_data"
    }
   ],
   "source": [
    "np.random.seed(seed = 1234)\n",
    "\n",
    "chisq_df10 = np.random.chisquare(df = 10, size = 1000)\n",
    "\n",
    "sns.distplot(chisq_df10, fit = stats.norm, kde = True)\n",
    "# kde = True 실제 데이터 그래프가 추가됨"
   ]
  },
  {
   "cell_type": "code",
   "execution_count": 24,
   "id": "3c00c06b",
   "metadata": {},
   "outputs": [
    {
     "name": "stderr",
     "output_type": "stream",
     "text": [
      "C:\\Users\\USER\\anaconda3\\lib\\site-packages\\seaborn\\distributions.py:2557: FutureWarning: `distplot` is a deprecated function and will be removed in a future version. Please adapt your code to use either `displot` (a figure-level function with similar flexibility) or `histplot` (an axes-level function for histograms).\n",
      "  warnings.warn(msg, FutureWarning)\n"
     ]
    },
    {
     "data": {
      "text/plain": [
       "<AxesSubplot:>"
      ]
     },
     "execution_count": 24,
     "metadata": {},
     "output_type": "execute_result"
    },
    {
     "data": {
      "image/png": "[encoded data removed]",
      "text/plain": [
       "<Figure size 432x288 with 1 Axes>"
      ]
     },
     "metadata": {
      "needs_background": "light"
     },
     "output_type": "display_data"
    }
   ],
   "source": [
    "np.random.seed(seed = 1234)\n",
    "\n",
    "chisq_df40 = np.random.chisquare(df = 40, size = 1000)\n",
    "\n",
    "sns.distplot(chisq_df40, fit = stats.norm, kde = False)"
   ]
  },
  {
   "cell_type": "code",
   "execution_count": 25,
   "id": "97815c3e",
   "metadata": {},
   "outputs": [
    {
     "name": "stderr",
     "output_type": "stream",
     "text": [
      "C:\\Users\\USER\\anaconda3\\lib\\site-packages\\seaborn\\distributions.py:2557: FutureWarning: `distplot` is a deprecated function and will be removed in a future version. Please adapt your code to use either `displot` (a figure-level function with similar flexibility) or `histplot` (an axes-level function for histograms).\n",
      "  warnings.warn(msg, FutureWarning)\n"
     ]
    },
    {
     "data": {
      "text/plain": [
       "<AxesSubplot:ylabel='Density'>"
      ]
     },
     "execution_count": 25,
     "metadata": {},
     "output_type": "execute_result"
    },
    {
     "data": {
      "image/png": "[encoded data removed]",
      "text/plain": [
       "<Figure size 432x288 with 1 Axes>"
      ]
     },
     "metadata": {
      "needs_background": "light"
     },
     "output_type": "display_data"
    }
   ],
   "source": [
    "np.random.seed(seed = 1234)\n",
    "\n",
    "chisq_df40 = np.random.chisquare(df = 40, size = 1000)\n",
    "\n",
    "sns.distplot(chisq_df40, fit = stats.norm, kde = True)"
   ]
  },
  {
   "cell_type": "code",
   "execution_count": 27,
   "id": "0f2d39c4",
   "metadata": {},
   "outputs": [
    {
     "name": "stderr",
     "output_type": "stream",
     "text": [
      "C:\\Users\\USER\\anaconda3\\lib\\site-packages\\seaborn\\distributions.py:2557: FutureWarning: `distplot` is a deprecated function and will be removed in a future version. Please adapt your code to use either `displot` (a figure-level function with similar flexibility) or `histplot` (an axes-level function for histograms).\n",
      "  warnings.warn(msg, FutureWarning)\n"
     ]
    },
    {
     "data": {
      "text/plain": [
       "<AxesSubplot:ylabel='Density'>"
      ]
     },
     "execution_count": 27,
     "metadata": {},
     "output_type": "execute_result"
    },
    {
     "data": {
      "image/png": "[encoded data removed]",
      "text/plain": [
       "<Figure size 432x288 with 1 Axes>"
      ]
     },
     "metadata": {
      "needs_background": "light"
     },
     "output_type": "display_data"
    }
   ],
   "source": [
    "np.random.seed(seed = 1234)\n",
    "\n",
    "# 자유도가 커지면 정규분포에 근사해진다 \n",
    "chisq_df3 = np.random.chisquare(df = 3, size = 1000)\n",
    "\n",
    "sns.distplot(chisq_df3, fit = stats.norm, kde = True)"
   ]
  },
  {
   "cell_type": "code",
   "execution_count": 28,
   "id": "78ce7cb4",
   "metadata": {},
   "outputs": [
    {
     "name": "stderr",
     "output_type": "stream",
     "text": [
      "C:\\Users\\USER\\anaconda3\\lib\\site-packages\\seaborn\\distributions.py:2557: FutureWarning: `distplot` is a deprecated function and will be removed in a future version. Please adapt your code to use either `displot` (a figure-level function with similar flexibility) or `histplot` (an axes-level function for histograms).\n",
      "  warnings.warn(msg, FutureWarning)\n"
     ]
    },
    {
     "data": {
      "text/plain": [
       "<AxesSubplot:ylabel='Density'>"
      ]
     },
     "execution_count": 28,
     "metadata": {},
     "output_type": "execute_result"
    },
    {
     "data": {
      "image/png": "[encoded data removed]",
      "text/plain": [
       "<Figure size 432x288 with 1 Axes>"
      ]
     },
     "metadata": {
      "needs_background": "light"
     },
     "output_type": "display_data"
    }
   ],
   "source": [
    "np.random.seed(seed = 1234)\n",
    "\n",
    "chisq_df50 = np.random.chisquare(df = 50, size = 1000)\n",
    "\n",
    "sns.distplot(chisq_df50, fit = stats.norm, kde = True)"
   ]
  },
  {
   "cell_type": "markdown",
   "id": "dac1d592",
   "metadata": {},
   "source": [
    "### p59"
   ]
  },
  {
   "cell_type": "code",
   "execution_count": 30,
   "id": "305a914e",
   "metadata": {},
   "outputs": [
    {
     "name": "stdout",
     "output_type": "stream",
     "text": [
      "P(X<=10): 0.0002\n"
     ]
    }
   ],
   "source": [
    "chisq = 10\n",
    "df = 30\n",
    "\n",
    "# 누적 확률값 계산\n",
    "prob = stats.chi2.cdf(chisq, df)\n",
    "print(\"P(X<={0}): {1:.4f}\".format(chisq,prob))"
   ]
  },
  {
   "cell_type": "code",
   "execution_count": 31,
   "id": "7795a14e",
   "metadata": {},
   "outputs": [
    {
     "name": "stdout",
     "output_type": "stream",
     "text": [
      "P(X<=3.0): 0.0656\n"
     ]
    }
   ],
   "source": [
    "chisq = 3.0\n",
    "df = 8\n",
    "\n",
    "prob = stats.chi2.cdf(chisq, df)\n",
    "print(\"P(X<={0}): {1:.4f}\".format(chisq,prob))"
   ]
  },
  {
   "cell_type": "markdown",
   "id": "141adce7",
   "metadata": {},
   "source": [
    "### p63"
   ]
  },
  {
   "cell_type": "code",
   "execution_count": 32,
   "id": "c2d66845",
   "metadata": {},
   "outputs": [
    {
     "name": "stdout",
     "output_type": "stream",
     "text": [
      "P(X<=F): 0.904\n"
     ]
    }
   ],
   "source": [
    "f = 2.0\n",
    "\n",
    "dfnum = 15\n",
    "dfden = 15\n",
    "\n",
    "# 누적 확률값 계산\n",
    "prob = stats.f.cdf(x = f, dfn = dfnum, dfd = dfden)\n",
    "print(\"P(X<=F): {:.3f}\".format(prob))"
   ]
  },
  {
   "cell_type": "code",
   "execution_count": 33,
   "id": "4cd7cd79",
   "metadata": {},
   "outputs": [
    {
     "name": "stdout",
     "output_type": "stream",
     "text": [
      "P(X<=F): 0.850\n"
     ]
    }
   ],
   "source": [
    "f = 1.5\n",
    "\n",
    "dfnum = 10\n",
    "dfden = 100\n",
    "\n",
    "# 누적 확률값 계산\n",
    "prob = stats.f.cdf(x = f, dfn = dfnum, dfd = dfden)\n",
    "print(\"P(X<=F): {:.3f}\".format(prob))"
   ]
  },
  {
   "cell_type": "markdown",
   "id": "655f9eb3",
   "metadata": {},
   "source": [
    "### p67"
   ]
  },
  {
   "cell_type": "code",
   "execution_count": 4,
   "id": "cf4f3504",
   "metadata": {},
   "outputs": [
    {
     "name": "stdout",
     "output_type": "stream",
     "text": [
      "P(X<=x): 0.195\n"
     ]
    }
   ],
   "source": [
    "x = 1500\n",
    "alpha = 2.2\n",
    "beta = 1200\n",
    "\n",
    "prob = stats.weibull_min.cdf(x,alpha, scale = beta )\n",
    "print(\"P(X<=x): {:.3f}\".format(1-prob))"
   ]
  },
  {
   "cell_type": "code",
   "execution_count": 5,
   "id": "466e8fb1",
   "metadata": {},
   "outputs": [
    {
     "name": "stdout",
     "output_type": "stream",
     "text": [
      "P(X<=x): 0.143\n"
     ]
    }
   ],
   "source": [
    "x = 2500\n",
    "alpha = 5.2\n",
    "beta = 2200\n",
    "\n",
    "prob = stats.weibull_min.cdf(x,alpha, scale = beta )\n",
    "print(\"P(X<=x): {:.3f}\".format(1-prob))"
   ]
  },
  {
   "cell_type": "markdown",
   "id": "1d9962dd",
   "metadata": {},
   "source": [
    "### p74"
   ]
  },
  {
   "cell_type": "code",
   "execution_count": 6,
   "id": "aa7e9d9b",
   "metadata": {},
   "outputs": [
    {
     "name": "stdout",
     "output_type": "stream",
     "text": [
      "P(X<=0): 0.216\n",
      "P(X<=1): 0.432\n",
      "P(X<=2): 0.288\n",
      "P(X<=3): 0.064\n"
     ]
    }
   ],
   "source": [
    "n = 3\n",
    "\n",
    "for i in range(n+1):\n",
    "    # 이항 분포 Probability Mass Function\n",
    "    prob = stats.binom.pmf(k = i, n=n, p = 0.4)\n",
    "    print(\"P(X<={0}): {1:.3f}\".format(i, prob))"
   ]
  },
  {
   "cell_type": "code",
   "execution_count": 7,
   "id": "89acc8c7",
   "metadata": {},
   "outputs": [
    {
     "name": "stdout",
     "output_type": "stream",
     "text": [
      "P(X<=0): 0.168\n",
      "P(X<=1): 0.360\n",
      "P(X<=2): 0.309\n",
      "P(X<=3): 0.132\n",
      "P(X<=4): 0.028\n",
      "P(X<=5): 0.002\n"
     ]
    }
   ],
   "source": [
    "n = 5\n",
    "\n",
    "for i in range(n+1):\n",
    "    # 이항 분포 Probability Mass Function\n",
    "    prob = stats.binom.pmf(k = i, n=n, p = 0.3)\n",
    "    print(\"P(X<={0}): {1:.3f}\".format(i, prob))"
   ]
  },
  {
   "cell_type": "markdown",
   "id": "e7476003",
   "metadata": {},
   "source": [
    "### p77"
   ]
  },
  {
   "cell_type": "code",
   "execution_count": 13,
   "id": "aed96fc5",
   "metadata": {},
   "outputs": [
    {
     "name": "stdout",
     "output_type": "stream",
     "text": [
      "1분당 3번의 전화가 걸려올 확률 : 0.18\n",
      "1분당 최대 2회 이하의 전화가 걸려올 확률 : 0.68\n"
     ]
    }
   ],
   "source": [
    "mu = 2\n",
    "\n",
    "# 1분당 3번의 전화가 걸려올 확률\n",
    "prob = stats.poisson.pmf(3, mu)\n",
    "\n",
    "# 1분당 최대 2회 이하의 전화가 걸려올 확률\n",
    "cdf_prob = stats.poisson.cdf(2, mu)\n",
    "print('1분당 {0}번의 전화가 걸려올 확률 : {1:.2f}'.format(3, prob))\n",
    "print('1분당 최대 {0}회 이하의 전화가 걸려올 확률 : {1:.2f}'.format(2,cdf_prob))"
   ]
  },
  {
   "cell_type": "code",
   "execution_count": 17,
   "id": "773db372",
   "metadata": {},
   "outputs": [
    {
     "name": "stdout",
     "output_type": "stream",
     "text": [
      "10시에서 11시사이에서 2명의 손님이 도착할 확률 : 0.22\n",
      "10시에서 11시사이에서 1명 이하의 손님이 도착할 확률 : 0.20\n",
      "10시에서 11시사이에서 3명 이상의 손님이 도착할 확률 : 0.58\n"
     ]
    }
   ],
   "source": [
    "mu = 3\n",
    "\n",
    "# 1시간에 2명의 손님이 도착할 확률\n",
    "prob = stats.poisson.pmf(2, mu)\n",
    "\n",
    "# 1시간에 1명이하의 손님이 도착할 확률\n",
    "cdf_prob = stats.poisson.cdf(1, mu)\n",
    "\n",
    "# 1시간에 3명이상의 손님이 도착할 확률\n",
    "cdf_prob2 = stats.poisson.cdf(2, mu)\n",
    "print('10시에서 11시사이에서 {0}명의 손님이 도착할 확률 : {1:.2f}'.format(2, prob))\n",
    "print('10시에서 11시사이에서 {0}명 이하의 손님이 도착할 확률 : {1:.2f}'.format(1,cdf_prob))\n",
    "print('10시에서 11시사이에서 {0}명 이상의 손님이 도착할 확률 : {1:.2f}'.format(3,1-cdf_prob2))"
   ]
  },
  {
   "cell_type": "markdown",
   "id": "722a963e",
   "metadata": {},
   "source": [
    "### p95"
   ]
  },
  {
   "cell_type": "code",
   "execution_count": 2,
   "id": "19b03726",
   "metadata": {},
   "outputs": [
    {
     "name": "stdout",
     "output_type": "stream",
     "text": [
      "Shapiro-Wilk Test : statistic = 0.9788156747817993, p-value = 0.10744144767522812\n"
     ]
    }
   ],
   "source": [
    "from scipy.stats import shapiro\n",
    "\n",
    "ds_camshaft = pd.read_csv('C:/Users/USER/Desktop/포스코 청년 아카데미_B4_김민경/통계이해/통계이해자료/camshaft.csv')\n",
    "ds_camshaft.head()\n",
    "\n",
    "data1 = ds_camshaft['Supp1']\n",
    "# 정규성 검정\n",
    "shapiro(data1)\n",
    "\n",
    "statistic, p = stats.shapiro(data1)\n",
    "print(\"Shapiro-Wilk Test : statistic = {}, p-value = {}\".format(statistic, p))\n",
    "\n",
    "# p-value 가 0.05 보다 크면 정규, 0.05보다 작으면 비정규로 판단\n",
    "# 현재 p-value가 0.05 보다 크기때문에 표본으로 수집된 data는 정규분포를 따른다고 볼수 있다. "
   ]
  },
  {
   "cell_type": "code",
   "execution_count": 29,
   "id": "f4718215",
   "metadata": {},
   "outputs": [
    {
     "name": "stdout",
     "output_type": "stream",
     "text": [
      "Shapiro-Wilk Test : statistic = 0.9062638878822327, p-value = 0.25630074739456177\n",
      "Shapiro-Wilk Test : statistic = 0.9729756116867065, p-value = 0.9169799089431763\n"
     ]
    }
   ],
   "source": [
    "from scipy.stats import shapiro\n",
    "\n",
    "ds = pd.read_csv('C:/Users/USER/Desktop/포스코 청년 아카데미_B4_김민경/통계이해/통계이해자료/2sample_t_test.csv')\n",
    "ds.head()\n",
    "\n",
    "ds = ds.dropna()  # 결측치를 무시하라\n",
    "data1 = ds['Mat_A']\n",
    "data2 = ds['Mat_B']\n",
    "\n",
    "\n",
    "# 정규성 검정\n",
    "shapiro(data1)\n",
    "shapiro(data2)\n",
    "\n",
    "statistic, p = stats.shapiro(data1)\n",
    "statistic2, p2 = stats.shapiro(data2)\n",
    "\n",
    "print(\"Shapiro-Wilk Test : statistic = {}, p-value = {}\".format(statistic, p))\n",
    "\n",
    "print(\"Shapiro-Wilk Test : statistic = {}, p-value = {}\".format(statistic2, p2))                      "
   ]
  },
  {
   "cell_type": "markdown",
   "id": "7cd5a26e",
   "metadata": {},
   "source": [
    "### p98"
   ]
  },
  {
   "cell_type": "code",
   "execution_count": 2,
   "id": "b95a66ee",
   "metadata": {},
   "outputs": [
    {
     "name": "stdout",
     "output_type": "stream",
     "text": [
      "신뢰구간 : ([2.572],[2.818])\n"
     ]
    }
   ],
   "source": [
    "import pandas as pd\n",
    "df = pd.DataFrame({'sample': [3.6,2.9,2.8,2.6,3.4,3.2,2.2,2.6,2.6,2.4,2.4,2.6,3.4,2.4,2.1,2.6,3.0,2.4,2.7,2.4,\n",
    "                            2.6,2.9,2.9,2.0,2.7,2.2,2.8,2.7,1.8,2.5,3.0,3.2,2.8,2.6,3.2,3.1,2.9,2.7,2.7,2.2]})\n",
    "df.head()\n",
    "\n",
    "\n",
    "# 정규분포 구간 추정 함수 실행 (신뢰구간 95%))\n",
    "lower, upper = stats.norm.interval(0.95, loc = np.mean(df), scale = 0.397/np.sqrt(40))\n",
    "print(\"신뢰구간 : ({0},{1})\".format(lower.round(4),upper.round(4)))"
   ]
  },
  {
   "cell_type": "code",
   "execution_count": 5,
   "id": "3c262250",
   "metadata": {},
   "outputs": [
    {
     "data": {
      "text/plain": [
       "-1.9599639845400545"
      ]
     },
     "execution_count": 5,
     "metadata": {},
     "output_type": "execute_result"
    }
   ],
   "source": [
    "prob = stats.norm.ppf(0.025, 0,1)\n",
    "prob"
   ]
  },
  {
   "cell_type": "code",
   "execution_count": 38,
   "id": "b05f2744",
   "metadata": {},
   "outputs": [
    {
     "name": "stdout",
     "output_type": "stream",
     "text": [
      "신뢰구간 : ([2.5333],[2.8567])\n"
     ]
    }
   ],
   "source": [
    "import pandas as pd\n",
    "df = pd.DataFrame({'sample': [3.6,2.9,2.8,2.6,3.4,3.2,2.2,2.6,2.6,2.4,2.4,2.6,3.4,2.4,2.1,2.6,3.0,2.4,2.7,2.4,\n",
    "                            2.6,2.9,2.9,2.0,2.7,2.2,2.8,2.7,1.8,2.5,3.0,3.2,2.8,2.6,3.2,3.1,2.9,2.7,2.7,2.2]})\n",
    "df.head()\n",
    "\n",
    "\n",
    "# 정규분포 구간 추정 함수 실행 (신뢰구간 99%)\n",
    "lower, upper = stats.norm.interval(0.99, loc = np.mean(df), scale = 0.397/np.sqrt(40))\n",
    "print(\"신뢰구간 : ({0},{1})\".format(lower.round(4),upper.round(4)))"
   ]
  },
  {
   "cell_type": "code",
   "execution_count": 37,
   "id": "3797a5cd",
   "metadata": {},
   "outputs": [
    {
     "name": "stdout",
     "output_type": "stream",
     "text": [
      "신뢰구간 : ([2.5918],[2.7982])\n"
     ]
    }
   ],
   "source": [
    "import pandas as pd\n",
    "df = pd.DataFrame({'sample': [3.6,2.9,2.8,2.6,3.4,3.2,2.2,2.6,2.6,2.4,2.4,2.6,3.4,2.4,2.1,2.6,3.0,2.4,2.7,2.4,\n",
    "                            2.6,2.9,2.9,2.0,2.7,2.2,2.8,2.7,1.8,2.5,3.0,3.2,2.8,2.6,3.2,3.1,2.9,2.7,2.7,2.2]})\n",
    "df.head()\n",
    "\n",
    "\n",
    "# 정규분포 구간 추정 함수 실행 (신뢰구간 90%)\n",
    "lower, upper = stats.norm.interval(0.90, loc = np.mean(df), scale = 0.397/np.sqrt(40))\n",
    "print(\"신뢰구간 : ({0},{1})\".format(lower.round(4),upper.round(4)))"
   ]
  },
  {
   "cell_type": "code",
   "execution_count": 45,
   "id": "8ed981c9",
   "metadata": {},
   "outputs": [
    {
     "name": "stdout",
     "output_type": "stream",
     "text": [
      "신뢰구간 : ([17.83],[21.17])\n"
     ]
    }
   ],
   "source": [
    "import pandas as pd\n",
    "df = pd.DataFrame({'sample': [18, 18, 20, 21, 20, 23, 19, 18, 17, 21, \n",
    "                             22, 20, 20, 21, 20, 19, 19, 18, 17, 19]})\n",
    "df.head()\n",
    "\n",
    "\n",
    "# 정규분포 구간 추정 함수 실행 \n",
    "lower, upper = stats.norm.interval(0.95, loc = np.mean(df), scale = 3.8/np.sqrt(20))\n",
    "print(\"신뢰구간 : ({0},{1})\".format(lower.round(2),upper.round(2)))"
   ]
  },
  {
   "cell_type": "markdown",
   "id": "b06bcd2b",
   "metadata": {},
   "source": [
    "### p101"
   ]
  },
  {
   "cell_type": "code",
   "execution_count": 44,
   "id": "03706d4d",
   "metadata": {},
   "outputs": [
    {
     "name": "stdout",
     "output_type": "stream",
     "text": [
      "신뢰구간 : ([54.39],[55.33])\n"
     ]
    }
   ],
   "source": [
    "import pandas as pd\n",
    "from scipy.stats import shapiro\n",
    "df = pd.DataFrame({'sample': [54.1, 53.3, 56.1, 55.7, 54.0, 54.1, 54.5, 57.1, 55.2, 53.8,\n",
    "                             54.1, 54.1, 56.1, 55.0, 55.9, 56.0, 54.9, 54.3, 53.9, 55.0]})\n",
    "df.head()\n",
    "\n",
    "\n",
    "# 정규분포 구간 추정 함수 실행\n",
    "lower, upper = stats.t.interval(0.95, len(df)-1,loc = np.mean(df), scale = stats.sem(df))\n",
    "print(\"신뢰구간 : ({0},{1})\".format(lower.round(2),upper.round(2)))"
   ]
  },
  {
   "cell_type": "code",
   "execution_count": 50,
   "id": "f0320d17",
   "metadata": {},
   "outputs": [
    {
     "name": "stdout",
     "output_type": "stream",
     "text": [
      "신뢰구간 : ([70.6],[72.4])\n"
     ]
    }
   ],
   "source": [
    "import pandas as pd\n",
    "from scipy.stats import shapiro\n",
    "df = pd.DataFrame({'sample': [73, 71, 74, 69, 70,73, 70, 68, 75, 72,\n",
    "                             70, 72, 73, 70, 70, 72, 71, 70, 75, 72]})\n",
    "df.head()\n",
    "\n",
    "\n",
    "# 정규분포 구간 추정 함수 실행\n",
    "lower, upper = stats.t.interval(0.95, len(df)-1,loc = np.mean(df), scale = stats.sem(df))\n",
    "print(\"신뢰구간 : ({0},{1})\".format(lower.round(2),upper.round(2)))"
   ]
  },
  {
   "cell_type": "markdown",
   "id": "4d3c7342",
   "metadata": {},
   "source": [
    "### p130"
   ]
  },
  {
   "cell_type": "code",
   "execution_count": null,
   "id": "eb541dc7",
   "metadata": {},
   "outputs": [],
   "source": [
    "df = pd.DataFrame{}\n",
    "\n",
    "# 1-sample t-test\n",
    "t_result = stats.ttest_1samp(df, 76.7)\n",
    "\n",
    "## 1-sample t-test의 t값 p값 저장\n",
    "t, p = t_result.statistic.round(3),"
   ]
  }
 ],
 "metadata": {
  "kernelspec": {
   "display_name": "Python 3",
   "language": "python",
   "name": "python3"
  },
  "language_info": {
   "codemirror_mode": {
    "name": "ipython",
    "version": 3
   },
   "file_extension": ".py",
   "mimetype": "text/x-python",
   "name": "python",
   "nbconvert_exporter": "python",
   "pygments_lexer": "ipython3",
   "version": "3.8.8"
  }
 },
 "nbformat": 4,
 "nbformat_minor": 5
}
