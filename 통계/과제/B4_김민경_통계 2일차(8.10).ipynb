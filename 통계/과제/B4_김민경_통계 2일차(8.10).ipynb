{
 "cells": [
  {
   "cell_type": "code",
   "execution_count": 2,
   "id": "b3dd537c",
   "metadata": {},
   "outputs": [],
   "source": [
    "import numpy as np\n",
    "from scipy import stats\n",
    "import pandas as pd\n",
    "import statsmodels.api as sm\n",
    "import matplotlib.pyplot as plt\n",
    "import seaborn as sns\n",
    "from statsmodels.stats.proportion import proportions_ztest\n",
    "from scipy.stats import shapiro"
   ]
  },
  {
   "cell_type": "markdown",
   "id": "e2b39b94",
   "metadata": {},
   "source": [
    "### p45\n",
    "- 자동차의 1리터 당 주행거리 평균 = 12, 표준편차 = 3인 정규분포를 따른다.\n",
    "- P(9≤X≤15) = ? \n",
    "- P(15≤X) = ? "
   ]
  },
  {
   "cell_type": "code",
   "execution_count": 2,
   "id": "5ac8b47d",
   "metadata": {},
   "outputs": [
    {
     "name": "stdout",
     "output_type": "stream",
     "text": [
      "9km 이상 15km 이하를 달릴 확률은 0.683%에 해당함\n",
      "15km 이상을 달릴 확률은 0.159%에 해당함\n"
     ]
    }
   ],
   "source": [
    "mu = 12\n",
    "sigma = 3\n",
    "x1 = 15\n",
    "prob1 = stats.norm.cdf(x1, mu, sigma)  # 누적확률이 15이하 인값 = prob1\n",
    "\n",
    "# 9km 이상 15km 이하를 달릴 확률은 (-1시그마에서 1시그마범위) 0.341+0.341 = 0.683 이다.\n",
    "print(\"{0}km 이상 {1}km 이하를 달릴 확률은 {2:.3f}%에 해당함\".format(mu-3,x1,(prob1-0.5)*2))\n",
    "\n",
    "# 15km 이상을 달릴 확률은 (1 - 1시그마까지 누적확률) 1-0.841 = 0.159 이다.\n",
    "print(\"{0}km 이상을 달릴 확률은 {1:.3f}%에 해당함\".format(x1,(1-prob1)))"
   ]
  },
  {
   "cell_type": "markdown",
   "id": "ed07cda1",
   "metadata": {},
   "source": [
    "#### 해석\n",
    "- 해당 확률변수가 N(12, $3^2$)인 정규분포를 따를 때, P(9≤X≤15) = 0.68는 1리터 당 주행거리를 9km에서 15km를 달릴 확률은 0.68로 68%이다.\n",
    "\n",
    "- 해당 확률변수가 N(12, $3^2$)인 정규분포를 따를 때, P(15≤X) = 0.16는 1리터 당 주행거리를 15km 이상을 달릴 확률은 0.16로 약 16%이다.\n"
   ]
  },
  {
   "cell_type": "markdown",
   "id": "372517b1",
   "metadata": {},
   "source": [
    "### p78"
   ]
  },
  {
   "cell_type": "code",
   "execution_count": 5,
   "id": "21c85746",
   "metadata": {},
   "outputs": [
    {
     "name": "stdout",
     "output_type": "stream",
     "text": [
      "0.42319008112684364\n",
      "10시에서 11시사이에서 2명의 손님이 도착할 확률 : 0.22%\n",
      "10시에서 11시사이에서 1명 이하의 손님이 도착할 확률 : 0.20%\n",
      "10시에서 11시사이에서 3명 이상의 손님이 도착할 확률 : 0.58%\n"
     ]
    }
   ],
   "source": [
    "mu = 3\n",
    "\n",
    "# 1시간에 2명의 손님이 도착할 확률\n",
    "prob = stats.poisson.pmf(2, mu)\n",
    "\n",
    "# 1시간에 1명이하의 손님이 도착할 확률   (1시간에 0명일때 + 1시간에 1명일때) 의 개념이므로 pmf말고 cdf 사용함\n",
    "cdf_prob = stats.poisson.cdf(1, mu)  \n",
    "\n",
    "# 1시간에 3명이상의 손님이 도착할 확률   ( 1 - 2명이하 손님이 확률)\n",
    "cdf_prob2 = stats.poisson.cdf(2, mu)\n",
    "\n",
    "print('10시에서 11시사이에서 {0}명의 손님이 도착할 확률 : {1:.2f}%'.format(2, prob))\n",
    "print('10시에서 11시사이에서 {0}명 이하의 손님이 도착할 확률 : {1:.2f}%'.format(1,cdf_prob))\n",
    "print('10시에서 11시사이에서 {0}명 이상의 손님이 도착할 확률 : {1:.2f}%'.format(3,1-cdf_prob2))"
   ]
  },
  {
   "cell_type": "markdown",
   "id": "007a61a0",
   "metadata": {},
   "source": [
    "### p96"
   ]
  },
  {
   "cell_type": "code",
   "execution_count": 7,
   "id": "5b083c29",
   "metadata": {},
   "outputs": [
    {
     "name": "stdout",
     "output_type": "stream",
     "text": [
      "Shapiro-Wilk Test1 : statistic = 0.9062638878822327, p-value = 0.25630074739456177\n",
      "Shapiro-Wilk Test2 : statistic = 0.9729756116867065, p-value = 0.9169799089431763\n"
     ]
    }
   ],
   "source": [
    "from scipy.stats import shapiro\n",
    "\n",
    "ds = pd.read_csv('C:/Users/USER/Desktop/포스코 청년 아카데미_B4_김민경/통계이해/통계이해자료/2sample_t_test.csv')\n",
    "ds.head()\n",
    "\n",
    "ds = ds.dropna()  # 결측치를 무시하라\n",
    "data1 = ds['Mat_A']\n",
    "data2 = ds['Mat_B']\n",
    "\n",
    "\n",
    "# 정규성 검정\n",
    "shapiro(data1)\n",
    "shapiro(data2)\n",
    "\n",
    "statistic, p = stats.shapiro(data1)\n",
    "statistic2, p2 = stats.shapiro(data2)\n",
    "\n",
    "print(\"Shapiro-Wilk Test1 : statistic = {}, p-value = {}\".format(statistic, p))\n",
    "\n",
    "print(\"Shapiro-Wilk Test2 : statistic = {}, p-value = {}\".format(statistic2, p2)) \n",
    "\n",
    "# Shapiro-Wilk Test1 은 검정 통계랑이  0.906, p-value 값이 0.256 이므로 p-value > 0.05 \n",
    "# 따라서 귀무가설을 채택한다. \n",
    "# 표본으로 수집된 data는 정규분포를 따른다고 볼 수 있다. \n",
    "\n",
    "# Shapiro-Wilk Test2 은 검정 통계랑이  0.972, p-value 값이 0.916 이므로 p-value > 0.05 \n",
    "# 따라서 귀무가설을 채택한다. \n",
    "# 표본으로 수집된 data는 정규분포를 따른다고 볼 수 있다. "
   ]
  },
  {
   "cell_type": "markdown",
   "id": "0232a394",
   "metadata": {},
   "source": [
    "#### Shapiro-Wilk Test1 해석\n",
    "H0: 모집단이 정규분포를 따른다. <br>\n",
    "H1: 모집단이 정규분포를 따르지 않는다.<br>\n",
    "라는 가설을 설정하고 소규모 집단의 샤피로-윌크 검정을 하였을 때, 누락값을 제외한 Mat_A에 대한 검정통계량은 0.91이며 p-value는 0.256이 나왔다.<br>\n",
    "유의수준 $\\alpha$ = 0.05(95% 신뢰수준)에서 검정 결과, p-value > $\\alpha$로 귀무가설 H0를 기각하지 못한다.<br>\n",
    "따라서, 모집단이 정규분포를 따른다고 할 수 있다.\n"
   ]
  },
  {
   "cell_type": "markdown",
   "id": "bff9eac6",
   "metadata": {},
   "source": [
    "#### Shapiro-Wilk Test2 해석\n",
    "H0: 모집단이 정규분포를 따른다. <br>\n",
    "H1: 모집단이 정규분포를 따르지 않는다.<br>\n",
    "라는 가설을 설정하고 소규모 집단의 샤피로-윌크 검정을 하였을 때, 누락값을 제외한 Mat_B에 대한 검정통계량은 0.97이며 p-value는 0.92이 나왔다.<br>\n",
    "유의수준 $\\alpha$ = 0.05(95% 신뢰수준)에서 검정 결과, p-value > $\\alpha$로 귀무가설 H0를 기각하지 못한다.<br>\n",
    "따라서, 모집단이 정규분포를 따른다고 할 수 있다."
   ]
  },
  {
   "cell_type": "markdown",
   "id": "f55ff050",
   "metadata": {},
   "source": [
    "### p99"
   ]
  },
  {
   "cell_type": "markdown",
   "id": "35beb8f1",
   "metadata": {},
   "source": [
    "# 손으로 계산\n",
    "평균 x = 19.5    모표준편차 = 3.8\n",
    "19.5 - 1.96* (3.8/루트 20) <= M <= 19.5 + 1.96* (3.8/루트 20)\n",
    "17.84 <= M <= 21.165 나왔습니다"
   ]
  },
  {
   "cell_type": "code",
   "execution_count": 4,
   "id": "578a1e9e",
   "metadata": {},
   "outputs": [
    {
     "name": "stdout",
     "output_type": "stream",
     "text": [
      "ShapiroResult(statistic=0.955651044845581, pvalue=0.46101993322372437)\n",
      "신뢰구간 : ([17.83],[21.17])\n"
     ]
    }
   ],
   "source": [
    "import pandas as pd\n",
    "df = pd.DataFrame({'sample': [18, 18, 20, 21, 20, 23, 19, 18, 17, 21, \n",
    "                             22, 20, 20, 21, 20, 19, 19, 18, 17, 19]})\n",
    "df.head()\n",
    "\n",
    "# p-value > alpha로 정규성을 따른다.\n",
    "print(shapiro(df))\n",
    "\n",
    "# 정규분포 구간 추정 함수 실행 \n",
    "lower, upper = stats.norm.interval(0.95, loc = np.mean(df), scale = 3.8/np.sqrt(20))\n",
    "print(\"신뢰구간 : ({0},{1})\".format(lower.round(2),upper.round(2)))\n",
    "\n",
    "# 모평균 = 19.5 / 모평균이 신뢰구간인 7.83 에서 21.17 안에 포함된다. 즉 17.8~21.17 이 구간안에서 모평균을 추정할 수 있다."
   ]
  },
  {
   "cell_type": "markdown",
   "id": "bc72da50",
   "metadata": {},
   "source": [
    "#### 해석\n",
    "먼저, H0: 모집단은 정규성을 따른다. H1: 모집단은 정규성을 따르지 않는다.는 가설 설정 후 정규성에 대해 검정한 결과,<br>\n",
    "p-value = 0.46 > alpha = 0.05로 귀무가설을 채택한다. 따라서 정규성을 따른다고 할 수 있다. <br>\n",
    "모표준편차를 알고있을 때, 모평균의 신뢰구간을 추정하려면 z-test를 이용해야한다. <br>\n",
    "새로운 품종의 감자에 대한 평균 무게의 95% 신뢰구간을 구하면 17.83 ≤ $\\mu$ ≤ 21.17이다. <br>\n",
    "(단위 정보 없음 - kg으로 판단) 17.83kg와 21.17kg 구간 내에 새 품종 감자의 모평균이 존재한다."
   ]
  },
  {
   "cell_type": "markdown",
   "id": "c685ab8a",
   "metadata": {},
   "source": [
    "### p102"
   ]
  },
  {
   "cell_type": "code",
   "execution_count": 6,
   "id": "e720cd8e",
   "metadata": {},
   "outputs": [
    {
     "name": "stdout",
     "output_type": "stream",
     "text": [
      "ShapiroResult(statistic=0.9470751285552979, pvalue=0.3248629868030548)\n",
      "신뢰구간 : ([70.6],[72.4])\n"
     ]
    }
   ],
   "source": [
    "import pandas as pd\n",
    "from scipy.stats import shapiro\n",
    "df = pd.DataFrame({'sample': [73, 71, 74, 69, 70,73, 70, 68, 75, 72,\n",
    "                             70, 72, 73, 70, 70, 72, 71, 70, 75, 72]})\n",
    "df.head()\n",
    "\n",
    "print(shapiro(df))\n",
    "\n",
    "\n",
    "# 정규분포 구간 추정 함수 실행\n",
    "lower, upper = stats.t.interval(0.95, len(df)-1,loc = np.mean(df), scale = stats.sem(df))\n",
    "print(\"신뢰구간 : ({0},{1})\".format(lower.round(2),upper.round(2)))\n",
    "\n",
    "# 평균 인장강도를 70kg/mm2 으로 기대하고 있다. \n",
    "# 신뢰구간이 70.6 ~ 72.4 이므로 기대한 평균이 신뢰구간에 들어와 있기 때문에 새로 개발된 강종의 평균 인장을 70으로 볼 수 있다."
   ]
  },
  {
   "cell_type": "markdown",
   "id": "42f3a3f6",
   "metadata": {},
   "source": [
    "#### 해석\n",
    "먼저, H0: 모집단은 정규성을 따른다. H1: 모집단은 정규성을 따르지 않는다.는 가설 설정 후 정규성에 대해 검정한 결과,<br>\n",
    "p-value = 0.32 > alpha = 0.05로 귀무가설을 채택한다. 따라서 정규성을 따른다고 할 수 있다. <br>\n",
    "모표준편차를 모를 때, 모평균의 신뢰구간을 추정하려면 t-test를 이용해야한다. <br>\n",
    "새로운 강종의 평균 인장강도에 대해 95% 신뢰구간을 구하면 70.6 ≤ $\\mu$ ≤ 72.4이다. <br>\n",
    "즉, 70.6kg/$mm^2$와 72.4kg/$mm^2$ 구간 내에 새로운 강종의 인장강도에 대한 모평균이 존재한다."
   ]
  }
 ],
 "metadata": {
  "kernelspec": {
   "display_name": "Python 3",
   "language": "python",
   "name": "python3"
  },
  "language_info": {
   "codemirror_mode": {
    "name": "ipython",
    "version": 3
   },
   "file_extension": ".py",
   "mimetype": "text/x-python",
   "name": "python",
   "nbconvert_exporter": "python",
   "pygments_lexer": "ipython3",
   "version": "3.8.8"
  }
 },
 "nbformat": 4,
 "nbformat_minor": 5
}
