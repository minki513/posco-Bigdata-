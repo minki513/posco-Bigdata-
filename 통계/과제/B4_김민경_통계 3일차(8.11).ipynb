{
 "cells": [
  {
   "cell_type": "code",
   "execution_count": 1,
   "id": "cd35b448",
   "metadata": {},
   "outputs": [],
   "source": [
    "import numpy as np\n",
    "from scipy import stats\n",
    "import pandas as pd\n",
    "import statsmodels.api as sm\n",
    "import matplotlib.pyplot as plt\n",
    "import seaborn as sns\n",
    "from statsmodels.stats.proportion import proportions_ztest\n",
    "from scipy.stats import shapiro\n"
   ]
  },
  {
   "cell_type": "markdown",
   "id": "94b621dd",
   "metadata": {},
   "source": [
    "### p131"
   ]
  },
  {
   "cell_type": "code",
   "execution_count": 2,
   "id": "dbc65e28",
   "metadata": {},
   "outputs": [
    {
     "data": {
      "text/plain": [
       "ShapiroResult(statistic=0.8473217487335205, pvalue=0.0539751797914505)"
      ]
     },
     "execution_count": 2,
     "metadata": {},
     "output_type": "execute_result"
    }
   ],
   "source": [
    "df = pd.DataFrame({'sample': [85.0, 79.0, 79.1, 79.9, 81.6, 78.6, 85.4, 83.4, 78.1, 79.2]})\n",
    "\n",
    "# 정규성 검정\n",
    "shapiro(df)\n",
    "# p > 0.05 이므로 귀무가설 채택\n",
    "# 정규성이 있다"
   ]
  },
  {
   "cell_type": "code",
   "execution_count": 3,
   "id": "b5b58f2c",
   "metadata": {},
   "outputs": [
    {
     "name": "stdout",
     "output_type": "stream",
     "text": [
      "1-Sample t-test\n",
      "통계량 : [3.379]\n",
      "p-value : [0.008]\n"
     ]
    }
   ],
   "source": [
    "# 1-sample t-test\n",
    "t_result = stats.ttest_1samp(df, 78.0)\n",
    "\n",
    "## 1-sample t-test의 t값 p값 저장\n",
    "t, p = t_result.statistic.round(3),t_result.pvalue.round(3)\n",
    "\n",
    "## 1-sample t-test의 t값 p값 출력\n",
    "print(\"1-Sample t-test\")\n",
    "print(\"통계량 : {}\".format(t))\n",
    "print(\"p-value : {}\".format(p))\n",
    "\n",
    "#가설 수립 및 유의수준 설정 - 귀무가설 : 평균이 78이다  대립가설 : 평균이 78이 아니다  유의수준 : 0.05\n",
    "# 가설 검정 수행 - 통계량 3.379 / p-value : 0.008\n",
    "# 검정 결과 판단 - p 값이 0.008 이므로 p < 0.05 이므로 대립가설을 채택, 평균이 78이 아니다.\n",
    "# 즉, 개선활동이 고객 만족도 변화를 향상시켰다고 볼 수 있습니다. "
   ]
  },
  {
   "cell_type": "markdown",
   "id": "b7bbebe7",
   "metadata": {},
   "source": [
    "### p139"
   ]
  },
  {
   "cell_type": "code",
   "execution_count": 4,
   "id": "3e1fca5a",
   "metadata": {},
   "outputs": [
    {
     "data": {
      "text/plain": [
       "ShapiroResult(statistic=0.8425756096839905, pvalue=0.08004552870988846)"
      ]
     },
     "execution_count": 4,
     "metadata": {},
     "output_type": "execute_result"
    }
   ],
   "source": [
    "df1 = pd.DataFrame({'sample': [1.883, 1.715, 1.799, 1.768, 1.711, 1.832, 1.427, 1.344]})\n",
    "df2 = pd.DataFrame({'sample': [1.435, 1.572, 1.486, 1.511, 1.457, 1.548, 1.404, 1.883]})\n",
    "\n",
    "# 정규성 검정\n",
    "shapiro(df1)  # 정규성이 있다  (p > 0.05, 귀무가설 채택)"
   ]
  },
  {
   "cell_type": "code",
   "execution_count": 5,
   "id": "69086d56",
   "metadata": {},
   "outputs": [
    {
     "data": {
      "text/plain": [
       "ShapiroResult(statistic=0.7734811902046204, pvalue=0.014793740585446358)"
      ]
     },
     "execution_count": 5,
     "metadata": {},
     "output_type": "execute_result"
    }
   ],
   "source": [
    "# 정규성 검정\n",
    "shapiro(df2)  # 정규성이 없다. (p < 0.05, 대립가설 채택))"
   ]
  },
  {
   "cell_type": "code",
   "execution_count": 7,
   "id": "3dad8183",
   "metadata": {},
   "outputs": [
    {
     "data": {
      "text/plain": [
       "LeveneResult(statistic=0.4408416728536036, pvalue=0.5175025061092301)"
      ]
     },
     "execution_count": 7,
     "metadata": {},
     "output_type": "execute_result"
    }
   ],
   "source": [
    "# 등분산성 검정\n",
    "stats.levene(df1['sample'],df2['sample'])\n",
    "# p > 0.05 이므로 귀무가설 채택\n",
    "# 즉, 등분산성이 있다."
   ]
  },
  {
   "cell_type": "code",
   "execution_count": 9,
   "id": "49bf609c",
   "metadata": {},
   "outputs": [
    {
     "name": "stdout",
     "output_type": "stream",
     "text": [
      "2-Sample t-test\n",
      "t : [1.7]\n",
      "p : [0.111]\n"
     ]
    }
   ],
   "source": [
    "t_result = stats.ttest_ind(df1, df2)\n",
    "\n",
    "t, p = t_result.statistic.round(3),t_result.pvalue.round(3)\n",
    "\n",
    "## 2-sample t-test의 t값 p값 출력\n",
    "print(\"2-Sample t-test\")\n",
    "print(\"t : {}\".format(t))\n",
    "print(\"p : {}\".format(p))\n",
    "\n",
    "# 가설 수립 및 유의수준 설정 - 귀무가설 : A 공급자와 B공급자의 평균차이가 없다 / 대립가설 : A 공급자와 B공급자의 평균차이가 있다\n",
    "# 가설 검정 수행 -통계량 1.7 / p-value : 0.111  \n",
    "# 검정결과 판단 - p > 0.05 이므로 귀무가설 채택, A 공급자와 B공급자의 평균차이가 없다\n",
    "# 즉, 공급자간의 두께 차이가 없다."
   ]
  },
  {
   "cell_type": "markdown",
   "id": "f35eb615",
   "metadata": {},
   "source": [
    "### p142"
   ]
  },
  {
   "cell_type": "code",
   "execution_count": 10,
   "id": "e1174549",
   "metadata": {},
   "outputs": [
    {
     "name": "stdout",
     "output_type": "stream",
     "text": [
      "Paired t-test\n",
      "t : [-2.266]\n",
      "p : [0.05]\n"
     ]
    }
   ],
   "source": [
    "df1 = pd.DataFrame({'before': [720,589, 780, 648, 720, 589, 780, 648, 780, 648 ]})\n",
    "df2 = pd.DataFrame({'after': [710, 580, 787, 712, 750, 600, 782, 670, 790, 680]})\n",
    "\n",
    "t_result = stats.ttest_rel(df1, df2)\n",
    "\n",
    "t, p = t_result.statistic.round(3),t_result.pvalue.round(3)\n",
    "\n",
    "## paired t-test의 t값 p값 출력\n",
    "print(\"Paired t-test\")\n",
    "print(\"t : {}\".format(t))\n",
    "print(\"p : {}\".format(p))\n",
    "\n",
    "# 가설 수립 및 유의수준 설정 - 귀무가설 : 평균의 차이가 없다. / 대립가설 : 평균의 차이가 있다.\n",
    "# 가설 검정 수행 -통계량 -2.266 / p-value : 0.05 \n",
    "# 검정결과 판단 - p = 0.05 이므로 대립가설 채택, 평균의 차이가 있다.\n",
    "# 즉, 회사원들은 학원 숭강 전후의 점수는 차이가 있다고 할 수 있다.\n",
    "# 통계량이 음수이기 떄문에 (before-after) 학원을 간 후가 점수가 더 좋아졌다고 할 수 있다.  "
   ]
  },
  {
   "cell_type": "markdown",
   "id": "684ede90",
   "metadata": {},
   "source": [
    "### p148"
   ]
  },
  {
   "cell_type": "code",
   "execution_count": 11,
   "id": "a2b20955",
   "metadata": {},
   "outputs": [
    {
     "name": "stdout",
     "output_type": "stream",
     "text": [
      "1 Proportions test\n",
      "z : -2.041\n",
      "p : 0.041\n"
     ]
    }
   ],
   "source": [
    "count = 40\n",
    "n_obs = 100\n",
    "value = 0.5  \n",
    "\n",
    "\n",
    "stat,pval = proportions_ztest(count, n_obs, value)\n",
    "\n",
    "print(\"1 Proportions test\")\n",
    "print(\"z : {0:0.3f}\".format(stat))\n",
    "print(\"p : {0:0.3f}\".format(pval))\n",
    "\n",
    "\n",
    "# 가설 수립 및 유의수준 설정 - 귀무가설 : 앞면이 나올 확률은 50%이다. / 대립가설 : 앞면이 나올 확률은 50%가 아니다.\n",
    "# 가설 검정 수행 -통계량 -2.041 / p-value : 0.041\n",
    "# 검정결과 판단 - p < 0.05 이므로 대립가설 채택, 앞면이 나올 확률은 50%가 아니다. \n",
    "# 즉, 이 동전은 정상이 아니다. 그리고 z가 양수값이기에 앞면이 나올 확률이 50%에 미치지 못한다고 할 수 있다. "
   ]
  },
  {
   "cell_type": "markdown",
   "id": "e5aa0461",
   "metadata": {},
   "source": [
    "### p151"
   ]
  },
  {
   "cell_type": "code",
   "execution_count": 12,
   "id": "80703468",
   "metadata": {},
   "outputs": [
    {
     "name": "stdout",
     "output_type": "stream",
     "text": [
      "2 Proportions test\n",
      "z : 2.073\n",
      "p : 0.038\n"
     ]
    }
   ],
   "source": [
    "count = np.array([14, 5])\n",
    "nobs = np.array([1200, 1200])\n",
    "\n",
    "stat, pval = proportions_ztest(count, nobs)\n",
    "\n",
    "print(\"2 Proportions test\")\n",
    "print(\"z : {0:0.3f}\".format(stat))\n",
    "print(\"p : {0:0.3f}\".format(pval))\n",
    "\n",
    "\n",
    "# 가설 수립 및 유의수준 설정 - 귀무가설 : 두 공장의 불량률은 차이가 없다. / 대립가설 : 두 공장의 불량률은 차이가 있다.\n",
    "# 가설 검정 수행 -통계량 2.703 / p-value : 0.038\n",
    "# 검정결과 판단 - p < 0.05 이므로 대립가설 채택, 두 공장의 불량률은 차이가 있다.\n",
    "# 즉, 두 공정의 불량률이 같다고 할 수 없다. 통계량이 양수 값이므로 A공장의 불량률이 더 높다고 할 수 있다."
   ]
  },
  {
   "cell_type": "markdown",
   "id": "78c81b58",
   "metadata": {},
   "source": [
    "### p167"
   ]
  },
  {
   "cell_type": "markdown",
   "id": "bda45ee0",
   "metadata": {},
   "source": [
    "강종별 2차정련 시간에 차이가 있는지 검정"
   ]
  },
  {
   "cell_type": "code",
   "execution_count": 13,
   "id": "3acc6d0d",
   "metadata": {},
   "outputs": [
    {
     "name": "stdout",
     "output_type": "stream",
     "text": [
      "one-way\n",
      "F 통계량 : 4.172\n",
      "p-value : 0.019\n"
     ]
    },
    {
     "data": {
      "image/png": "[encoded data removed]",
      "text/plain": [
       "<Figure size 432x288 with 1 Axes>"
      ]
     },
     "metadata": {
      "needs_background": "light"
     },
     "output_type": "display_data"
    }
   ],
   "source": [
    "df = pd.DataFrame({'a': [32.2, 30.4, 33.6, 36.4, 33.9, 34.9],\n",
    "                   'b': [33.1, 29.9, 31.7,27.5, 34, 30.7 ],\n",
    "                   'c' : [32.6, 32.7, 29.3, 25.9, 31.1, 23.8],\n",
    "                   'd' : [26.7, 28.5, 30.9, 26.2, 32.3, 23.7]})\n",
    "\n",
    "df.boxplot(['a', 'b', 'c', 'd'])\n",
    "f_result = stats.f_oneway(df['a'],df['b'],df['c'],df['d'])\n",
    "\n",
    "f,p = f_result.statistic.round(3), f_result.pvalue.round(3)\n",
    "\n",
    "print(\"one-way\")\n",
    "print('F 통계량 : {}'.format(f))\n",
    "print('p-value : {}'.format(p))\n",
    "\n",
    "# 가설 수립 및 유의수준 설정 - 귀무가설 : 그룹 간의 평균이 똑같다. / 대립가설 : 적어도 하나의 평균이 다른 것이 존재한다.\n",
    "# 가설 검정 수행 -통계량 4.172 / p-value : 0.019\n",
    "# 검정결과 판단 - p < 0.05 이므로 대립가설 채택, 적어도 하나의 평균이 다른 것이 존재한다.\n",
    "# 즉, 강종별로 2차정련 시간에 차이가 있다."
   ]
  },
  {
   "cell_type": "markdown",
   "id": "c79a9e71",
   "metadata": {},
   "source": [
    "type에 따라 2차정련 시간에 차이가 있는지 검정"
   ]
  },
  {
   "cell_type": "code",
   "execution_count": 14,
   "id": "3fedf87f",
   "metadata": {},
   "outputs": [
    {
     "name": "stdout",
     "output_type": "stream",
     "text": [
      "one-way\n",
      "F 통계량 : 9.654\n",
      "p-value : 0.005\n"
     ]
    },
    {
     "data": {
      "image/png": "[encoded data removed]",
      "text/plain": [
       "<Figure size 432x288 with 1 Axes>"
      ]
     },
     "metadata": {
      "needs_background": "light"
     },
     "output_type": "display_data"
    }
   ],
   "source": [
    "df = pd.DataFrame({'a': [32.2, 30.4, 33.6, 36.4, 33.9, 34.9,33.1, 29.9, 31.7,27.5, 34, 30.7],\n",
    "                   'b' : [32.6, 32.7, 29.3, 25.9, 31.1, 23.8,26.7, 28.5, 30.9, 26.2, 32.3, 23.7]})\n",
    "\n",
    "df.boxplot(['a', 'b'])\n",
    "f_result = stats.f_oneway(df['a'],df['b'])\n",
    "\n",
    "f,p = f_result.statistic.round(3), f_result.pvalue.round(3)\n",
    "\n",
    "print(\"one-way\")\n",
    "print('F 통계량 : {}'.format(f))\n",
    "print('p-value : {}'.format(p))\n",
    "\n",
    "# 가설 수립 및 유의수준 설정 - 귀무가설 : 그룹 간의 평균이 똑같다. / 대립가설 : 적어도 하나의 평균이 다른 것이 존재한다.\n",
    "# 가설 검정 수행 -통계량 9.654 / p-value : 0.005\n",
    "# 검정결과 판단 - p < 0.05 이므로 대립가설 채택, 적어도 하나의 평균이 다른 것이 존재한다.\n",
    "# 즉, type 별로 2차정련 시간에 차이가 있다."
   ]
  },
  {
   "cell_type": "markdown",
   "id": "6f732184",
   "metadata": {},
   "source": [
    "### p204"
   ]
  },
  {
   "cell_type": "code",
   "execution_count": 48,
   "id": "972a09ce",
   "metadata": {},
   "outputs": [],
   "source": [
    "import pandas as pd\n",
    "import numpy as np\n",
    "import matplotlib.pyplot as plt\n",
    "import seaborn as sns\n",
    "from statsmodels.formula.api import ols\n",
    "from statsmodels.api import qqplot, add_constant\n",
    "import statsmodels.formula.api as smf\n",
    "import matplotlib\n",
    "\n",
    "\n",
    "matplotlib.rc('font', family = 'Malgun Gothic')\n",
    "matplotlib.rc('axes', unicode_minus=False)\n"
   ]
  },
  {
   "cell_type": "markdown",
   "id": "472fb382",
   "metadata": {},
   "source": [
    "1. 데이터 구성하기 "
   ]
  },
  {
   "cell_type": "code",
   "execution_count": 66,
   "id": "7ed20587",
   "metadata": {},
   "outputs": [],
   "source": [
    "# 데이터 구성하기\n",
    "\n",
    "df_raw = pd.DataFrame({'Strength':[37.6, 38.6, 37.2, 36.4, 38.6, 39, 37.2, 36.1, 35.9, 37.1, 36.9, 37.5, 36.3, 38.1, 39, 36.9, 36.8, 37.6, 33, 33.5],\n",
    "                       'Baking_time':[0.798922, 0.84902, 0.816163, 0.758266, 0.815894, 0.807477, 0.809068, 0.7664, 0.742243, 0.751118, 0.740629, 0.751495, 0.738863, 0.827428, 0.818172, 0.740939, 0.757128, 0.804695, 0.695121, 0.735377]})"
   ]
  },
  {
   "cell_type": "code",
   "execution_count": 67,
   "id": "e91796e1",
   "metadata": {},
   "outputs": [
    {
     "data": {
      "text/html": [
       "<div>\n",
       "<style scoped>\n",
       "    .dataframe tbody tr th:only-of-type {\n",
       "        vertical-align: middle;\n",
       "    }\n",
       "\n",
       "    .dataframe tbody tr th {\n",
       "        vertical-align: top;\n",
       "    }\n",
       "\n",
       "    .dataframe thead th {\n",
       "        text-align: right;\n",
       "    }\n",
       "</style>\n",
       "<table border=\"1\" class=\"dataframe\">\n",
       "  <thead>\n",
       "    <tr style=\"text-align: right;\">\n",
       "      <th></th>\n",
       "      <th>Strength</th>\n",
       "      <th>Baking_time</th>\n",
       "    </tr>\n",
       "  </thead>\n",
       "  <tbody>\n",
       "    <tr>\n",
       "      <th>count</th>\n",
       "      <td>20.000</td>\n",
       "      <td>20.000</td>\n",
       "    </tr>\n",
       "    <tr>\n",
       "      <th>mean</th>\n",
       "      <td>36.965</td>\n",
       "      <td>0.776</td>\n",
       "    </tr>\n",
       "    <tr>\n",
       "      <th>std</th>\n",
       "      <td>1.565</td>\n",
       "      <td>0.041</td>\n",
       "    </tr>\n",
       "    <tr>\n",
       "      <th>min</th>\n",
       "      <td>33.000</td>\n",
       "      <td>0.695</td>\n",
       "    </tr>\n",
       "    <tr>\n",
       "      <th>25%</th>\n",
       "      <td>36.375</td>\n",
       "      <td>0.742</td>\n",
       "    </tr>\n",
       "    <tr>\n",
       "      <th>50%</th>\n",
       "      <td>37.150</td>\n",
       "      <td>0.762</td>\n",
       "    </tr>\n",
       "    <tr>\n",
       "      <th>75%</th>\n",
       "      <td>37.725</td>\n",
       "      <td>0.811</td>\n",
       "    </tr>\n",
       "    <tr>\n",
       "      <th>max</th>\n",
       "      <td>39.000</td>\n",
       "      <td>0.849</td>\n",
       "    </tr>\n",
       "  </tbody>\n",
       "</table>\n",
       "</div>"
      ],
      "text/plain": [
       "       Strength  Baking_time\n",
       "count    20.000       20.000\n",
       "mean     36.965        0.776\n",
       "std       1.565        0.041\n",
       "min      33.000        0.695\n",
       "25%      36.375        0.742\n",
       "50%      37.150        0.762\n",
       "75%      37.725        0.811\n",
       "max      39.000        0.849"
      ]
     },
     "execution_count": 67,
     "metadata": {},
     "output_type": "execute_result"
    }
   ],
   "source": [
    "df_raw.describe().round(3)"
   ]
  },
  {
   "cell_type": "markdown",
   "id": "741a2749",
   "metadata": {},
   "source": [
    "2. 경향성 확인 "
   ]
  },
  {
   "cell_type": "code",
   "execution_count": 68,
   "id": "da9a84f5",
   "metadata": {},
   "outputs": [
    {
     "data": {
      "text/plain": [
       "<AxesSubplot:xlabel='Strength', ylabel='Baking_time'>"
      ]
     },
     "execution_count": 68,
     "metadata": {},
     "output_type": "execute_result"
    },
    {
     "data": {
      "image/png": "[encoded data removed]",
      "text/plain": [
       "<Figure size 432x288 with 1 Axes>"
      ]
     },
     "metadata": {
      "needs_background": "light"
     },
     "output_type": "display_data"
    }
   ],
   "source": [
    "# 산점도 분석  (선형적 관계이다 Strength가 증가 함에 따라 Baking time도 증가한다.)\n",
    "df_raw.plot.scatter(x = 'Strength', y = 'Baking_time')"
   ]
  },
  {
   "cell_type": "code",
   "execution_count": 69,
   "id": "6c1124be",
   "metadata": {},
   "outputs": [
    {
     "data": {
      "text/html": [
       "<div>\n",
       "<style scoped>\n",
       "    .dataframe tbody tr th:only-of-type {\n",
       "        vertical-align: middle;\n",
       "    }\n",
       "\n",
       "    .dataframe tbody tr th {\n",
       "        vertical-align: top;\n",
       "    }\n",
       "\n",
       "    .dataframe thead th {\n",
       "        text-align: right;\n",
       "    }\n",
       "</style>\n",
       "<table border=\"1\" class=\"dataframe\">\n",
       "  <thead>\n",
       "    <tr style=\"text-align: right;\">\n",
       "      <th></th>\n",
       "      <th>Strength</th>\n",
       "      <th>Baking_time</th>\n",
       "    </tr>\n",
       "  </thead>\n",
       "  <tbody>\n",
       "    <tr>\n",
       "      <th>Strength</th>\n",
       "      <td>1.000</td>\n",
       "      <td>0.804</td>\n",
       "    </tr>\n",
       "    <tr>\n",
       "      <th>Baking_time</th>\n",
       "      <td>0.804</td>\n",
       "      <td>1.000</td>\n",
       "    </tr>\n",
       "  </tbody>\n",
       "</table>\n",
       "</div>"
      ],
      "text/plain": [
       "             Strength  Baking_time\n",
       "Strength        1.000        0.804\n",
       "Baking_time     0.804        1.000"
      ]
     },
     "execution_count": 69,
     "metadata": {},
     "output_type": "execute_result"
    }
   ],
   "source": [
    "# 상관관계 분석\n",
    "df_raw.corr(method = 'pearson').round(3)\n",
    "\n",
    "# 상관관계가 0.804 이므로 양의 상관관계이며 선형관계가 있음을 확인할 수 있다 "
   ]
  },
  {
   "cell_type": "markdown",
   "id": "9b31620c",
   "metadata": {},
   "source": [
    "3. 회귀 모델 생성"
   ]
  },
  {
   "cell_type": "code",
   "execution_count": 70,
   "id": "cadd3e39",
   "metadata": {},
   "outputs": [
    {
     "name": "stdout",
     "output_type": "stream",
     "text": [
      "                            OLS Regression Results                            \n",
      "==============================================================================\n",
      "Dep. Variable:            Baking_time   R-squared:                       0.646\n",
      "Model:                            OLS   Adj. R-squared:                  0.627\n",
      "Method:                 Least Squares   F-statistic:                     32.90\n",
      "Date:                Wed, 11 Aug 2021   Prob (F-statistic):           1.95e-05\n",
      "Time:                        21:39:24   Log-Likelihood:                 46.530\n",
      "No. Observations:                  20   AIC:                            -89.06\n",
      "Df Residuals:                      18   BIC:                            -87.07\n",
      "Df Model:                           1                                         \n",
      "Covariance Type:            nonrobust                                         \n",
      "==============================================================================\n",
      "                 coef    std err          t      P>|t|      [0.025      0.975]\n",
      "------------------------------------------------------------------------------\n",
      "Intercept      0.0023      0.135      0.017      0.987      -0.281       0.286\n",
      "Strength       0.0209      0.004      5.736      0.000       0.013       0.029\n",
      "==============================================================================\n",
      "Omnibus:                        2.651   Durbin-Watson:                   1.128\n",
      "Prob(Omnibus):                  0.266   Jarque-Bera (JB):                1.168\n",
      "Skew:                           0.047   Prob(JB):                        0.558\n",
      "Kurtosis:                       1.820   Cond. No.                         898.\n",
      "==============================================================================\n",
      "\n",
      "Notes:\n",
      "[1] Standard Errors assume that the covariance matrix of the errors is correctly specified.\n"
     ]
    }
   ],
   "source": [
    "# 선형회귀분석\n",
    "\n",
    "reg_model = smf.ols(formula = 'Baking_time ~ Strength', data = df_raw)\n",
    "reg_result = reg_model.fit()\n",
    "print(reg_result.summary())\n",
    "\n",
    "# R-squared 가 0.646 이다 Strength 로 Baking_time의 변동이 64.6%을 설명할 수 있다. \n",
    "# p 값이 1.95e-05 이므로 유의수준 0.05 보다 작으므로 회귀모델로서 유의하다 = 기울기가 의미가 있다.\n",
    "# No. Observations (분석자료수) : 20개 / Df Residual(잔차 자유도) : 18 / Df Model(모델 자유도) : 1\n",
    "# Strength 의 p값이 0.000 이다. p < 0.05 이므로 유의하다 "
   ]
  },
  {
   "cell_type": "markdown",
   "id": "c0d08bab",
   "metadata": {},
   "source": [
    "4. 잔차(오차) 분석"
   ]
  },
  {
   "cell_type": "code",
   "execution_count": 71,
   "id": "8c53a382",
   "metadata": {},
   "outputs": [
    {
     "data": {
      "text/plain": [
       "<matplotlib.lines.Line2D at 0x1e94406fb50>"
      ]
     },
     "execution_count": 71,
     "metadata": {},
     "output_type": "execute_result"
    },
    {
     "data": {
      "image/png": "[encoded data removed]",
      "text/plain": [
       "<Figure size 432x288 with 1 Axes>"
      ]
     },
     "metadata": {
      "needs_background": "light"
     },
     "output_type": "display_data"
    }
   ],
   "source": [
    "# 잔차의 등분산성 \n",
    "plt.scatter(reg_result.fittedvalues, reg_result.resid)\n",
    "plt.xlabel('fitted value')\n",
    "plt.ylabel('residual')\n",
    "plt.axhline(y = 0, linestyle = '--')\n",
    "\n",
    "# 그래프를 보면 경향성이 없으며 등분산성을 만족한다. "
   ]
  },
  {
   "cell_type": "code",
   "execution_count": 72,
   "id": "a8911bbf",
   "metadata": {},
   "outputs": [
    {
     "data": {
      "text/plain": [
       "<matplotlib.lines.Line2D at 0x1e945d43160>"
      ]
     },
     "execution_count": 72,
     "metadata": {},
     "output_type": "execute_result"
    },
    {
     "data": {
      "image/png": "[encoded data removed]",
      "text/plain": [
       "<Figure size 432x288 with 1 Axes>"
      ]
     },
     "metadata": {
      "needs_background": "light"
     },
     "output_type": "display_data"
    }
   ],
   "source": [
    "# 잔차의 독립성\n",
    "plt.plot(df_raw['Strength'], reg_result.resid, marker = 'o')\n",
    "plt.xlabel('Data')\n",
    "plt.ylabel('residual')\n",
    "plt.axhline(y = 0, linestyle = '-')\n",
    "plt.axhline(y = 3*np.std(reg_result.resid), linestyle = '--')\n",
    "plt.axhline(y = -3* np.std(reg_result.resid), linestyle = '--')\n",
    "\n",
    "# 독립성을 만족한다. "
   ]
  },
  {
   "cell_type": "code",
   "execution_count": 75,
   "id": "6dc6c150",
   "metadata": {},
   "outputs": [
    {
     "data": {
      "text/plain": [
       "NormaltestResult(statistic=2.6513017707721476, pvalue=0.26563000811901577)"
      ]
     },
     "execution_count": 75,
     "metadata": {},
     "output_type": "execute_result"
    },
    {
     "data": {
      "image/png": "[encoded data removed]",
      "text/plain": [
       "<Figure size 432x288 with 1 Axes>"
      ]
     },
     "metadata": {
      "needs_background": "light"
     },
     "output_type": "display_data"
    }
   ],
   "source": [
    "# 잔차의 정규성 검정\n",
    "qqplot(reg_result.resid, line = 'q')\n",
    "\n",
    "from statsmodels.stats.stattools import omni_normtest\n",
    "omni_normtest(reg_result.resid, axis =0)\n",
    "\n",
    "# 정규 분포 직선을 중심으로 분포하고 있다. \n",
    "# p = 0.26 이므로 p > 0.05 귀무가설을 채택한다\n",
    "# 즉, 정규분포를 따른다. "
   ]
  },
  {
   "cell_type": "code",
   "execution_count": 76,
   "id": "f9a26e90",
   "metadata": {},
   "outputs": [
    {
     "data": {
      "text/plain": [
       "1.1281763812390104"
      ]
     },
     "execution_count": 76,
     "metadata": {},
     "output_type": "execute_result"
    }
   ],
   "source": [
    "# 더빈왓슨 통계량 - 잔차간의 독립성을 확인하는 통계량\n",
    "from statsmodels.stats.stattools import durbin_watson\n",
    "\n",
    "durbin_watson(reg_result.resid)\n",
    "\n",
    "# 2에 가까운 값으로 잔차가 독립한다. 잔차간의 상관계수가 없다."
   ]
  },
  {
   "cell_type": "markdown",
   "id": "2a493bcb",
   "metadata": {},
   "source": [
    "5. 모델 분석"
   ]
  },
  {
   "cell_type": "markdown",
   "id": "20ac37d5",
   "metadata": {},
   "source": [
    "y^ = 0.0023 + 0.0209 * Strength\n",
    "\n",
    "-> 강도가 증가할때마다 베이킹 시간이 0.0209씩 증가한다.\n",
    "\n",
    "초코칩의 강도가 40 일때 예상 베이킹 시간은 0.8383 이다."
   ]
  }
 ],
 "metadata": {
  "kernelspec": {
   "display_name": "Python 3",
   "language": "python",
   "name": "python3"
  },
  "language_info": {
   "codemirror_mode": {
    "name": "ipython",
    "version": 3
   },
   "file_extension": ".py",
   "mimetype": "text/x-python",
   "name": "python",
   "nbconvert_exporter": "python",
   "pygments_lexer": "ipython3",
   "version": "3.8.8"
  }
 },
 "nbformat": 4,
 "nbformat_minor": 5
}
