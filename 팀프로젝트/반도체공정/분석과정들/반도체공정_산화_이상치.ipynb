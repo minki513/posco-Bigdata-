{
 "cells": [
  {
   "cell_type": "code",
   "execution_count": 7,
   "id": "829e3d90",
   "metadata": {},
   "outputs": [],
   "source": [
    "import pandas as pd\n",
    "import numpy as np\n",
    "import matplotlib.pyplot as plt\n",
    "import seaborn as sns\n",
    "# 회귀분석\n",
    "from statsmodels.formula.api import ols\n",
    "# qqplot, 회귀분석의 상수항 추가\n",
    "from statsmodels.api import qqplot, add_constant\n",
    "# 선형 모델 formula(y ~ X1 + X2 + ...)\n",
    "import statsmodels.formula.api as smf\n",
    "# 다중공선성 확인\n",
    "from statsmodels.stats.outliers_influence import variance_inflation_factor\n",
    "# 선형회귀모형\n",
    "from sklearn.linear_model import LinearRegression\n",
    "# 변수 선택법(후진제거법)\n",
    "from sklearn.feature_selection import RFE\n",
    "# Scale 변환->표준화 회귀계수 산출\n",
    "from sklearn.preprocessing import StandardScaler\n",
    "# 평가함수\n",
    "from statsmodels.tools.eval_measures import rmse\n",
    "import matplotlib\n",
    "# 패키지 불러오기\n",
    "from sklearn.linear_model import Ridge, Lasso, ElasticNet\n",
    "#from sklearn.tree import export_graphviz  환경 설정하기 어려움\n",
    "#import graphviz\n",
    "\n",
    "from sklearn.model_selection import train_test_split\n",
    "from sklearn.tree import DecisionTreeRegressor\n",
    "from sklearn.model_selection import GridSearchCV\n",
    "# 나무 구조 시각화  \n",
    "from sklearn.tree import plot_tree\n",
    "# 예측 / 회귀 random forest\n",
    "from sklearn.ensemble import RandomForestRegressor\n",
    "matplotlib.rc('font', family = 'Malgun Gothic') \n",
    "from sklearn.ensemble import GradientBoostingRegressor\n",
    "from sklearn.preprocessing import scale, minmax_scale, robust_scale\n",
    "\n",
    "#평가 함수\n",
    "from sklearn.metrics import mean_squared_error\n",
    "from sklearn.metrics import mean_absolute_error\n",
    "# 음수 표시\n",
    "matplotlib.rc('axes', unicode_minus=False)\n",
    "matplotlib.rc('font', family = 'Malgun Gothic') \n",
    "\n",
    "from scipy.stats import chi2_contingency\n",
    "from scipy import stats\n",
    "\n",
    "# 로지스틱 회귀\n",
    "from statsmodels.api import Logit\n",
    "from sklearn.tree import DecisionTreeClassifier\n",
    "from sklearn.ensemble import RandomForestClassifier\n",
    "\n",
    "from sklearn.metrics import accuracy_score, f1_score\n",
    "from sklearn.metrics import confusion_matrix, classification_report"
   ]
  },
  {
   "cell_type": "code",
   "execution_count": 13,
   "id": "1e784548",
   "metadata": {},
   "outputs": [
    {
     "data": {
      "text/html": [
       "<div>\n",
       "<style scoped>\n",
       "    .dataframe tbody tr th:only-of-type {\n",
       "        vertical-align: middle;\n",
       "    }\n",
       "\n",
       "    .dataframe tbody tr th {\n",
       "        vertical-align: top;\n",
       "    }\n",
       "\n",
       "    .dataframe thead th {\n",
       "        text-align: right;\n",
       "    }\n",
       "</style>\n",
       "<table border=\"1\" class=\"dataframe\">\n",
       "  <thead>\n",
       "    <tr style=\"text-align: right;\">\n",
       "      <th></th>\n",
       "      <th>Unnamed: 0</th>\n",
       "      <th>No_Die</th>\n",
       "      <th>Ox_Chamber</th>\n",
       "      <th>process</th>\n",
       "      <th>type</th>\n",
       "      <th>Temp_OXid</th>\n",
       "      <th>Vapor</th>\n",
       "      <th>ppm</th>\n",
       "      <th>Pressure</th>\n",
       "      <th>Oxid_time</th>\n",
       "      <th>thickness</th>\n",
       "      <th>Lot_Num</th>\n",
       "      <th>Wafer_Num</th>\n",
       "      <th>Datetime</th>\n",
       "    </tr>\n",
       "  </thead>\n",
       "  <tbody>\n",
       "    <tr>\n",
       "      <th>0</th>\n",
       "      <td>0</td>\n",
       "      <td>NOLSM325131325</td>\n",
       "      <td>2</td>\n",
       "      <td>Oxidation</td>\n",
       "      <td>dry</td>\n",
       "      <td>1214.307948</td>\n",
       "      <td>O2</td>\n",
       "      <td>26.69</td>\n",
       "      <td>0.203</td>\n",
       "      <td>120</td>\n",
       "      <td>713.132</td>\n",
       "      <td>13</td>\n",
       "      <td>28</td>\n",
       "      <td>01-03-2019</td>\n",
       "    </tr>\n",
       "    <tr>\n",
       "      <th>1</th>\n",
       "      <td>1</td>\n",
       "      <td>NOLSM326132326</td>\n",
       "      <td>2</td>\n",
       "      <td>Oxidation</td>\n",
       "      <td>dry</td>\n",
       "      <td>978.110792</td>\n",
       "      <td>O2</td>\n",
       "      <td>30.86</td>\n",
       "      <td>0.217</td>\n",
       "      <td>137</td>\n",
       "      <td>714.295</td>\n",
       "      <td>13</td>\n",
       "      <td>29</td>\n",
       "      <td>01-03-2019</td>\n",
       "    </tr>\n",
       "    <tr>\n",
       "      <th>2</th>\n",
       "      <td>2</td>\n",
       "      <td>NOLSM327133327</td>\n",
       "      <td>2</td>\n",
       "      <td>Oxidation</td>\n",
       "      <td>dry</td>\n",
       "      <td>1176.019149</td>\n",
       "      <td>O2</td>\n",
       "      <td>31.07</td>\n",
       "      <td>0.218</td>\n",
       "      <td>116</td>\n",
       "      <td>710.114</td>\n",
       "      <td>13</td>\n",
       "      <td>30</td>\n",
       "      <td>01-03-2019</td>\n",
       "    </tr>\n",
       "    <tr>\n",
       "      <th>3</th>\n",
       "      <td>3</td>\n",
       "      <td>NOLSM328134328</td>\n",
       "      <td>2</td>\n",
       "      <td>Oxidation</td>\n",
       "      <td>dry</td>\n",
       "      <td>933.442733</td>\n",
       "      <td>O2</td>\n",
       "      <td>31.04</td>\n",
       "      <td>0.196</td>\n",
       "      <td>143</td>\n",
       "      <td>710.617</td>\n",
       "      <td>13</td>\n",
       "      <td>31</td>\n",
       "      <td>01-03-2019</td>\n",
       "    </tr>\n",
       "    <tr>\n",
       "      <th>4</th>\n",
       "      <td>4</td>\n",
       "      <td>NOLSM329135329</td>\n",
       "      <td>2</td>\n",
       "      <td>Oxidation</td>\n",
       "      <td>wet</td>\n",
       "      <td>1140.598752</td>\n",
       "      <td>H2O</td>\n",
       "      <td>31.37</td>\n",
       "      <td>0.215</td>\n",
       "      <td>76</td>\n",
       "      <td>711.632</td>\n",
       "      <td>13</td>\n",
       "      <td>32</td>\n",
       "      <td>01-03-2019</td>\n",
       "    </tr>\n",
       "    <tr>\n",
       "      <th>...</th>\n",
       "      <td>...</td>\n",
       "      <td>...</td>\n",
       "      <td>...</td>\n",
       "      <td>...</td>\n",
       "      <td>...</td>\n",
       "      <td>...</td>\n",
       "      <td>...</td>\n",
       "      <td>...</td>\n",
       "      <td>...</td>\n",
       "      <td>...</td>\n",
       "      <td>...</td>\n",
       "      <td>...</td>\n",
       "      <td>...</td>\n",
       "      <td>...</td>\n",
       "    </tr>\n",
       "    <tr>\n",
       "      <th>1699</th>\n",
       "      <td>1699</td>\n",
       "      <td>NOLSM8483211</td>\n",
       "      <td>3</td>\n",
       "      <td>Oxidation</td>\n",
       "      <td>wet</td>\n",
       "      <td>1275.182502</td>\n",
       "      <td>H2O</td>\n",
       "      <td>45.10</td>\n",
       "      <td>0.214</td>\n",
       "      <td>21</td>\n",
       "      <td>715.498</td>\n",
       "      <td>32</td>\n",
       "      <td>11</td>\n",
       "      <td>28-02-2019</td>\n",
       "    </tr>\n",
       "    <tr>\n",
       "      <th>1700</th>\n",
       "      <td>1700</td>\n",
       "      <td>NOLSM8493212</td>\n",
       "      <td>1</td>\n",
       "      <td>Oxidation</td>\n",
       "      <td>wet</td>\n",
       "      <td>1268.105427</td>\n",
       "      <td>H2O</td>\n",
       "      <td>45.07</td>\n",
       "      <td>0.215</td>\n",
       "      <td>22</td>\n",
       "      <td>707.179</td>\n",
       "      <td>32</td>\n",
       "      <td>12</td>\n",
       "      <td>28-02-2019</td>\n",
       "    </tr>\n",
       "    <tr>\n",
       "      <th>1701</th>\n",
       "      <td>1701</td>\n",
       "      <td>NOLSM8503213</td>\n",
       "      <td>1</td>\n",
       "      <td>Oxidation</td>\n",
       "      <td>wet</td>\n",
       "      <td>1279.160563</td>\n",
       "      <td>H2O</td>\n",
       "      <td>45.12</td>\n",
       "      <td>0.214</td>\n",
       "      <td>21</td>\n",
       "      <td>712.946</td>\n",
       "      <td>32</td>\n",
       "      <td>13</td>\n",
       "      <td>28-02-2019</td>\n",
       "    </tr>\n",
       "    <tr>\n",
       "      <th>1702</th>\n",
       "      <td>1702</td>\n",
       "      <td>NOLSM8513214</td>\n",
       "      <td>1</td>\n",
       "      <td>Oxidation</td>\n",
       "      <td>wet</td>\n",
       "      <td>1272.804948</td>\n",
       "      <td>H2O</td>\n",
       "      <td>45.34</td>\n",
       "      <td>0.213</td>\n",
       "      <td>20</td>\n",
       "      <td>711.987</td>\n",
       "      <td>32</td>\n",
       "      <td>14</td>\n",
       "      <td>28-02-2019</td>\n",
       "    </tr>\n",
       "    <tr>\n",
       "      <th>1703</th>\n",
       "      <td>1703</td>\n",
       "      <td>NOLSM8523215</td>\n",
       "      <td>1</td>\n",
       "      <td>Oxidation</td>\n",
       "      <td>wet</td>\n",
       "      <td>1278.097085</td>\n",
       "      <td>H2O</td>\n",
       "      <td>45.26</td>\n",
       "      <td>0.215</td>\n",
       "      <td>22</td>\n",
       "      <td>716.238</td>\n",
       "      <td>32</td>\n",
       "      <td>15</td>\n",
       "      <td>28-02-2019</td>\n",
       "    </tr>\n",
       "  </tbody>\n",
       "</table>\n",
       "<p>1704 rows × 14 columns</p>\n",
       "</div>"
      ],
      "text/plain": [
       "      Unnamed: 0          No_Die  Ox_Chamber    process type    Temp_OXid  \\\n",
       "0              0  NOLSM325131325           2  Oxidation  dry  1214.307948   \n",
       "1              1  NOLSM326132326           2  Oxidation  dry   978.110792   \n",
       "2              2  NOLSM327133327           2  Oxidation  dry  1176.019149   \n",
       "3              3  NOLSM328134328           2  Oxidation  dry   933.442733   \n",
       "4              4  NOLSM329135329           2  Oxidation  wet  1140.598752   \n",
       "...          ...             ...         ...        ...  ...          ...   \n",
       "1699        1699    NOLSM8483211           3  Oxidation  wet  1275.182502   \n",
       "1700        1700    NOLSM8493212           1  Oxidation  wet  1268.105427   \n",
       "1701        1701    NOLSM8503213           1  Oxidation  wet  1279.160563   \n",
       "1702        1702    NOLSM8513214           1  Oxidation  wet  1272.804948   \n",
       "1703        1703    NOLSM8523215           1  Oxidation  wet  1278.097085   \n",
       "\n",
       "     Vapor    ppm  Pressure  Oxid_time  thickness  Lot_Num  Wafer_Num  \\\n",
       "0       O2  26.69     0.203        120    713.132       13         28   \n",
       "1       O2  30.86     0.217        137    714.295       13         29   \n",
       "2       O2  31.07     0.218        116    710.114       13         30   \n",
       "3       O2  31.04     0.196        143    710.617       13         31   \n",
       "4      H2O  31.37     0.215         76    711.632       13         32   \n",
       "...    ...    ...       ...        ...        ...      ...        ...   \n",
       "1699   H2O  45.10     0.214         21    715.498       32         11   \n",
       "1700   H2O  45.07     0.215         22    707.179       32         12   \n",
       "1701   H2O  45.12     0.214         21    712.946       32         13   \n",
       "1702   H2O  45.34     0.213         20    711.987       32         14   \n",
       "1703   H2O  45.26     0.215         22    716.238       32         15   \n",
       "\n",
       "        Datetime  \n",
       "0     01-03-2019  \n",
       "1     01-03-2019  \n",
       "2     01-03-2019  \n",
       "3     01-03-2019  \n",
       "4     01-03-2019  \n",
       "...          ...  \n",
       "1699  28-02-2019  \n",
       "1700  28-02-2019  \n",
       "1701  28-02-2019  \n",
       "1702  28-02-2019  \n",
       "1703  28-02-2019  \n",
       "\n",
       "[1704 rows x 14 columns]"
      ]
     },
     "execution_count": 13,
     "metadata": {},
     "output_type": "execute_result"
    }
   ],
   "source": [
    "Ox_data = pd.read_csv(\"C:/Users/USER/Desktop/반도체 공정/데이터/Oxidation.CSV\",encoding='euc-kr')\n",
    "Ox_data"
   ]
  },
  {
   "cell_type": "code",
   "execution_count": 14,
   "id": "cf5dfa24",
   "metadata": {},
   "outputs": [
    {
     "data": {
      "text/plain": [
       "Unnamed: 0    0\n",
       "No_Die        0\n",
       "Ox_Chamber    0\n",
       "process       0\n",
       "type          0\n",
       "Temp_OXid     0\n",
       "Vapor         0\n",
       "ppm           0\n",
       "Pressure      0\n",
       "Oxid_time     0\n",
       "thickness     0\n",
       "Lot_Num       0\n",
       "Wafer_Num     0\n",
       "Datetime      0\n",
       "dtype: int64"
      ]
     },
     "execution_count": 14,
     "metadata": {},
     "output_type": "execute_result"
    }
   ],
   "source": [
    "Ox_data.isnull().sum()"
   ]
  },
  {
   "cell_type": "code",
   "execution_count": 25,
   "id": "57b33a84",
   "metadata": {},
   "outputs": [
    {
     "data": {
      "text/html": [
       "<div>\n",
       "<style scoped>\n",
       "    .dataframe tbody tr th:only-of-type {\n",
       "        vertical-align: middle;\n",
       "    }\n",
       "\n",
       "    .dataframe tbody tr th {\n",
       "        vertical-align: top;\n",
       "    }\n",
       "\n",
       "    .dataframe thead th {\n",
       "        text-align: right;\n",
       "    }\n",
       "</style>\n",
       "<table border=\"1\" class=\"dataframe\">\n",
       "  <thead>\n",
       "    <tr style=\"text-align: right;\">\n",
       "      <th></th>\n",
       "      <th>Unnamed: 0</th>\n",
       "      <th>Ox_Chamber</th>\n",
       "      <th>Temp_OXid</th>\n",
       "      <th>ppm</th>\n",
       "      <th>Pressure</th>\n",
       "      <th>Oxid_time</th>\n",
       "      <th>thickness</th>\n",
       "      <th>Lot_Num</th>\n",
       "      <th>Wafer_Num</th>\n",
       "    </tr>\n",
       "  </thead>\n",
       "  <tbody>\n",
       "    <tr>\n",
       "      <th>count</th>\n",
       "      <td>1704.000000</td>\n",
       "      <td>1704.000000</td>\n",
       "      <td>1704.000000</td>\n",
       "      <td>1704.000000</td>\n",
       "      <td>1704.000000</td>\n",
       "      <td>1704.000000</td>\n",
       "      <td>1704.000000</td>\n",
       "      <td>1704.000000</td>\n",
       "      <td>1704.000000</td>\n",
       "    </tr>\n",
       "    <tr>\n",
       "      <th>mean</th>\n",
       "      <td>851.500000</td>\n",
       "      <td>1.952465</td>\n",
       "      <td>1069.505134</td>\n",
       "      <td>33.434173</td>\n",
       "      <td>0.210747</td>\n",
       "      <td>98.392019</td>\n",
       "      <td>711.019512</td>\n",
       "      <td>16.281690</td>\n",
       "      <td>27.394366</td>\n",
       "    </tr>\n",
       "    <tr>\n",
       "      <th>std</th>\n",
       "      <td>492.046746</td>\n",
       "      <td>0.812826</td>\n",
       "      <td>149.790056</td>\n",
       "      <td>8.078535</td>\n",
       "      <td>0.009245</td>\n",
       "      <td>72.350780</td>\n",
       "      <td>7.993529</td>\n",
       "      <td>9.114164</td>\n",
       "      <td>15.586611</td>\n",
       "    </tr>\n",
       "    <tr>\n",
       "      <th>min</th>\n",
       "      <td>0.000000</td>\n",
       "      <td>1.000000</td>\n",
       "      <td>862.011276</td>\n",
       "      <td>21.070000</td>\n",
       "      <td>0.180000</td>\n",
       "      <td>-6.000000</td>\n",
       "      <td>681.435000</td>\n",
       "      <td>1.000000</td>\n",
       "      <td>1.000000</td>\n",
       "    </tr>\n",
       "    <tr>\n",
       "      <th>25%</th>\n",
       "      <td>425.750000</td>\n",
       "      <td>1.000000</td>\n",
       "      <td>889.549749</td>\n",
       "      <td>26.110000</td>\n",
       "      <td>0.204000</td>\n",
       "      <td>31.000000</td>\n",
       "      <td>706.930000</td>\n",
       "      <td>8.000000</td>\n",
       "      <td>14.000000</td>\n",
       "    </tr>\n",
       "    <tr>\n",
       "      <th>50%</th>\n",
       "      <td>851.500000</td>\n",
       "      <td>2.000000</td>\n",
       "      <td>1075.160409</td>\n",
       "      <td>33.675000</td>\n",
       "      <td>0.212000</td>\n",
       "      <td>85.000000</td>\n",
       "      <td>711.690500</td>\n",
       "      <td>16.000000</td>\n",
       "      <td>27.500000</td>\n",
       "    </tr>\n",
       "    <tr>\n",
       "      <th>75%</th>\n",
       "      <td>1277.250000</td>\n",
       "      <td>3.000000</td>\n",
       "      <td>1192.077105</td>\n",
       "      <td>39.510000</td>\n",
       "      <td>0.217000</td>\n",
       "      <td>147.000000</td>\n",
       "      <td>715.478000</td>\n",
       "      <td>24.000000</td>\n",
       "      <td>41.000000</td>\n",
       "    </tr>\n",
       "    <tr>\n",
       "      <th>max</th>\n",
       "      <td>1703.000000</td>\n",
       "      <td>3.000000</td>\n",
       "      <td>1348.471208</td>\n",
       "      <td>49.910000</td>\n",
       "      <td>0.229000</td>\n",
       "      <td>291.000000</td>\n",
       "      <td>737.402000</td>\n",
       "      <td>32.000000</td>\n",
       "      <td>54.000000</td>\n",
       "    </tr>\n",
       "  </tbody>\n",
       "</table>\n",
       "</div>"
      ],
      "text/plain": [
       "        Unnamed: 0   Ox_Chamber    Temp_OXid          ppm     Pressure  \\\n",
       "count  1704.000000  1704.000000  1704.000000  1704.000000  1704.000000   \n",
       "mean    851.500000     1.952465  1069.505134    33.434173     0.210747   \n",
       "std     492.046746     0.812826   149.790056     8.078535     0.009245   \n",
       "min       0.000000     1.000000   862.011276    21.070000     0.180000   \n",
       "25%     425.750000     1.000000   889.549749    26.110000     0.204000   \n",
       "50%     851.500000     2.000000  1075.160409    33.675000     0.212000   \n",
       "75%    1277.250000     3.000000  1192.077105    39.510000     0.217000   \n",
       "max    1703.000000     3.000000  1348.471208    49.910000     0.229000   \n",
       "\n",
       "         Oxid_time    thickness      Lot_Num    Wafer_Num  \n",
       "count  1704.000000  1704.000000  1704.000000  1704.000000  \n",
       "mean     98.392019   711.019512    16.281690    27.394366  \n",
       "std      72.350780     7.993529     9.114164    15.586611  \n",
       "min      -6.000000   681.435000     1.000000     1.000000  \n",
       "25%      31.000000   706.930000     8.000000    14.000000  \n",
       "50%      85.000000   711.690500    16.000000    27.500000  \n",
       "75%     147.000000   715.478000    24.000000    41.000000  \n",
       "max     291.000000   737.402000    32.000000    54.000000  "
      ]
     },
     "execution_count": 25,
     "metadata": {},
     "output_type": "execute_result"
    }
   ],
   "source": [
    "Ox_data.describe()"
   ]
  },
  {
   "cell_type": "code",
   "execution_count": 44,
   "id": "e259d5bb",
   "metadata": {},
   "outputs": [
    {
     "data": {
      "text/plain": [
       "<AxesSubplot:>"
      ]
     },
     "execution_count": 44,
     "metadata": {},
     "output_type": "execute_result"
    },
    {
     "data": {
      "image/png": "[encoded data removed]",
      "text/plain": [
       "<Figure size 1296x720 with 1 Axes>"
      ]
     },
     "metadata": {
      "needs_background": "light"
     },
     "output_type": "display_data"
    }
   ],
   "source": [
    "Ox_data.boxplot(figsize= (18,10))"
   ]
  },
  {
   "cell_type": "code",
   "execution_count": 46,
   "id": "20f72dd5",
   "metadata": {},
   "outputs": [
    {
     "data": {
      "text/plain": [
       "array([[<AxesSubplot:title={'center':'Unnamed: 0'}>,\n",
       "        <AxesSubplot:title={'center':'Ox_Chamber'}>,\n",
       "        <AxesSubplot:title={'center':'Temp_OXid'}>],\n",
       "       [<AxesSubplot:title={'center':'ppm'}>,\n",
       "        <AxesSubplot:title={'center':'Pressure'}>,\n",
       "        <AxesSubplot:title={'center':'Oxid_time'}>],\n",
       "       [<AxesSubplot:title={'center':'thickness'}>,\n",
       "        <AxesSubplot:title={'center':'Lot_Num'}>,\n",
       "        <AxesSubplot:title={'center':'Wafer_Num'}>]], dtype=object)"
      ]
     },
     "execution_count": 46,
     "metadata": {},
     "output_type": "execute_result"
    },
    {
     "data": {
      "image/png": "[encoded data removed]",
      "text/plain": [
       "<Figure size 1080x1080 with 9 Axes>"
      ]
     },
     "metadata": {
      "needs_background": "light"
     },
     "output_type": "display_data"
    }
   ],
   "source": [
    "Ox_data.hist(bins  = 20, figsize = (15, 15))"
   ]
  },
  {
   "cell_type": "code",
   "execution_count": 16,
   "id": "3db17ca9",
   "metadata": {},
   "outputs": [
    {
     "data": {
      "text/plain": [
       "<AxesSubplot:>"
      ]
     },
     "execution_count": 16,
     "metadata": {},
     "output_type": "execute_result"
    },
    {
     "data": {
      "image/png": "[encoded data removed]",
      "text/plain": [
       "<Figure size 432x432 with 1 Axes>"
      ]
     },
     "metadata": {
      "needs_background": "light"
     },
     "output_type": "display_data"
    }
   ],
   "source": [
    "Ox_data.boxplot('Ox_Chamber',figsize= (6,6))"
   ]
  },
  {
   "cell_type": "code",
   "execution_count": 36,
   "id": "38f47109",
   "metadata": {},
   "outputs": [
    {
     "name": "stderr",
     "output_type": "stream",
     "text": [
      "C:\\Users\\USER\\anaconda3\\lib\\site-packages\\seaborn\\_decorators.py:36: FutureWarning: Pass the following variable as a keyword arg: x. From version 0.12, the only valid positional argument will be `data`, and passing other arguments without an explicit keyword will result in an error or misinterpretation.\n",
      "  warnings.warn(\n"
     ]
    },
    {
     "data": {
      "text/plain": [
       "<AxesSubplot:xlabel='Ox_Chamber', ylabel='count'>"
      ]
     },
     "execution_count": 36,
     "metadata": {},
     "output_type": "execute_result"
    },
    {
     "data": {
      "image/png": "[encoded data removed]",
      "text/plain": [
       "<Figure size 432x288 with 1 Axes>"
      ]
     },
     "metadata": {
      "needs_background": "light"
     },
     "output_type": "display_data"
    }
   ],
   "source": [
    "sns.countplot(Ox_data['Ox_Chamber'])"
   ]
  },
  {
   "cell_type": "code",
   "execution_count": 17,
   "id": "803c9cd1",
   "metadata": {},
   "outputs": [
    {
     "data": {
      "text/plain": [
       "<AxesSubplot:>"
      ]
     },
     "execution_count": 17,
     "metadata": {},
     "output_type": "execute_result"
    },
    {
     "data": {
      "image/png": "[encoded data removed]",
      "text/plain": [
       "<Figure size 432x432 with 1 Axes>"
      ]
     },
     "metadata": {
      "needs_background": "light"
     },
     "output_type": "display_data"
    }
   ],
   "source": [
    "Ox_data.boxplot('Temp_OXid',figsize= (6,6))  # 공정 수행되는 동안의 온도"
   ]
  },
  {
   "cell_type": "code",
   "execution_count": 47,
   "id": "1e89c5b5",
   "metadata": {},
   "outputs": [
    {
     "data": {
      "text/plain": [
       "Text(0.5, 1.0, 'Temp_OXid')"
      ]
     },
     "execution_count": 47,
     "metadata": {},
     "output_type": "execute_result"
    },
    {
     "data": {
      "image/png": "[encoded data removed]",
      "text/plain": [
       "<Figure size 432x288 with 1 Axes>"
      ]
     },
     "metadata": {
      "needs_background": "light"
     },
     "output_type": "display_data"
    }
   ],
   "source": [
    "Ox_data['Temp_OXid'].hist()\n",
    "plt.title('Temp_OXid')"
   ]
  },
  {
   "cell_type": "code",
   "execution_count": 18,
   "id": "61994b8e",
   "metadata": {},
   "outputs": [
    {
     "data": {
      "text/plain": [
       "<AxesSubplot:>"
      ]
     },
     "execution_count": 18,
     "metadata": {},
     "output_type": "execute_result"
    },
    {
     "data": {
      "image/png": "[encoded data removed]",
      "text/plain": [
       "<Figure size 432x432 with 1 Axes>"
      ]
     },
     "metadata": {
      "needs_background": "light"
     },
     "output_type": "display_data"
    }
   ],
   "source": [
    "Ox_data.boxplot('ppm',figsize= (6,6)) # 공정에 투여되는 합성물의 량 "
   ]
  },
  {
   "cell_type": "code",
   "execution_count": 39,
   "id": "ff0fa93a",
   "metadata": {},
   "outputs": [
    {
     "data": {
      "text/plain": [
       "<AxesSubplot:>"
      ]
     },
     "execution_count": 39,
     "metadata": {},
     "output_type": "execute_result"
    },
    {
     "data": {
      "image/png": "[encoded data removed]",
      "text/plain": [
       "<Figure size 432x288 with 1 Axes>"
      ]
     },
     "metadata": {
      "needs_background": "light"
     },
     "output_type": "display_data"
    }
   ],
   "source": [
    "Ox_data['ppm'].hist()"
   ]
  },
  {
   "cell_type": "code",
   "execution_count": 19,
   "id": "64b01a1b",
   "metadata": {},
   "outputs": [
    {
     "data": {
      "text/plain": [
       "<AxesSubplot:>"
      ]
     },
     "execution_count": 19,
     "metadata": {},
     "output_type": "execute_result"
    },
    {
     "data": {
      "image/png": "[encoded data removed]",
      "text/plain": [
       "<Figure size 432x432 with 1 Axes>"
      ]
     },
     "metadata": {
      "needs_background": "light"
     },
     "output_type": "display_data"
    }
   ],
   "source": [
    "Ox_data.boxplot('Pressure',figsize= (6,6)) # 공정에 가해지는 압력"
   ]
  },
  {
   "cell_type": "code",
   "execution_count": 26,
   "id": "cceef572",
   "metadata": {},
   "outputs": [
    {
     "data": {
      "text/plain": [
       "<AxesSubplot:>"
      ]
     },
     "execution_count": 26,
     "metadata": {},
     "output_type": "execute_result"
    },
    {
     "data": {
      "image/png": "[encoded data removed]",
      "text/plain": [
       "<Figure size 432x288 with 1 Axes>"
      ]
     },
     "metadata": {
      "needs_background": "light"
     },
     "output_type": "display_data"
    }
   ],
   "source": [
    "Ox_data['Pressure'].hist()"
   ]
  },
  {
   "cell_type": "code",
   "execution_count": 20,
   "id": "e2fe7fa4",
   "metadata": {},
   "outputs": [
    {
     "data": {
      "text/plain": [
       "<AxesSubplot:>"
      ]
     },
     "execution_count": 20,
     "metadata": {},
     "output_type": "execute_result"
    },
    {
     "data": {
      "image/png": "[encoded data removed]",
      "text/plain": [
       "<Figure size 432x432 with 1 Axes>"
      ]
     },
     "metadata": {
      "needs_background": "light"
     },
     "output_type": "display_data"
    }
   ],
   "source": [
    "Ox_data.boxplot('Oxid_time',figsize= (6,6))"
   ]
  },
  {
   "cell_type": "code",
   "execution_count": 21,
   "id": "de70240a",
   "metadata": {},
   "outputs": [
    {
     "data": {
      "text/plain": [
       "<AxesSubplot:>"
      ]
     },
     "execution_count": 21,
     "metadata": {},
     "output_type": "execute_result"
    },
    {
     "data": {
      "image/png": "[encoded data removed]",
      "text/plain": [
       "<Figure size 432x432 with 1 Axes>"
      ]
     },
     "metadata": {
      "needs_background": "light"
     },
     "output_type": "display_data"
    }
   ],
   "source": [
    "Ox_data.boxplot('thickness',figsize= (6,6))"
   ]
  },
  {
   "cell_type": "code",
   "execution_count": 27,
   "id": "fd7efadf",
   "metadata": {},
   "outputs": [
    {
     "data": {
      "text/plain": [
       "<AxesSubplot:>"
      ]
     },
     "execution_count": 27,
     "metadata": {},
     "output_type": "execute_result"
    },
    {
     "data": {
      "image/png": "[encoded data removed]",
      "text/plain": [
       "<Figure size 432x288 with 1 Axes>"
      ]
     },
     "metadata": {
      "needs_background": "light"
     },
     "output_type": "display_data"
    }
   ],
   "source": [
    "Ox_data['thickness'].hist()"
   ]
  },
  {
   "cell_type": "code",
   "execution_count": 22,
   "id": "6ac36b71",
   "metadata": {},
   "outputs": [
    {
     "data": {
      "text/plain": [
       "<AxesSubplot:>"
      ]
     },
     "execution_count": 22,
     "metadata": {},
     "output_type": "execute_result"
    },
    {
     "data": {
      "image/png": "[encoded data removed]",
      "text/plain": [
       "<Figure size 432x432 with 1 Axes>"
      ]
     },
     "metadata": {
      "needs_background": "light"
     },
     "output_type": "display_data"
    }
   ],
   "source": [
    "Ox_data.boxplot('Lot_Num',figsize= (6,6))"
   ]
  },
  {
   "cell_type": "code",
   "execution_count": 23,
   "id": "814b8be4",
   "metadata": {},
   "outputs": [
    {
     "data": {
      "text/plain": [
       "<AxesSubplot:>"
      ]
     },
     "execution_count": 23,
     "metadata": {},
     "output_type": "execute_result"
    },
    {
     "data": {
      "image/png": "[encoded data removed]",
      "text/plain": [
       "<Figure size 432x432 with 1 Axes>"
      ]
     },
     "metadata": {
      "needs_background": "light"
     },
     "output_type": "display_data"
    }
   ],
   "source": [
    "Ox_data.boxplot('Wafer_Num',figsize= (6,6))"
   ]
  },
  {
   "cell_type": "code",
   "execution_count": 29,
   "id": "d9118dec",
   "metadata": {},
   "outputs": [
    {
     "name": "stderr",
     "output_type": "stream",
     "text": [
      "C:\\Users\\USER\\anaconda3\\lib\\site-packages\\seaborn\\_decorators.py:36: FutureWarning: Pass the following variable as a keyword arg: x. From version 0.12, the only valid positional argument will be `data`, and passing other arguments without an explicit keyword will result in an error or misinterpretation.\n",
      "  warnings.warn(\n"
     ]
    },
    {
     "data": {
      "text/plain": [
       "<AxesSubplot:xlabel='Ox_Chamber', ylabel='count'>"
      ]
     },
     "execution_count": 29,
     "metadata": {},
     "output_type": "execute_result"
    },
    {
     "data": {
      "image/png": "[encoded data removed]",
      "text/plain": [
       "<Figure size 432x288 with 1 Axes>"
      ]
     },
     "metadata": {
      "needs_background": "light"
     },
     "output_type": "display_data"
    }
   ],
   "source": [
    "sns.countplot(Ox_data['Ox_Chamber'])"
   ]
  },
  {
   "cell_type": "code",
   "execution_count": 32,
   "id": "81becddd",
   "metadata": {},
   "outputs": [
    {
     "name": "stderr",
     "output_type": "stream",
     "text": [
      "C:\\Users\\USER\\anaconda3\\lib\\site-packages\\seaborn\\_decorators.py:36: FutureWarning: Pass the following variable as a keyword arg: x. From version 0.12, the only valid positional argument will be `data`, and passing other arguments without an explicit keyword will result in an error or misinterpretation.\n",
      "  warnings.warn(\n"
     ]
    },
    {
     "data": {
      "text/plain": [
       "<AxesSubplot:xlabel='type', ylabel='count'>"
      ]
     },
     "execution_count": 32,
     "metadata": {},
     "output_type": "execute_result"
    },
    {
     "data": {
      "image/png": "[encoded data removed]",
      "text/plain": [
       "<Figure size 432x288 with 1 Axes>"
      ]
     },
     "metadata": {
      "needs_background": "light"
     },
     "output_type": "display_data"
    }
   ],
   "source": [
    "sns.countplot(Ox_data['type'])"
   ]
  },
  {
   "cell_type": "code",
   "execution_count": 33,
   "id": "52cf6744",
   "metadata": {},
   "outputs": [
    {
     "name": "stderr",
     "output_type": "stream",
     "text": [
      "C:\\Users\\USER\\anaconda3\\lib\\site-packages\\seaborn\\_decorators.py:36: FutureWarning: Pass the following variable as a keyword arg: x. From version 0.12, the only valid positional argument will be `data`, and passing other arguments without an explicit keyword will result in an error or misinterpretation.\n",
      "  warnings.warn(\n"
     ]
    },
    {
     "data": {
      "text/plain": [
       "<AxesSubplot:xlabel='Vapor', ylabel='count'>"
      ]
     },
     "execution_count": 33,
     "metadata": {},
     "output_type": "execute_result"
    },
    {
     "data": {
      "image/png": "[encoded data removed]",
      "text/plain": [
       "<Figure size 432x288 with 1 Axes>"
      ]
     },
     "metadata": {
      "needs_background": "light"
     },
     "output_type": "display_data"
    }
   ],
   "source": [
    "sns.countplot(Ox_data['Vapor'])"
   ]
  },
  {
   "cell_type": "code",
   "execution_count": 41,
   "id": "bd977b01",
   "metadata": {},
   "outputs": [
    {
     "name": "stderr",
     "output_type": "stream",
     "text": [
      "C:\\Users\\USER\\anaconda3\\lib\\site-packages\\seaborn\\_decorators.py:36: FutureWarning: Pass the following variable as a keyword arg: x. From version 0.12, the only valid positional argument will be `data`, and passing other arguments without an explicit keyword will result in an error or misinterpretation.\n",
      "  warnings.warn(\n"
     ]
    },
    {
     "data": {
      "text/plain": [
       "<AxesSubplot:xlabel='process', ylabel='count'>"
      ]
     },
     "execution_count": 41,
     "metadata": {},
     "output_type": "execute_result"
    },
    {
     "data": {
      "image/png": "[encoded data removed]",
      "text/plain": [
       "<Figure size 432x288 with 1 Axes>"
      ]
     },
     "metadata": {
      "needs_background": "light"
     },
     "output_type": "display_data"
    }
   ],
   "source": [
    "sns.countplot(Ox_data['process'])"
   ]
  },
  {
   "cell_type": "code",
   "execution_count": 34,
   "id": "dd6dbb18",
   "metadata": {},
   "outputs": [
    {
     "name": "stderr",
     "output_type": "stream",
     "text": [
      "C:\\Users\\USER\\anaconda3\\lib\\site-packages\\seaborn\\_decorators.py:36: FutureWarning: Pass the following variable as a keyword arg: x. From version 0.12, the only valid positional argument will be `data`, and passing other arguments without an explicit keyword will result in an error or misinterpretation.\n",
      "  warnings.warn(\n"
     ]
    },
    {
     "data": {
      "text/plain": [
       "<AxesSubplot:xlabel='Datetime', ylabel='count'>"
      ]
     },
     "execution_count": 34,
     "metadata": {},
     "output_type": "execute_result"
    },
    {
     "data": {
      "image/png": "[encoded data removed]",
      "text/plain": [
       "<Figure size 432x288 with 1 Axes>"
      ]
     },
     "metadata": {
      "needs_background": "light"
     },
     "output_type": "display_data"
    }
   ],
   "source": [
    "sns.countplot(Ox_data['Datetime'])"
   ]
  }
 ],
 "metadata": {
  "kernelspec": {
   "display_name": "Python 3",
   "language": "python",
   "name": "python3"
  },
  "language_info": {
   "codemirror_mode": {
    "name": "ipython",
    "version": 3
   },
   "file_extension": ".py",
   "mimetype": "text/x-python",
   "name": "python",
   "nbconvert_exporter": "python",
   "pygments_lexer": "ipython3",
   "version": "3.8.8"
  }
 },
 "nbformat": 4,
 "nbformat_minor": 5
}
