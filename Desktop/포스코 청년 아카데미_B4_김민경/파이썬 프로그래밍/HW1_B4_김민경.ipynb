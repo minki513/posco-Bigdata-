{
 "cells": [
  {
   "cell_type": "markdown",
   "id": "fa38c155",
   "metadata": {},
   "source": [
    "### 문제1\n",
    "\n",
    "화씨온도(F)를 입력받아서 섭씨온도 (c)로 바꾸는 프로그램 작성"
   ]
  },
  {
   "cell_type": "code",
   "execution_count": 96,
   "id": "1867cf52",
   "metadata": {},
   "outputs": [
    {
     "name": "stdout",
     "output_type": "stream",
     "text": [
      "화씨온도를 입력하세요 : 100\n",
      "섭씨온도 : 37.777778\n"
     ]
    }
   ],
   "source": [
    "F = int(input(\"화씨온도를 입력하세요 : \"))\n",
    "C = (F - 32) * (5/9)\n",
    "print(\"섭씨온도 : %f\" %C)"
   ]
  },
  {
   "cell_type": "markdown",
   "id": "983f3f76",
   "metadata": {},
   "source": [
    "### 문제2\n",
    "사용자로부터 투입한 돈과 물건 값을 입력받아, 잔돈을 계산하여 출력.\n",
    " 단, 동전의 개수는 최소화 할 것\n",
    "\n",
    "(가정) - 물건 값은 100원 단위, 자판기의 동전은 500원, 100원만 있음"
   ]
  },
  {
   "cell_type": "code",
   "execution_count": 7,
   "id": "bb8510be",
   "metadata": {},
   "outputs": [
    {
     "name": "stdout",
     "output_type": "stream",
     "text": [
      " 투입한 돈 : 5000\n",
      "물건 값 : 2700\n",
      "거스름돈 : 2300\n",
      "500원짜리 : 4개\n",
      "100원짜리 : 3개\n"
     ]
    }
   ],
   "source": [
    "cash = int(input(\" 투입한 돈 : \"))\n",
    "product = int(input(\"물건 값 : \"))\n",
    "change = cash - product \n",
    "print(\"거스름돈 : %d\" %change)\n",
    "print(\"500원짜리 : %d개\" %(change/500))\n",
    "print(\"100원짜리 : %d개\" %((change%500)/100))"
   ]
  },
  {
   "cell_type": "markdown",
   "id": "05b9d433",
   "metadata": {},
   "source": [
    "### 문제3\n",
    "원의 반지름을 r을 입력 받아, 원의 둘레와 넓이를 구하는 프로그램을 작성하시오\n",
    "- 원 둘레 : 2ㅠr ( 단 ㅠ는 3.141592)\n",
    "- 원 넓이 : ㅠr*2"
   ]
  },
  {
   "cell_type": "code",
   "execution_count": 8,
   "id": "5cd6d569",
   "metadata": {},
   "outputs": [
    {
     "name": "stdout",
     "output_type": "stream",
     "text": [
      "반지름을 입력하시오 : 5\n",
      "원 둘레 : 31.42\n",
      "원 넓이 : 78.54\n"
     ]
    }
   ],
   "source": [
    "r = int(input(\"반지름을 입력하시오 : \"))\n",
    "cir = 2 * 3.141592 * r\n",
    "area = 3.141592 * r **2\n",
    "print(\"원 둘레 : %.2f\" %cir)\n",
    "print(\"원 넓이 : %.2f\" %area)"
   ]
  },
  {
   "cell_type": "markdown",
   "id": "b701a64e",
   "metadata": {},
   "source": [
    "### 문제 4\n",
    "2개의 정수를 입력 받아, 사칙연산 및 나머지 연산의 결과를 아래와 같이 출력하는 프로그램을 작성하시오."
   ]
  },
  {
   "cell_type": "code",
   "execution_count": 97,
   "id": "a38961f3",
   "metadata": {},
   "outputs": [
    {
     "name": "stdout",
     "output_type": "stream",
     "text": [
      "Enter two integers : 8 5\n",
      "8 + 5 = 13\n",
      "8 - 5 = 3\n",
      "8 * 5 = 40\n",
      "8 / 5 = 1.6\n",
      "8 % 5 = 3\n"
     ]
    }
   ],
   "source": [
    "numbers = input(\"Enter two integers : \")\n",
    "n1, n2 = numbers.split(\" \")\n",
    "n1=int(n1)  # int형으로 변경\n",
    "n2=int(n2)\n",
    "print(n1,\"+\", n2,\"=\", n1+n2)\n",
    "print(n1,\"-\", n2,\"=\", n1-n2)\n",
    "print(n1,\"*\", n2,\"=\", n1*n2)\n",
    "print(n1,\"/\", n2,\"=\", n1/n2)\n",
    "print(n1,\"%\", n2,\"=\", n1%n2)"
   ]
  },
  {
   "cell_type": "markdown",
   "id": "8f398dbb",
   "metadata": {},
   "source": [
    "### 문제5\n",
    "두 정수를 입력 받아, 합과 평균을 구하여 출력하는 프로그램을 작성하시오\n",
    "(평균 소수 첫째 자리까지 나타내기)"
   ]
  },
  {
   "cell_type": "code",
   "execution_count": 12,
   "id": "7169ac2a",
   "metadata": {},
   "outputs": [
    {
     "name": "stdout",
     "output_type": "stream",
     "text": [
      "Enter two integers : 70 91\n",
      "The sum of 70 and 91 is 161\n",
      "The average of numbers is 80.5\n"
     ]
    }
   ],
   "source": [
    "numbers = input(\"Enter two integers : \")\n",
    "n1, n2 = numbers.split(\" \")\n",
    "n1=int(n1)\n",
    "n2=int(n2)\n",
    "\n",
    "print('The sum of %d and %d is %d' %(n1,n2,n1+n2))\n",
    "print('The average of numbers is %.1f' %((n1+n2)/2))"
   ]
  },
  {
   "cell_type": "markdown",
   "id": "269f2417",
   "metadata": {},
   "source": [
    "### 문제6"
   ]
  },
  {
   "cell_type": "code",
   "execution_count": 13,
   "id": "66e4fa20",
   "metadata": {},
   "outputs": [
    {
     "name": "stdout",
     "output_type": "stream",
     "text": [
      "날짜(연/월/일)입력 : 2021/08/12\n",
      "입력한 날짜의 10년 후는 2031년 08월 12일\n"
     ]
    }
   ],
   "source": [
    "year, month, day = input(\"날짜(연/월/일)입력 : \").split(\"/\")\n",
    "year = int(year)\n",
    "print(\"입력한 날짜의 10년 후는 {}년 {}월 {}일\".format(year+10, month, day))"
   ]
  },
  {
   "cell_type": "code",
   "execution_count": 98,
   "id": "294ca464",
   "metadata": {},
   "outputs": [
    {
     "name": "stdout",
     "output_type": "stream",
     "text": [
      "날짜(연/월/일)입력 : 2021/08/12\n",
      "입력한 날짜의 10년 후는 2031년 8월 12일\n"
     ]
    }
   ],
   "source": [
    "date = input(\"날짜(연/월/일)입력 : \")\n",
    "date_list = date.split('/')\n",
    "year, month, day = map(int, date_list)\n",
    "print(\"입력한 날짜의 10년 후는 {}년 {}월 {}일\".format(year+10, month, day))"
   ]
  }
 ],
 "metadata": {
  "kernelspec": {
   "display_name": "Python 3",
   "language": "python",
   "name": "python3"
  },
  "language_info": {
   "codemirror_mode": {
    "name": "ipython",
    "version": 3
   },
   "file_extension": ".py",
   "mimetype": "text/x-python",
   "name": "python",
   "nbconvert_exporter": "python",
   "pygments_lexer": "ipython3",
   "version": "3.8.8"
  }
 },
 "nbformat": 4,
 "nbformat_minor": 5
}
