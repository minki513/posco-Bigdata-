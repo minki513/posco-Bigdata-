{
 "cells": [
  {
   "cell_type": "markdown",
   "id": "ab356cee",
   "metadata": {},
   "source": [
    "# 조건문"
   ]
  },
  {
   "cell_type": "markdown",
   "id": "3070becb",
   "metadata": {},
   "source": [
    "### 문제1\n",
    "입력 받은 정수가 짝수인지 홀수인지 판별"
   ]
  },
  {
   "cell_type": "code",
   "execution_count": 1,
   "id": "fcb257e1",
   "metadata": {},
   "outputs": [
    {
     "name": "stdout",
     "output_type": "stream",
     "text": [
      "Enter a number : 7\n",
      "7 is Odd number\n"
     ]
    }
   ],
   "source": [
    "num = int(input(\"Enter a number : \"))\n",
    "if num % 2 ==0:   # 2로 나누어 떨어지면 정수\n",
    "    print(\"%d is Even number\" %num)  \n",
    "else:\n",
    "    print(\"%d is Odd number\" %num)"
   ]
  },
  {
   "cell_type": "code",
   "execution_count": 2,
   "id": "a208b573",
   "metadata": {},
   "outputs": [
    {
     "name": "stdout",
     "output_type": "stream",
     "text": [
      "Enter a number : 14\n",
      "14 is Even number\n"
     ]
    }
   ],
   "source": [
    "num = int(input(\"Enter a number : \"))\n",
    "if num % 2 ==0:  # 2로 나누어 떨어지면 정수\n",
    "    print(\"%d is Even number\" %num)\n",
    "else:\n",
    "    print(\"%d is Odd number\" %num)"
   ]
  },
  {
   "cell_type": "markdown",
   "id": "f08aad4a",
   "metadata": {},
   "source": [
    "### 문제2\n",
    "프로그래밍 과목의 중간고사와 기말고사 점수를 입력 받아 평균과 학점을 구하는 프로그램을 작성하시오.\n",
    "\n",
    "조건)\n",
    "\n",
    " -평균이 90이상 : A\n",
    " \n",
    " -80이상 ~ 90미만 : B\n",
    " \n",
    " -70이상 ~ 80미만 : C\n",
    " \n",
    " -60이상 ~ 70미만 : D\n",
    " \n",
    " -60미만 : F"
   ]
  },
  {
   "cell_type": "code",
   "execution_count": 3,
   "id": "47b04318",
   "metadata": {},
   "outputs": [
    {
     "name": "stdout",
     "output_type": "stream",
     "text": [
      "Enter your midterm score : 77\n",
      "Enter your final score : 56\n",
      "Average : 66.5\n",
      "Grade : D\n"
     ]
    }
   ],
   "source": [
    "mid = int(input(\"Enter your midterm score : \"))\n",
    "final = int(input(\"Enter your final score : \"))\n",
    "average = (mid + final) / 2\n",
    "print(\"Average : %.1f\" %average)\n",
    "\n",
    "if average >= 90:  # 평균이 90이상\n",
    "    print(\"Grade : A\")\n",
    "elif average >= 80 and average < 90:  # 평균이 80이상 90미만\n",
    "    print(\"Grade : B\")\n",
    "elif average >= 70 and average < 80:  \n",
    "    print(\"Grade : C\")\n",
    "elif average >= 60 and average < 70:  \n",
    "    print(\"Grade : D\")  \n",
    "else:\n",
    "    print(\"Grade : F\")"
   ]
  },
  {
   "cell_type": "markdown",
   "id": "5650d210",
   "metadata": {},
   "source": [
    "### 문제3\n",
    "학생수준평가 시험에서 영어 점수와 수학 점수가 합해서 110점 이상이면 합격이다. 단, 각 점수가 40점 미만이면 불합격이다. 영어(eng), 수학(math)점수를 입력 받아 합격여부를 출력하는 프로그램을 작성하시오"
   ]
  },
  {
   "cell_type": "code",
   "execution_count": 4,
   "id": "8dbe4dc3",
   "metadata": {},
   "outputs": [
    {
     "name": "stdout",
     "output_type": "stream",
     "text": [
      "영어 점수 입력 : 80\n",
      "수학 점수 입력 : 20\n",
      "총합 점수 부족\n"
     ]
    }
   ],
   "source": [
    "eng = int(input(\"영어 점수 입력 : \"))\n",
    "math = int(input(\"수학 점수 입력 : \"))\n",
    "\n",
    "if eng + math >= 110:  # 총점수 110 이상일때 \n",
    "    if eng < 40:       # 하지만 영어 점수가 40 미만이면 점수 부족\n",
    "        print(\"영어 점수 부족\")\n",
    "    elif math < 40:   # 하지만 수학 점수가 40 미만이면 점수 부족\n",
    "        print(\"수학 점수 부족\")\n",
    "    else:\n",
    "        print(\"합격\")  #수학 영어 모두 40 이상이면 합격\n",
    "else:\n",
    "    print(\"총합 점수 부족\")   # 총점수가 110점미만이면 총합 점수 부족"
   ]
  },
  {
   "cell_type": "code",
   "execution_count": 6,
   "id": "2d5a9bde",
   "metadata": {},
   "outputs": [
    {
     "name": "stdout",
     "output_type": "stream",
     "text": [
      "영어 점수 입력 : 90\n",
      "수학 점수 입력 : 30\n",
      "수학 점수 부족\n"
     ]
    }
   ],
   "source": [
    "eng = int(input(\"영어 점수 입력 : \"))\n",
    "math = int(input(\"수학 점수 입력 : \"))\n",
    "\n",
    "if eng + math >= 110:  # 총점수 110 이상일때 \n",
    "    if eng < 40:       # 하지만 영어 점수가 40 미만이면 점수 부족\n",
    "        print(\"영어 점수 부족\")\n",
    "    elif math < 40:   # 하지만 수학 점수가 40 미만이면 점수 부족\n",
    "        print(\"수학 점수 부족\")\n",
    "    else:\n",
    "        print(\"합격\")  #수학 영어 모두 40 이상이면 합격\n",
    "else:\n",
    "    print(\"총합 점수 부족\")   # 총점수가 110점미만이면 총합 점수 부족"
   ]
  },
  {
   "cell_type": "code",
   "execution_count": 7,
   "id": "91fa2b47",
   "metadata": {},
   "outputs": [
    {
     "name": "stdout",
     "output_type": "stream",
     "text": [
      "영어 점수 입력 : 70\n",
      "수학 점수 입력 : 80\n",
      "합격\n"
     ]
    }
   ],
   "source": [
    "eng = int(input(\"영어 점수 입력 : \"))\n",
    "math = int(input(\"수학 점수 입력 : \"))\n",
    "\n",
    "if eng + math >= 110:  # 총점수 110 이상일때 \n",
    "    if eng < 40:       # 하지만 영어 점수가 40 미만이면 점수 부족\n",
    "        print(\"영어 점수 부족\")\n",
    "    elif math < 40:   # 하지만 수학 점수가 40 미만이면 점수 부족\n",
    "        print(\"수학 점수 부족\")\n",
    "    else:\n",
    "        print(\"합격\")  #수학 영어 모두 40 이상이면 합격\n",
    "else:\n",
    "    print(\"총합 점수 부족\")   # 총점수가 110점미만이면 총합 점수 부족"
   ]
  },
  {
   "cell_type": "code",
   "execution_count": 8,
   "id": "a52dc9ff",
   "metadata": {},
   "outputs": [
    {
     "name": "stdout",
     "output_type": "stream",
     "text": [
      "영어 점수 입력 : 35\n",
      "수학 점수 입력 : 30\n",
      "총합 점수 부족\n"
     ]
    }
   ],
   "source": [
    "eng = int(input(\"영어 점수 입력 : \"))\n",
    "math = int(input(\"수학 점수 입력 : \"))\n",
    "\n",
    "if eng + math >= 110:  # 총점수 110 이상일때 \n",
    "    if eng < 40:       # 하지만 영어 점수가 40 미만이면 점수 부족\n",
    "        print(\"영어 점수 부족\")\n",
    "    elif math < 40:   # 하지만 수학 점수가 40 미만이면 점수 부족\n",
    "        print(\"수학 점수 부족\")\n",
    "    else:\n",
    "        print(\"합격\")  #수학 영어 모두 40 이상이면 합격\n",
    "else:\n",
    "    print(\"총합 점수 부족\")   # 총점수가 110점미만이면 총합 점수 부족"
   ]
  },
  {
   "cell_type": "code",
   "execution_count": 9,
   "id": "52301c0e",
   "metadata": {},
   "outputs": [
    {
     "name": "stdout",
     "output_type": "stream",
     "text": [
      "영어 점수 입력 : 35\n",
      "수학 점수 입력 : 95\n",
      "영어 점수 부족\n"
     ]
    }
   ],
   "source": [
    "eng = int(input(\"영어 점수 입력 : \"))\n",
    "math = int(input(\"수학 점수 입력 : \"))\n",
    "\n",
    "if eng + math >= 110:  # 총점수 110 이상일때 \n",
    "    if eng < 40:       # 하지만 영어 점수가 40 미만이면 점수 부족\n",
    "        print(\"영어 점수 부족\")\n",
    "    elif math < 40:   # 하지만 수학 점수가 40 미만이면 점수 부족\n",
    "        print(\"수학 점수 부족\")\n",
    "    else:\n",
    "        print(\"합격\")  #수학 영어 모두 40 이상이면 합격\n",
    "else:\n",
    "    print(\"총합 점수 부족\")   # 총점수가 110점미만이면 총합 점수 부족"
   ]
  },
  {
   "cell_type": "markdown",
   "id": "9bf6023c",
   "metadata": {},
   "source": [
    "### 문제4\n",
    "세 개의 정수를 입력 받아, 가장 큰 수만 출력하는 프로그램을 작성하시오 ( max 함수 이용하지 않고 구할 것)"
   ]
  },
  {
   "cell_type": "code",
   "execution_count": 10,
   "id": "a971bd7e",
   "metadata": {},
   "outputs": [
    {
     "name": "stdout",
     "output_type": "stream",
     "text": [
      "세 개의 수를 입력하시오 : 30 22 50\n",
      "가장 큰 수는 50입니다\n"
     ]
    }
   ],
   "source": [
    "num = input(\"세 개의 수를 입력하시오 : \")\n",
    "num_list = num.split()  # 입력 받은 수를 공백으로 분리하여 리스트 형태로 저장\n",
    "n1, n2, n3 = map(int, num_list)  # 저장된 수들을 int형을 변환하고 하나씩 저장\n",
    "\n",
    "if n1 >= n2:   # 1) n1과 n2를 비교합니다.\n",
    "    max_n = n1   # n1이 더크면 최댓값으로 처리\n",
    "else:\n",
    "    max_n = n2    # n2가 더크면 최댓값으로 처리\n",
    "\n",
    "if max_n >= n3:    # 현재 저장된 최댓값과 n3이랑 비교\n",
    "    max_n = max_n\n",
    "else:\n",
    "    max_n = n3\n",
    "        \n",
    "print(\"가장 큰 수는 %d입니다\" %max_n)"
   ]
  },
  {
   "cell_type": "markdown",
   "id": "e543027b",
   "metadata": {},
   "source": [
    "# 반복문"
   ]
  },
  {
   "cell_type": "markdown",
   "id": "219f9d2b",
   "metadata": {},
   "source": [
    "### 문제 1\n",
    "단어가 주어질 때, 아래와 같이 출력 되도록 하시오.\n",
    "\n",
    "P\n",
    " \n",
    "y\n",
    "\n",
    "t\n",
    "\n",
    "h\n",
    "\n",
    "o\n",
    "\n",
    "n"
   ]
  },
  {
   "cell_type": "code",
   "execution_count": 12,
   "id": "3dc77df6",
   "metadata": {},
   "outputs": [
    {
     "name": "stdout",
     "output_type": "stream",
     "text": [
      "P\n",
      "y\n",
      "t\n",
      "h\n",
      "o\n",
      "n\n"
     ]
    }
   ],
   "source": [
    "# while 문 이용\n",
    "word = 'Python'\n",
    "\n",
    "i =0\n",
    "while i <len(word):  # word의 길이는 6이므로 i가 5까지 반복\n",
    "    print(word[i])\n",
    "    i += 1"
   ]
  },
  {
   "cell_type": "code",
   "execution_count": 13,
   "id": "dae8e4a8",
   "metadata": {},
   "outputs": [
    {
     "name": "stdout",
     "output_type": "stream",
     "text": [
      "P\n",
      "y\n",
      "t\n",
      "h\n",
      "o\n",
      "n\n"
     ]
    }
   ],
   "source": [
    "# for 문 이용  (단 range()를 이용하지 않는다.)\n",
    "word = 'Python'\n",
    "\n",
    "for i in word:\n",
    "    print(i)"
   ]
  },
  {
   "cell_type": "markdown",
   "id": "88211bb4",
   "metadata": {},
   "source": [
    "### 문제 2\n",
    "아래와 같이 출력되는 프로그램을 작성하시오\n",
    "\n",
    "10, 9, 8, 7, 6, 5, 4, 3, 2, 1, Happy new year!!"
   ]
  },
  {
   "cell_type": "code",
   "execution_count": 14,
   "id": "339733e4",
   "metadata": {},
   "outputs": [
    {
     "name": "stdout",
     "output_type": "stream",
     "text": [
      "10, 9, 8, 7, 6, 5, 4, 3, 2, 1, Happy new year!!\n"
     ]
    }
   ],
   "source": [
    "for i in range(10,0,-1):  #10 부터 1까지 1씩 감소\n",
    "    print(i, end =', ') # 끝에 ', ' 를 출력함\n",
    "print(\"Happy new year!!\")"
   ]
  },
  {
   "cell_type": "markdown",
   "id": "0bb87493",
   "metadata": {},
   "source": [
    "### 문제3\n",
    "양의 두 정수 a,b를 입력 받아, a부터 b까지의 정수의 합을 구하여 출력하는 프로그램을 작성하시오. ( for 또는 while을 이용할 것)\n",
    "\n",
    "단, 조건 a <=b 을 만족하는 값만 고려한다."
   ]
  },
  {
   "cell_type": "code",
   "execution_count": 15,
   "id": "246373a9",
   "metadata": {},
   "outputs": [
    {
     "name": "stdout",
     "output_type": "stream",
     "text": [
      "Enter two integers : 5 10\n",
      "The sum from 5 to 10 is 45\n"
     ]
    }
   ],
   "source": [
    "num= input(\"Enter two integers : \")\n",
    "num_list = num.split()\n",
    "n1, n2 = map(int, num_list)\n",
    "\n",
    "sum_ = 0   # sum을 0 으로 초기화\n",
    "for i in range(n1,n2+1):  # +1 한 이유는 원래는 n2보다 하나 작은 수까지만 가기때문\n",
    "    sum_ +=i\n",
    "\n",
    "print(\"The sum from %d to %d is %d\" %(n1, n2,sum_))"
   ]
  },
  {
   "cell_type": "markdown",
   "id": "c7341935",
   "metadata": {},
   "source": [
    "### 문제4\n",
    "주어진 문자열에 문자 a가 몇 개 있는지 구하는 프로그램을 작성하시오 ( for문 사용할 것)"
   ]
  },
  {
   "cell_type": "code",
   "execution_count": 16,
   "id": "25a4e10c",
   "metadata": {},
   "outputs": [
    {
     "name": "stdout",
     "output_type": "stream",
     "text": [
      "a의 개수는 3 개입니다.\n"
     ]
    }
   ],
   "source": [
    "word = 'banana'\n",
    "\n",
    "count = 0   # count 를 0으로 초기화\n",
    "for i in word:\n",
    "    if i == 'a':  # a가 있는 경우\n",
    "         count += 1  # count에 1씩 더해줌\n",
    "print(\"a의 개수는 %d 개입니다.\" %count) "
   ]
  },
  {
   "cell_type": "markdown",
   "id": "946e214b",
   "metadata": {},
   "source": [
    "### 문제 5\n",
    "for문과 range()함수를 이용하여 다음과 같이 출력되도록 작성하시오.\n",
    "\n",
    "0 1 2 3 4 5 6 7 8 9\n",
    "\n",
    "0 5 10 15 20 25 30 35 40 45 50\n",
    "\n",
    "10 9 8 7 6 5 4 3 2 1"
   ]
  },
  {
   "cell_type": "code",
   "execution_count": 21,
   "id": "44f97b55",
   "metadata": {},
   "outputs": [
    {
     "name": "stdout",
     "output_type": "stream",
     "text": [
      "0 1 2 3 4 5 6 7 8 9 \n",
      "\n",
      "0 5 10 15 20 25 30 35 40 45 50 \n",
      "\n",
      "10 9 8 7 6 5 4 3 2 1 "
     ]
    }
   ],
   "source": [
    "for i in range(10):\n",
    "    print(i, end =' ') \n",
    "print('\\n')  \n",
    "for i in range(0,51,5):\n",
    "    print(i, end = ' ')\n",
    "print('\\n')  \n",
    "for i in range(10,0,-1):\n",
    "    print(i, end = ' ')"
   ]
  },
  {
   "cell_type": "markdown",
   "id": "830ce440",
   "metadata": {},
   "source": [
    "### 문제6\n",
    "for문을 사용하여 리스트(colors)의 모든 내용을 출력하시오. 단, range() 이용하지 않는다."
   ]
  },
  {
   "cell_type": "code",
   "execution_count": 22,
   "id": "4bc1e36d",
   "metadata": {},
   "outputs": [
    {
     "name": "stdout",
     "output_type": "stream",
     "text": [
      "red\n",
      "green\n",
      "blue\n"
     ]
    }
   ],
   "source": [
    "colors = ['red', 'green', 'blue']\n",
    "\n",
    "for i in colors:\n",
    "    print(i)"
   ]
  },
  {
   "cell_type": "markdown",
   "id": "a1398cee",
   "metadata": {},
   "source": [
    "### 문제 7\n",
    "리스트 a 전체를 반복해서 방문하되, 짝수만 출력하시오 ( for문 사용)"
   ]
  },
  {
   "cell_type": "code",
   "execution_count": 25,
   "id": "7ab59db8",
   "metadata": {},
   "outputs": [
    {
     "name": "stdout",
     "output_type": "stream",
     "text": [
      "4 6 8 10 12 "
     ]
    }
   ],
   "source": [
    "a = [1, 3, 4, 5, 6, 7, 8, 9, 10, 11, 12, 13]\n",
    "\n",
    "for i in a:\n",
    "    if i % 2 ==0:\n",
    "        print(i, end=' ')"
   ]
  },
  {
   "cell_type": "markdown",
   "id": "a2116582",
   "metadata": {},
   "source": [
    "### 문제8\n",
    "구구단 출력"
   ]
  },
  {
   "cell_type": "code",
   "execution_count": 26,
   "id": "870c3a2a",
   "metadata": {},
   "outputs": [
    {
     "name": "stdout",
     "output_type": "stream",
     "text": [
      "출력하고 싶은 단을 입력하세요 : 7\n",
      "7 * 1 = 7\n",
      "7 * 2 = 14\n",
      "7 * 3 = 21\n",
      "7 * 4 = 28\n",
      "7 * 5 = 35\n",
      "7 * 6 = 42\n",
      "7 * 7 = 49\n",
      "7 * 8 = 56\n",
      "7 * 9 = 63\n"
     ]
    }
   ],
   "source": [
    "num = int(input(\"출력하고 싶은 단을 입력하세요 : \"))\n",
    "\n",
    "for i in range(1,10):  # 곱하기는 1부터 9까지\n",
    "    print(num,'*', i, '=', num *i)"
   ]
  },
  {
   "cell_type": "markdown",
   "id": "ef3cb601",
   "metadata": {},
   "source": [
    "### 문제 9\n",
    "구구단 출력2"
   ]
  },
  {
   "cell_type": "code",
   "execution_count": 27,
   "id": "3ea1d61f",
   "metadata": {},
   "outputs": [
    {
     "name": "stdout",
     "output_type": "stream",
     "text": [
      "== 2 단==\n",
      "2 * 1 = 2\n",
      "2 * 2 = 4\n",
      "2 * 3 = 6\n",
      "2 * 4 = 8\n",
      "2 * 5 = 10\n",
      "2 * 6 = 12\n",
      "2 * 7 = 14\n",
      "2 * 8 = 16\n",
      "2 * 9 = 18\n",
      "== 3 단==\n",
      "3 * 1 = 3\n",
      "3 * 2 = 6\n",
      "3 * 3 = 9\n",
      "3 * 4 = 12\n",
      "3 * 5 = 15\n",
      "3 * 6 = 18\n",
      "3 * 7 = 21\n",
      "3 * 8 = 24\n",
      "3 * 9 = 27\n",
      "== 4 단==\n",
      "4 * 1 = 4\n",
      "4 * 2 = 8\n",
      "4 * 3 = 12\n",
      "4 * 4 = 16\n",
      "4 * 5 = 20\n",
      "4 * 6 = 24\n",
      "4 * 7 = 28\n",
      "4 * 8 = 32\n",
      "4 * 9 = 36\n",
      "== 5 단==\n",
      "5 * 1 = 5\n",
      "5 * 2 = 10\n",
      "5 * 3 = 15\n",
      "5 * 4 = 20\n",
      "5 * 5 = 25\n",
      "5 * 6 = 30\n",
      "5 * 7 = 35\n",
      "5 * 8 = 40\n",
      "5 * 9 = 45\n",
      "== 6 단==\n",
      "6 * 1 = 6\n",
      "6 * 2 = 12\n",
      "6 * 3 = 18\n",
      "6 * 4 = 24\n",
      "6 * 5 = 30\n",
      "6 * 6 = 36\n",
      "6 * 7 = 42\n",
      "6 * 8 = 48\n",
      "6 * 9 = 54\n",
      "== 7 단==\n",
      "7 * 1 = 7\n",
      "7 * 2 = 14\n",
      "7 * 3 = 21\n",
      "7 * 4 = 28\n",
      "7 * 5 = 35\n",
      "7 * 6 = 42\n",
      "7 * 7 = 49\n",
      "7 * 8 = 56\n",
      "7 * 9 = 63\n",
      "== 8 단==\n",
      "8 * 1 = 8\n",
      "8 * 2 = 16\n",
      "8 * 3 = 24\n",
      "8 * 4 = 32\n",
      "8 * 5 = 40\n",
      "8 * 6 = 48\n",
      "8 * 7 = 56\n",
      "8 * 8 = 64\n",
      "8 * 9 = 72\n",
      "== 9 단==\n",
      "9 * 1 = 9\n",
      "9 * 2 = 18\n",
      "9 * 3 = 27\n",
      "9 * 4 = 36\n",
      "9 * 5 = 45\n",
      "9 * 6 = 54\n",
      "9 * 7 = 63\n",
      "9 * 8 = 72\n",
      "9 * 9 = 81\n"
     ]
    }
   ],
   "source": [
    "for i in range(2,10):  # 2단부터 9단까지\n",
    "    print(\"==\",i,\"단==\")\n",
    "    for j in range(1,10):  # 곱하기는 1부터 9까지\n",
    "        print(i, \"*\", j, \"=\", i*j)\n",
    "        \n",
    "# i가 2일때, j가 1부터 9까지가 돌고 다시 i가 3일때가 되고 다시 j가 1부터 9까지 돌아가는 방식이다."
   ]
  },
  {
   "cell_type": "markdown",
   "id": "015288f3",
   "metadata": {},
   "source": [
    "### 문제 10\n",
    "구구단 출력2 (중첩 반복문)"
   ]
  },
  {
   "cell_type": "code",
   "execution_count": 1,
   "id": "2dc77a2a",
   "metadata": {},
   "outputs": [
    {
     "name": "stdout",
     "output_type": "stream",
     "text": [
      "2 * 1 = 2\t3 * 1 = 3\t4 * 1 = 4\t5 * 1 = 5\t6 * 1 = 6\t7 * 1 = 7\t8 * 1 = 8\t9 * 1 = 9\t2 * 2 = 4\t3 * 2 = 6\t4 * 2 = 8\t5 * 2 = 10\t6 * 2 = 12\t7 * 2 = 14\t8 * 2 = 16\t9 * 2 = 18\t2 * 3 = 6\t3 * 3 = 9\t4 * 3 = 12\t5 * 3 = 15\t6 * 3 = 18\t7 * 3 = 21\t8 * 3 = 24\t9 * 3 = 27\t2 * 4 = 8\t3 * 4 = 12\t4 * 4 = 16\t5 * 4 = 20\t6 * 4 = 24\t7 * 4 = 28\t8 * 4 = 32\t9 * 4 = 36\t2 * 5 = 10\t3 * 5 = 15\t4 * 5 = 20\t5 * 5 = 25\t6 * 5 = 30\t7 * 5 = 35\t8 * 5 = 40\t9 * 5 = 45\t2 * 6 = 12\t3 * 6 = 18\t4 * 6 = 24\t5 * 6 = 30\t6 * 6 = 36\t7 * 6 = 42\t8 * 6 = 48\t9 * 6 = 54\t2 * 7 = 14\t3 * 7 = 21\t4 * 7 = 28\t5 * 7 = 35\t6 * 7 = 42\t7 * 7 = 49\t8 * 7 = 56\t9 * 7 = 63\t2 * 8 = 16\t3 * 8 = 24\t4 * 8 = 32\t5 * 8 = 40\t6 * 8 = 48\t7 * 8 = 56\t8 * 8 = 64\t9 * 8 = 72\t2 * 9 = 18\t3 * 9 = 27\t4 * 9 = 36\t5 * 9 = 45\t6 * 9 = 54\t7 * 9 = 63\t8 * 9 = 72\t9 * 9 = 81\t"
     ]
    }
   ],
   "source": [
    "for i in range(1,10): # 열 방향으로 먼저 출력해야하므로 곱하기의 숫자를 먼저 진행함 (곱하기 1부터 9까지)\n",
    "    for j in range(2,10):  # 2단부터 9단까지\n",
    "        print(j,'*',i,'=',j*i , end='\\t')  # 일정한 간격을 주기위해 \\t진행\n",
    "    print(' ')  # 곱하기 한줄이 끝나면 다음 행으로 이동하게끔 넣어줌\n",
    "    \n",
    "# 먼저 열 방향으로 출력하기 위해 i가 1일때=곱하는 수가 1일때 j는 2단부터 9단을 진행한후\n",
    "# 다시 i가 2일때 = 곱하는수가 2일떄 j는 2단부터 9단을 진행한다."
   ]
  }
 ],
 "metadata": {
  "kernelspec": {
   "display_name": "Python 3",
   "language": "python",
   "name": "python3"
  },
  "language_info": {
   "codemirror_mode": {
    "name": "ipython",
    "version": 3
   },
   "file_extension": ".py",
   "mimetype": "text/x-python",
   "name": "python",
   "nbconvert_exporter": "python",
   "pygments_lexer": "ipython3",
   "version": "3.8.8"
  }
 },
 "nbformat": 4,
 "nbformat_minor": 5
}
