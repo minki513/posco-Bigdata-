{
 "cells": [
  {
   "cell_type": "markdown",
   "id": "44fb3af1",
   "metadata": {},
   "source": [
    "# 과제실습2"
   ]
  },
  {
   "cell_type": "markdown",
   "id": "41b06069",
   "metadata": {},
   "source": [
    "### 문제 11\n",
    "★ 출력 프로그램"
   ]
  },
  {
   "cell_type": "code",
   "execution_count": 2,
   "id": "3b15f656",
   "metadata": {},
   "outputs": [
    {
     "name": "stdout",
     "output_type": "stream",
     "text": [
      "input an integer : 3159\n",
      "★★★\n",
      "★\n",
      "★★★★★\n",
      "★★★★★★★★★\n"
     ]
    }
   ],
   "source": [
    "number = input(\"input an integer : \")\n",
    "\n",
    "for i in number:  \n",
    "    print('★' * int(i))  "
   ]
  },
  {
   "cell_type": "code",
   "execution_count": 3,
   "id": "9c9c9ee6",
   "metadata": {},
   "outputs": [
    {
     "name": "stdout",
     "output_type": "stream",
     "text": [
      "input an integer : 3159\n",
      "★★★\n",
      "★\n",
      "★★★★★\n",
      "★★★★★★★★★\n"
     ]
    }
   ],
   "source": [
    "number = input(\"input an integer : \")\n",
    "\n",
    "for i in number:\n",
    "    for x in range(int(i)):\n",
    "        print(\"★\", end='')\n",
    "    print()"
   ]
  },
  {
   "cell_type": "markdown",
   "id": "9b2818c4",
   "metadata": {},
   "source": [
    "### 문제 12\n",
    "'done'을 입력할 때까지 사용자로부터 숫자를 입력 받아 리스트에 저장하고, 'done'을 입력하면, 리스트의 평균, 최대값과 최소값을 출력하는 프로그램을 작성하시오. sum(), max(), min()함수이용"
   ]
  },
  {
   "cell_type": "code",
   "execution_count": 4,
   "id": "742f337e",
   "metadata": {},
   "outputs": [
    {
     "name": "stdout",
     "output_type": "stream",
     "text": [
      "Enter a number : 7\n",
      "Enter a number : 2\n",
      "Enter a number : 9\n",
      "Enter a number : 3\n",
      "Enter a number : 5\n",
      "Enter a number : done\n",
      "\n",
      "[7.0, 2.0, 9.0, 3.0, 5.0]\n",
      "Average :  5.2\n",
      "Maximum :  9.0\n",
      "Minimum :  2.0\n"
     ]
    }
   ],
   "source": [
    "numbers = []\n",
    "while True:\n",
    "    number = input(\"Enter a number : \")\n",
    "    if number =='done':  # done이 입력되면 반복문을 빠져나감\n",
    "        break\n",
    "    else:\n",
    "        numbers.append(float(number))   # number로 들어온 수들을 numbers 리스트에 추가\n",
    "print()  # 엔터\n",
    "print(numbers)\n",
    "average = sum(numbers)/ len(numbers)   # 합계를 리스트안에 있는 수들의 수만큼 나눔\n",
    "print('Average : ', average)\n",
    "print('Maximum : ', max(numbers))\n",
    "print('Minimum : ', min(numbers))"
   ]
  },
  {
   "cell_type": "markdown",
   "id": "626d7aa9",
   "metadata": {},
   "source": [
    "# 과제실습3"
   ]
  },
  {
   "cell_type": "markdown",
   "id": "b414f347",
   "metadata": {},
   "source": [
    "### 실습1\n",
    "for 문을 사용하여 딕셔너리 타입의 d의 모든 value를 출력해 보시오"
   ]
  },
  {
   "cell_type": "code",
   "execution_count": 5,
   "id": "e9f45dca",
   "metadata": {},
   "outputs": [
    {
     "name": "stdout",
     "output_type": "stream",
     "text": [
      "1 2 10 "
     ]
    }
   ],
   "source": [
    "d = {'youn': 1, 'park' : 2, 'kim' : 10}\n",
    "\n",
    "for i in d.values():\n",
    "    print(i, end =' ')"
   ]
  },
  {
   "cell_type": "markdown",
   "id": "02e176df",
   "metadata": {},
   "source": [
    "### 실습2\n",
    "key의 알파벳을 기준으로 순서대로 아래와 같이 (key, value)로 출력하시오"
   ]
  },
  {
   "cell_type": "code",
   "execution_count": 13,
   "id": "aa705244",
   "metadata": {},
   "outputs": [
    {
     "data": {
      "text/plain": [
       "['five', 'four', 'one', 'three', 'two']"
      ]
     },
     "execution_count": 13,
     "metadata": {},
     "output_type": "execute_result"
    }
   ],
   "source": [
    "d = {'one' : 1, 'two' : 2, 'three' : 3, 'four' : 4, 'five' : 5}\n",
    "\n",
    "\n",
    "for key, value in sorted(d.items()):   # 딕셔너리를 키값으로 정렬한 것을 차례대로\n",
    "    print(key, value)                   # key와 value 값으로 출력"
   ]
  },
  {
   "cell_type": "markdown",
   "id": "bd71a897",
   "metadata": {},
   "source": [
    "### 실습3\n",
    "어떤 문장을 입력 받으면 해당 문장에서 각 알파벳이 몇 개 씩 나오는지 저장하는 딕셔너리를 만든 후, 아래와 같이 출력하시오."
   ]
  },
  {
   "cell_type": "code",
   "execution_count": 17,
   "id": "5d52fd67",
   "metadata": {},
   "outputs": [
    {
     "name": "stdout",
     "output_type": "stream",
     "text": [
      "Enter a sentence : Python is fun!\n",
      "{'P': 1, 'y': 1, 't': 1, 'h': 1, 'o': 1, 'n': 2, ' ': 2, 'i': 1, 's': 1, 'f': 1, 'u': 1, '!': 1} "
     ]
    }
   ],
   "source": [
    "sen = input(\"Enter a sentence : \")\n",
    "\n",
    "dic = dict() # 비어있는 딕셔너리를 만듦\n",
    "for i in sen:  # 입력한 문장을 하나씩 넣기 시작\n",
    "    if i in dic:   # 알파벳이 현재 딕셔너리에 있는지 없는지 확인\n",
    "        dic[i] = dic[i] +1   # 있는 알파벳이면 1씩 더해줌\n",
    "    else:\n",
    "        dic[i] = 1  # 없을 경우 그냥 1을 넣어줌\n",
    "print(dic, end =' ')"
   ]
  },
  {
   "cell_type": "code",
   "execution_count": 19,
   "id": "4760e5eb",
   "metadata": {},
   "outputs": [
    {
     "name": "stdout",
     "output_type": "stream",
     "text": [
      "Enter a sentence : Python is fun!\n",
      "{'i': 1, '!': 1, 'u': 1, 'P': 1, 't': 1, 'n': 2, 'o': 1, ' ': 2, 's': 1, 'h': 1, 'y': 1, 'f': 1} "
     ]
    }
   ],
   "source": [
    "sen = input(\"Enter a sentence : \")\n",
    "\n",
    "dic = dict()\n",
    "\n",
    "for i in set(sen):  # set을 하는 이유는 안하면 이미 반복되는거 알고 있어서 set으로 중복된거 없애줌\n",
    "    dic[i] = sen.count(i)  # 카운트함수를 사용\n",
    " \n",
    "    \n",
    "print(dic, end =' ')"
   ]
  },
  {
   "cell_type": "markdown",
   "id": "dc9e4227",
   "metadata": {},
   "source": [
    "# 과제실습4"
   ]
  },
  {
   "cell_type": "markdown",
   "id": "7bc41c71",
   "metadata": {},
   "source": [
    "### 실습 1\n",
    "파일에 있는 각각의 단어 수 구하기\n",
    "\n",
    "<test.txt>\n",
    "\n",
    "first line\n",
    "second line\n",
    "third line"
   ]
  },
  {
   "cell_type": "code",
   "execution_count": 37,
   "id": "5e72bf25",
   "metadata": {},
   "outputs": [
    {
     "name": "stdout",
     "output_type": "stream",
     "text": [
      "third 1\n",
      "line 3\n",
      "second 1\n",
      "first 1\n"
     ]
    }
   ],
   "source": [
    "file = open('test.txt', 'r')  # 파일을 읽기모드로 연다.\n",
    "\n",
    "data = file.read()   # 파일을 전부 읽음\n",
    "data_list = data.split()  # 공백 단위로 분리\n",
    "dic = dict()  # 빈 딕셔너리 \n",
    "set_data_list = set(data_list)  # 딕셔너리 중복 값들을 제외함\n",
    "\n",
    "for i in set_data_list:  # 제외한 부분들을 \n",
    "    dic[i] = data_list.count(i)  #count를 이용하여 수를 세줌\n",
    "    \n",
    "for key, val in dic.items():  # 키값과 value값 출력\n",
    "    print(key, val)\n",
    "file.close()"
   ]
  },
  {
   "cell_type": "markdown",
   "id": "68c975f5",
   "metadata": {},
   "source": [
    "### 실습2\n",
    "파일명을 입력 받아, 해당 파일을 한 줄씩 읽어 파일의 내용을 모두 대문자로 출력하는 프로그램을 작성하시오. 단, 파일이 없는 경우 '파일이 존재하지 않는다' 정도의 아래 메세지를 출력할 것!"
   ]
  },
  {
   "cell_type": "code",
   "execution_count": 40,
   "id": "3822f371",
   "metadata": {},
   "outputs": [],
   "source": [
    "import os"
   ]
  },
  {
   "cell_type": "code",
   "execution_count": 48,
   "id": "66bd1ffa",
   "metadata": {},
   "outputs": [
    {
     "name": "stdout",
     "output_type": "stream",
     "text": [
      "Enter a file name : test.txt\n",
      "FIRST LINE\n",
      "\n",
      "SECOND LINE\n",
      "\n",
      "THIRD LINE\n",
      "\n"
     ]
    }
   ],
   "source": [
    "filename  = input(\"Enter a file name : \")\n",
    "\n",
    "if os.path.exists(filename) == True:  # 파일이 존재하는지 안하는지 여부\n",
    "    fr = open(filename, 'r')  # 입력받은 파일을 읽기모드로 연다.\n",
    "    for i in fr:\n",
    "        print(i.upper())  # 대문자로 출력한다.\n",
    "else:\n",
    "    print(\"파일이 존재하지 않는다.\")\n",
    "\n",
    "fr.close()"
   ]
  },
  {
   "cell_type": "markdown",
   "id": "95da1b3f",
   "metadata": {},
   "source": [
    "### 실습4\n",
    "아래의 score.txt 를 읽어서 학생들의 성적을 처리하여 그 결과를 report.txt로 출력하는 프로그램을 작성하시오.\n",
    "\n",
    "(총점) 중간고사 40% 기말고사 60%\n",
    "\n"
   ]
  },
  {
   "cell_type": "code",
   "execution_count": 157,
   "id": "28294bce",
   "metadata": {},
   "outputs": [],
   "source": [
    "file1 = open('score.txt', 'r')  # 파일을 읽기모드로 읽어온다.\n",
    "\n",
    "data = file1.readlines()  # 모든 라인을 한꺼번에 읽어온다.\n",
    "students = [] # 비어있는 리스트 만들기\n",
    "\n",
    "\n",
    "for line in data:\n",
    "    line = line.strip() # data를 출력해보면 \\n 이 출력됨. strip 함수를 써서 \\n 제거\n",
    "    lines = line.split() # 공백단위로 분리하여 리스트로 저장\n",
    "    \n",
    "    content = dict()  # 빈 딕셔너리 만듦\n",
    "    content['id'] = lines[0]   #lines의 0번째 값을 키값인 id의 value값으로 저장\n",
    "    content['mid'] = int(lines[1])  #lines의 1번째 값을 키값인 mid의 value값으로 저장\n",
    "    content['final'] = int(lines[2]) #lines의 2번째 값을 키값인 final의 value값으로 저장\n",
    "                                     # mid와 final은 계산이 필요하므로 int형 변환\n",
    "    students.append(content) #딕셔너리로 만든 것들을 모두 한 리스트에 추가한다.\n",
    "\n",
    "    \n",
    "# students 리스트에서 차례대로 한 딕셔너리에 총점과 학점을 추가합니다  \n",
    "for i in students: \n",
    "    i['sum'] = i['mid']* 0.4 + i['final']* 0.6 # 총점 구하는 식\n",
    "    if i['sum'] >= 90:\n",
    "        i['grade'] = '(A)'\n",
    "    elif i['sum'] >= 80 and i['sum'] < 90:\n",
    "        i['grade'] = '(B)'\n",
    "    elif i['sum'] >= 70 and i['sum'] < 80:\n",
    "        i['grade'] = '(C)'\n",
    "    elif i['sum'] >= 60 and i['sum'] < 70:\n",
    "        i['grade'] = '(C)'\n",
    "    else:\n",
    "        i['grade'] = '(F)'\n",
    "\n",
    "\n",
    "file2 = open('report.txt', 'w') # report.txt에 쓰기모드로 열어줌\n",
    "\n",
    "# write를 이용해서 매개변수로 파일에 넣을 문자열을 받는다. \n",
    "for stu in students:\n",
    "    file2.write(stu['id']+\" \"+str(stu['mid'])+\" \"+ str(stu['final'] )+\" \"+ str(stu['sum']) +str(stu['grade'])+'\\n')\n",
    "    \n",
    "file1.close()\n",
    "file2.close()"
   ]
  },
  {
   "cell_type": "code",
   "execution_count": null,
   "id": "3d0013ae",
   "metadata": {},
   "outputs": [],
   "source": []
  },
  {
   "cell_type": "code",
   "execution_count": null,
   "id": "114fe87d",
   "metadata": {},
   "outputs": [],
   "source": []
  }
 ],
 "metadata": {
  "kernelspec": {
   "display_name": "Python 3",
   "language": "python",
   "name": "python3"
  },
  "language_info": {
   "codemirror_mode": {
    "name": "ipython",
    "version": 3
   },
   "file_extension": ".py",
   "mimetype": "text/x-python",
   "name": "python",
   "nbconvert_exporter": "python",
   "pygments_lexer": "ipython3",
   "version": "3.8.8"
  }
 },
 "nbformat": 4,
 "nbformat_minor": 5
}
