{
 "cells": [
  {
   "cell_type": "markdown",
   "id": "6899ee72",
   "metadata": {},
   "source": [
    "# 함수"
   ]
  },
  {
   "cell_type": "markdown",
   "id": "d6c81093",
   "metadata": {},
   "source": [
    "### 과제1"
   ]
  },
  {
   "cell_type": "code",
   "execution_count": 249,
   "id": "312c41d5",
   "metadata": {},
   "outputs": [
    {
     "name": "stdout",
     "output_type": "stream",
     "text": [
      "13는 소수입니다\n",
      "15는 소수가 아닙니다\n"
     ]
    }
   ],
   "source": [
    "def check_prime(num):  # 소수는 1과 자신만으로 나누어 떨어지는 것\n",
    "    for i in range(2, num):  \n",
    "        if num % i ==0:  # 숫자를 2부터 숫자보다 하나 작은 수와 차례대로 나눈 다음,\n",
    "            return False  # 나누어 떨어지면 소수가 아니다\n",
    "            \n",
    "    return True  # false가 리턴되지 않고 for문을 나오면 true출력\n",
    "\n",
    "\n",
    "def main():\n",
    "    a = 13\n",
    "    b = 15 \n",
    "    if check_prime(a):\n",
    "         print(str(a) + '는 소수입니다')\n",
    "    else:\n",
    "        print(str(a) + '는 소수가 아닙니다')\n",
    "\n",
    "    if check_prime(b):\n",
    "        print(str(b) + '는 소수입니다')\n",
    "    else:\n",
    "        print(str(b) + '는 소수가 아닙니다')\n",
    "\n",
    "main()"
   ]
  },
  {
   "cell_type": "markdown",
   "id": "89c2b9f4",
   "metadata": {},
   "source": [
    "### 과제2"
   ]
  },
  {
   "cell_type": "code",
   "execution_count": 250,
   "id": "d4472faf",
   "metadata": {},
   "outputs": [
    {
     "name": "stdout",
     "output_type": "stream",
     "text": [
      "1,234\n",
      "12,345,678\n",
      "12\n"
     ]
    }
   ],
   "source": [
    "def add_comma(val):\n",
    "    val = str(val)\n",
    "    if len(val) <= 3:  # 길이가 3보다 작으면 그대로 출력 \n",
    "           return val\n",
    "    else:\n",
    "        return add_comma(val[:-3]) + ',' + val[-3:]\n",
    "           # 재귀함수를 이용하여 콤마 찍기\n",
    "\n",
    "def main():\n",
    "    comma_added_1234 = add_comma(1234)\n",
    "    comma_added_12345678 = add_comma(12345678)\n",
    "    comma_added_12 = add_comma(12)\n",
    "    \n",
    "    print(comma_added_1234)\n",
    "    print(comma_added_12345678)\n",
    "    print(comma_added_12)\n",
    "    \n",
    "main()"
   ]
  },
  {
   "cell_type": "markdown",
   "id": "22402ada",
   "metadata": {},
   "source": [
    "### 과제3"
   ]
  },
  {
   "cell_type": "code",
   "execution_count": 251,
   "id": "2f717bbd",
   "metadata": {},
   "outputs": [
    {
     "name": "stdout",
     "output_type": "stream",
     "text": [
      "['There ', 'was ', 'a ', 'farmer ', 'who ', 'had ', 'a ', 'dog ', '. ']\n",
      "['There was ', 'was a ', 'a farmer ', 'farmer who ', 'who had ', 'had a ', 'a dog ', 'dog . ']\n"
     ]
    }
   ],
   "source": [
    "def tokenize(trg, N=1):\n",
    "    \n",
    "    senten=[]  # 문장을 담을 빈 리스트 생성\n",
    "    result = trg.split()  # 들어올 문장을 공백으로 분리\n",
    "    for i in range(len(result)-(N-1)):  # N에 따라 for문이 돌아가는 값이 달라짐\n",
    "        temp = ''   # 문장을 담을 빈 공간 생성\n",
    "        for j in range(N):  # N의 크기에 따라 돌아가는 횟수가 달라진다.  \n",
    "            temp += result[i+j] + ' '          # N이 2이면 각 인덱싱이 두개씩 묶여서 추가됨\n",
    "        senten.append(temp)\n",
    "        \n",
    "    return senten\n",
    "        \n",
    "        \n",
    "def main():\n",
    "    a = 'There was a farmer who had a dog .'\n",
    "    print(tokenize(a))\n",
    "    print(tokenize(a, 2))\n",
    "    \n",
    "    \n",
    "main()"
   ]
  },
  {
   "cell_type": "markdown",
   "id": "5617defb",
   "metadata": {},
   "source": [
    "### 과제4"
   ]
  },
  {
   "cell_type": "code",
   "execution_count": 252,
   "id": "b5b88c38",
   "metadata": {},
   "outputs": [
    {
     "name": "stdout",
     "output_type": "stream",
     "text": [
      "평균:  [0.5, 0.5]\n",
      "분산:  [0.16666666666666666, 0.16666666666666666]\n"
     ]
    }
   ],
   "source": [
    "def mean_and_var(*val):\n",
    "    \n",
    "    avg=[]  # 평균을 담을 빈 리스트\n",
    "    var=[] # 분산을 담을 빈 리스트\n",
    "    for i in range(len(val[0])):\n",
    "        sum_ = 0\n",
    "        for j in range(len(val)): # 들어오는 val개수-1 만큼 돌아감\n",
    "            sum_ += val[j][i]  # val[0][0] = 0 , val[0][1] = 1\n",
    "        avg.append((sum_ / len(val)))\n",
    "# avg[0] = (val[0][1] + val[1][0] +  val[2][0] ) / 3\n",
    "# avg[1] = (val[0][1] + val[1][1] +  val[2][1] ) / 3\n",
    "\n",
    "    for i in range(len(val[0])):\n",
    "        eee = 0\n",
    "        for j in range(len(val)): \n",
    "            eee += (val[j][i] - avg[i]) **2  # 분산 구하는식 =각 수에서 평균을 뺸 값의 제곱들의 합\n",
    "    \n",
    "        var.append(eee / len(val))\n",
    "        \n",
    "    return avg, var\n",
    "\n",
    "def main():\n",
    "    v1 = (0,1)\n",
    "    v2 = (0.5, 0.5)\n",
    "    v3 = (1,0)\n",
    "    \n",
    "    m, var = mean_and_var(v1, v2, v3)\n",
    "    print('평균: ', m)\n",
    "    print('분산: ', var)\n",
    "\n",
    "main()"
   ]
  }
 ],
 "metadata": {
  "kernelspec": {
   "display_name": "Python 3",
   "language": "python",
   "name": "python3"
  },
  "language_info": {
   "codemirror_mode": {
    "name": "ipython",
    "version": 3
   },
   "file_extension": ".py",
   "mimetype": "text/x-python",
   "name": "python",
   "nbconvert_exporter": "python",
   "pygments_lexer": "ipython3",
   "version": "3.8.8"
  }
 },
 "nbformat": 4,
 "nbformat_minor": 5
}
